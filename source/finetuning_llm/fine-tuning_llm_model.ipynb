{
 "cells": [
  {
   "cell_type": "markdown",
   "metadata": {},
   "source": [
    "# Before fine-tuning"
   ]
  },
  {
   "cell_type": "markdown",
   "metadata": {},
   "source": [
    "### Data format\n",
    "- phải ở dạng jsonl\n",
    "- là một danh sách chứa các messages, trong đó chứa role và content\n",
    "- (là một danh sách các đối tượng messages, trong đó một message chứa một danh sách các phiên trò chuyện -> xem ví dụ bên dưới)\n",
    "- role chỉ chấp nhận ba trường hợp: system, user, chatbot\n",
    "- content chứa nội dung của message cụ thể\n",
    "\n",
    "### Data Requirements\n",
    "để vượt qua các bài kiểm tra xác thực mà cohere thực hiện trên dữ liệu đã tải lên, phải đảm bảo rằng:\n",
    "- chỉ có 3 role chuẩn được chấp nhận kể trên\n",
    "- user phải có ít nhất một trường hợp của chatbot và người dùng\n",
    "- phần mở đầu phải được tải lên làm tin nhắn đầu tiên trong cuộc trò chuyện, với vai trò role: system (1)\n",
    "- tất cả các tin nhắn khác có vai trò role: system, sẽ được coi là người nói trong cuộc trò chuyện (1)\n",
    "(1) hai mục này ý nói đến, trong một message, role system đầu tiên phải được tải lên, các role system khác có sau đó (có thể không cần thiết) nếu có thì sẽ được xem như là một speaker\n",
    "- mỗi phiên trò chuyện (message), ngữ cảnh không dài quá 16348 tokens để tránh bị loại khỏi tập dữ liệu\n",
    "- dữ liệu mã hóa dạng utf-8\n",
    "- `Dữ liệu của bạn phải nằm trong tệp .jsonl, trong đó mỗi đối tượng json là một cuộc hội thoại có cấu trúc sau:`\n",
    "{\n",
    "  \"messages\": [\n",
    "\n",
    "        {\n",
    "        \"role\": \"system\",\n",
    "        \"content\": \"You are a chatbot trained to answer to my every question.\"\n",
    "        },\n",
    "\n",
    "        {\n",
    "        \"role\": \"user\",\n",
    "        \"content\": \"Hello\"\n",
    "        },\n",
    "\n",
    "        {\n",
    "        \"role\": \"chatbot\",\n",
    "        \"content\": \"Greetings! How can I help you?\"\n",
    "        }, ...\n",
    "\n",
    "  ]\n",
    "}\n",
    "\n",
    "\n",
    "\n",
    "### Evaluation Datasets\n",
    "- dữ liệu evaludate được dùng để đánh giá hiệu suất mô hình đào tạo\n",
    "- có thể cung cấp dữ liệu đánh giá riêng biệt hoặc cho phép tự chia theo tỉ lệ"
   ]
  },
  {
   "cell_type": "markdown",
   "metadata": {},
   "source": [
    "### Create a Dataset with the Python SDK\n",
    "(nếu tải dataset lên bằng UI thì bỏ qua phần này)"
   ]
  },
  {
   "cell_type": "code",
   "execution_count": null,
   "metadata": {},
   "outputs": [],
   "source": [
    "import cohere\n",
    "\n",
    "# instantiate the Cohere client\n",
    "co = cohere.ClientV2(\"YOUR_API_KEY\")\n",
    "\n",
    "chat_dataset = co.datasets.create(\n",
    "    name=\"chat-dataset\",\n",
    "    data=open(\"path/to/train.jsonl\", \"rb\"),\n",
    "    type=\"chat-finetune-input\",\n",
    ")\n",
    "print(co.wait(chat_dataset))\n",
    "\n",
    "chat_dataset_with_eval = co.datasets.create(\n",
    "    name=\"chat-dataset-with-eval\",\n",
    "    data=open(\"path/to/train.jsonl\", \"rb\"),\n",
    "    eval_data=open(\"path/to/eval.jsonl\", \"rb\"),\n",
    "    type=\"chat-finetune-input\",\n",
    ")\n",
    "print(co.wait(chat_dataset_with_eval))\n"
   ]
  },
  {
   "cell_type": "markdown",
   "metadata": {},
   "source": [
    "### Parameters"
   ]
  },
  {
   "cell_type": "markdown",
   "metadata": {},
   "source": [
    "`hyperparameters (cohere.finetuning.Hyperparameters)` được dùng để điều chỉnh siêu tham số cho quá trình huấn luyện\n",
    "- train_epochs (int)\n",
    "- learning_rate (float)\n",
    "- train_batch_size (int)\n",
    "- early_stopping_threshold (float)\n",
    "- early_stopping_patience (int)"
   ]
  },
  {
   "cell_type": "markdown",
   "metadata": {},
   "source": [
    "### Code example"
   ]
  },
  {
   "cell_type": "code",
   "execution_count": null,
   "metadata": {},
   "outputs": [],
   "source": [
    "import getpass\n",
    "import cohere\n",
    "from cohere.finetuning import (\n",
    "    Hyperparameters,\n",
    "    Settings,\n",
    "    FinetunedModel,\n",
    "    BaseModel,\n",
    "    WandbConfig,\n",
    ")\n",
    "\n",
    "cohere_api_key = getpass.getpass(\"Enter your Cohere API key: \")\n",
    "co = cohere.ClientV2(cohere_api_key)"
   ]
  },
  {
   "cell_type": "code",
   "execution_count": null,
   "metadata": {},
   "outputs": [],
   "source": [
    "chat_dataset = co.datasets.create(\n",
    "    name=\"medical_dataset\",\n",
    "    data=open(\"..\\\\..\\\\datasets\\\\final_dataset\\\\medical_dataset.jsonl\", \"rb\"),\n",
    "    eval_data=open(\"..\\\\..\\\\datasets\\\\final_dataset\\\\medical_dataset_validation.jsonl\", \"rb\"),\n",
    "    type=\"chat-finetune-input\",\n",
    ")\n",
    "\n",
    "print(co.wait(chat_dataset))"
   ]
  },
  {
   "cell_type": "code",
   "execution_count": null,
   "metadata": {},
   "outputs": [],
   "source": [
    "# optional (define custom hyperparameters)\n",
    "hp = Hyperparameters(\n",
    "    early_stopping_patience=3,\n",
    "    early_stopping_threshold=0.001,\n",
    "    train_batch_size=16,\n",
    "    train_epochs=8,\n",
    "    learning_rate=0.01,\n",
    ")\n",
    "\n",
    "# optional (define wandb configuration)\n",
    "wnb_config = WandbConfig(\n",
    "    project=\"chatdoctor_assistant\",\n",
    "    api_key=\"<<wandbApiKey>>\",\n",
    "    entity=\"test-entity\",\n",
    ")\n",
    "\n",
    "create_response = co.finetuning.create_finetuned_model(\n",
    "    request=FinetunedModel(\n",
    "        name=\"customer-service-chat-model\",\n",
    "        settings=Settings(\n",
    "            base_model=BaseModel(\n",
    "                base_type=\"BASE_TYPE_CHAT\",\n",
    "            ),\n",
    "            dataset_id=chat_dataset.id,\n",
    "            hyperparameters=hp,\n",
    "            wandb=wnb_config,\n",
    "        ),\n",
    "    ),\n",
    ")"
   ]
  },
  {
   "cell_type": "markdown",
   "metadata": {},
   "source": [
    "# Fine-tuning LLM model"
   ]
  },
  {
   "cell_type": "code",
   "execution_count": null,
   "metadata": {},
   "outputs": [],
   "source": []
  },
  {
   "cell_type": "markdown",
   "metadata": {},
   "source": [
    "# Calling your Chat Model with co.chat()"
   ]
  },
  {
   "cell_type": "code",
   "execution_count": null,
   "metadata": {},
   "outputs": [],
   "source": [
    "import cohere\n",
    "\n",
    "co = cohere.ClientV2(\"Your API key\")\n",
    "# get the fine-tuned model object\n",
    "get_response = co.finetuning.get_finetuned_model(\n",
    "    create_response.finetuned_model.id\n",
    ")\n",
    "\n",
    "response = co.chat(\n",
    "    model=get_response.finetuned_model.id + \"-ft\",\n",
    "    # Required - user message. Optional (to specify a preamble/system message)\n",
    "    messages=[\n",
    "        {\n",
    "            \"role\": \"system\",\n",
    "            \"content\": \"You are a chatbot trained to answer to my every question. Answer every question with full sentences.\",\n",
    "        },\n",
    "        {\"role\": \"user\", \"content\": \"Hi there\"},\n",
    "    ],\n",
    "    # optional\n",
    "    return_prompt=True,\n",
    ")\n",
    "\n",
    "# Printing the model's response.\n",
    "print(response.message.content[0].text)\n"
   ]
  },
  {
   "cell_type": "markdown",
   "metadata": {},
   "source": [
    "sau tin nhắn đầu tiên với mô hình, có thể tiếp tục xây dựng sanh sách các tin nhắn trước đó để tiếp tục hội thoại, như sau:"
   ]
  },
  {
   "cell_type": "code",
   "execution_count": null,
   "metadata": {},
   "outputs": [],
   "source": [
    "# Continuing the above conversation with `response.id`.\n",
    "response_2 = co.chat(\n",
    "    model=get_response.finetuned_model.id + \"-ft\",\n",
    "    # optional (to specify a preamble)\n",
    "    messages=[\n",
    "        {\n",
    "            \"role\": \"system\",\n",
    "            \"content\": \"You are an assistant trained to answer my questions. Answer in complete sentences.\",\n",
    "        },\n",
    "        {\"role\": \"user\", \"content\": \"Hi there\"},\n",
    "        {\n",
    "            \"role\": \"assistant\",\n",
    "            \"content\": response.message.content[0].text,\n",
    "        },\n",
    "        {\"role\": \"user\", \"content\": \"How are you?\"},\n",
    "    ],\n",
    ")\n"
   ]
  }
 ],
 "metadata": {
  "kernelspec": {
   "display_name": "Python 3",
   "language": "python",
   "name": "python3"
  },
  "language_info": {
   "codemirror_mode": {
    "name": "ipython",
    "version": 3
   },
   "file_extension": ".py",
   "mimetype": "text/x-python",
   "name": "python",
   "nbconvert_exporter": "python",
   "pygments_lexer": "ipython3",
   "version": "3.12.9"
  }
 },
 "nbformat": 4,
 "nbformat_minor": 2
}
