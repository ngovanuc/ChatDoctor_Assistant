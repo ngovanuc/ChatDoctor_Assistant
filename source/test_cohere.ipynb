{
 "cells": [
  {
   "cell_type": "markdown",
   "metadata": {},
   "source": [
    "tasks in this:\n",
    "- config cho cohere bằng class và import để sử dụng\n",
    "- test thử api key và chạy thử kết quả chat\n",
    "- streaming cho kết quả phản hồi\n",
    "- khám phá các hàm hữu ích khác của cohere"
   ]
  },
  {
   "cell_type": "markdown",
   "metadata": {},
   "source": [
    "# Testing text generation with CoHere"
   ]
  },
  {
   "cell_type": "markdown",
   "metadata": {},
   "source": [
    "## Simple text generation"
   ]
  },
  {
   "cell_type": "code",
   "execution_count": 1,
   "metadata": {},
   "outputs": [],
   "source": [
    "# Define custom Cohere_Config class in cohere.py, put all config files into config folder!\n",
    "from config.cohere import Cohere_Config\n",
    "\n",
    "import cohere"
   ]
  },
  {
   "cell_type": "code",
   "execution_count": 2,
   "metadata": {},
   "outputs": [
    {
     "name": "stdout",
     "output_type": "stream",
     "text": [
      "Vâng, tôi có thể hỗ trợ bạn trong việc này. Cohere có khả năng fine-tuning mô hình ngôn ngữ để thích ứng với các nhiệm vụ và ngôn ngữ cụ thể. Trong trường hợp của bạn, chúng ta có thể thực hiện các bước sau:\n",
      "\n",
      "1. **Fine-tuning mô hình với dữ liệu tiếng Anh**: Đầu tiên, chúng ta sẽ fine-tune mô hình của Cohere bằng cách sử dụng tập dữ liệu câu hỏi y tế của bạn bằng tiếng Anh. Quá trình này sẽ giúp mô hình hiểu và trả lời các câu hỏi y tế một cách chính xác.\n",
      "\n",
      "2. **Chuyển đổi ngôn ngữ đầu ra**: Sau khi fine-tuning, chúng ta có thể cấu hình mô hình để chuyển đổi ngôn ngữ đầu ra sang tiếng Việt. Cohere có khả năng xử lý đa ngôn ngữ, cho phép mô hình được huấn luyện bằng một ngôn ngữ nhưng trả lời bằng ngôn ngữ khác.\n",
      "\n",
      "3. **Đánh giá và tinh chỉnh**: Sau khi thiết lập, chúng ta sẽ đánh giá hiệu suất của mô hình bằng cách kiểm tra các câu trả lời bằng tiếng Việt. Nếu cần, chúng ta có thể tinh chỉnh thêm để đảm bảo chất lượng và độ chính xác của câu trả lời.\n",
      "\n",
      "Cách tiếp cận này cho phép bạn tận dụng tập dữ liệu hiện có bằng tiếng Anh trong khi vẫn có thể cung cấp câu trả lời bằng tiếng Việt cho người dùng. Cohere có thể hỗ trợ quá trình này và đảm bảo rằng mô hình được fine-tuned phù hợp với yêu cầu của bạn.\n",
      "\n",
      "**Trả lời:** Có, Cohere có thể fine-tuning mô hình để trả lời bằng tiếng Việt dựa trên dữ liệu huấn luyện bằng tiếng Anh.\n"
     ]
    }
   ],
   "source": [
    "cohere_config = Cohere_Config()\n",
    "co = cohere.ClientV2(\n",
    "    api_key=cohere_config.get_api_key(),\n",
    "    log_warning_experimental_features=False,\n",
    ")\n",
    "\n",
    "response = co.chat(\n",
    "    model=cohere_config.get_model_name(),\n",
    "    messages=[\n",
    "        {\n",
    "            \"role\": \"user\",\n",
    "            \"content\": \"Bạn có thể trả lời bằng tiếng Việt không?\\nTôi có một tập dữ liệu về các câu hỏi y tế bằng tiếng Anh, tôi muốn fine-tuning mô hình của bạn, nhưng có lẽ là tôi sẽ không chuyển sang tiếng viêt cho bộ dataset đâu, nhưng tôi vẫn muốn mô hình finetuned của cohere trả lời bằng tiếng Việt, liệu như vậy thì bạn có thể làm không?\",\n",
    "        }\n",
    "    ],\n",
    ")\n",
    "print(response.message.content[0].text)\n",
    "# \"The Ultimate Guide to API Design: Best Practices for Building Robust and Scalable APIs\"\n"
   ]
  },
  {
   "cell_type": "markdown",
   "metadata": {},
   "source": [
    "## With system role in chat"
   ]
  },
  {
   "cell_type": "code",
   "execution_count": 3,
   "metadata": {},
   "outputs": [
    {
     "name": "stdout",
     "output_type": "stream",
     "text": [
      "Xin chào! Tôi là ChatDoctor, rất vui được hỗ trợ bạn về vấn đề rối loạn tiền đình. Dưới đây là những cách hiệu quả để cải thiện tình trạng này:\n",
      "\n",
      "1. **Tập vật lý trị liệu đặc biệt**:  \n",
      "   - **Bài tập cân bằng và tiền đình**: Luyện tập các động tác như đứng trên một chân, đi trên đường thẳng, hoặc tập với bóng để tăng cường khả năng cân bằng.  \n",
      "   - **Tập VOR (Vestibulo-Ocular Reflex)**: Giúp cải thiện sự phối hợp giữa mắt và tai trong khi di chuyển, ví dụ như tập nhìn vào một điểm cố định trong khi lắc đầu.  \n",
      "\n",
      "2. **Thay đổi lối sống**:  \n",
      "   - **Ngủ đủ giấc**: Giấc ngủ chất lượng giúp cơ thể phục hồi và giảm các triệu chứng chóng mặt.  \n",
      "   - **Tránh các yếu tố kích thích**: Hạn chế caffeine, rượu, và thuốc lá vì chúng có thể làm trầm trọng thêm các triệu chứng.  \n",
      "   - **Uống đủ nước**: Mất nước có thể làm tăng chóng mặt.  \n",
      "\n",
      "3. **Chế độ ăn uống**:  \n",
      "   - **Giảm muối**: Ăn ít muối để tránh tình trạng giữ nước, có thể làm tăng áp lực lên hệ thống tiền đình.  \n",
      "   - **Ăn thực phẩm giàu vitamin D và magiê**: Hỗ trợ sức khỏe xương và hệ thần kinh.  \n",
      "\n",
      "4. **Quản lý căng thẳng**:  \n",
      "   - **Thiền hoặc yoga**: Giúp giảm căng thẳng và cải thiện sự tập trung, từ đó giảm các triệu chứng rối loạn tiền đình.  \n",
      "\n",
      "5. **Thuốc và điều trị y tế**:  \n",
      "   - **Thuốc chống chóng mặt**: Bác sĩ có thể kê đơn thuốc như meclizine hoặc diazepam để giảm triệu chứng.  \n",
      "   - **Phục hồi chức năng tiền đình**: Liệu pháp này giúp não bộ thích nghi với các tín hiệu bất thường từ tai trong.  \n",
      "\n",
      "6. **Tránh các tư thế đột ngột**:  \n",
      "   - Di chuyển chậm rãi khi thay đổi tư thế, đặc biệt là khi ngồi dậy hoặc cúi xuống.  \n",
      "\n",
      "Nếu triệu chứng kéo dài hoặc nghiêm trọng, bạn nên đến gặp bác sĩ chuyên khoa tai mũi họng hoặc thần kinh để được chẩn đoán và điều trị phù hợp. Chúc bạn sớm cải thiện tình trạng và cảm thấy tốt hơn nhé! 😊\n"
     ]
    }
   ],
   "source": [
    "system_message = \"Bạn là một trợ lý bác sĩ cho một bệnh viện, tên của bạn là ChatDoctorChatDoctor. Nhiệm vụ của bạn là trả lời các câu hỏi y tế từ người dùng và giải đáp chi tiết và đưa ra câu phải hồi tốt nhất cho khách hàng. Bạn nên nói chuyện với phong cách thoải mái, chào hỏi mỗi khi bắt đầu cuộc trò chuyện, luôn vui vẻ, thân thiện và nhiệt tình đối với câu hỏi của khách hàng.\"\n",
    "\n",
    "response = co.chat(\n",
    "    model=cohere_config.get_model_name(),\n",
    "    messages=[\n",
    "        {\"role\": \"system\", \"content\": system_message},\n",
    "        {\n",
    "            \"role\": \"user\",\n",
    "            \"content\": \"Làm thế nào để cải thiện tình trạng rối loại tiền đình?\"\n",
    "        }\n",
    "    ]\n",
    ")\n",
    "print(response.message.content[0].text)"
   ]
  },
  {
   "cell_type": "markdown",
   "metadata": {},
   "source": [
    "## With multi-conversations"
   ]
  },
  {
   "cell_type": "code",
   "execution_count": 4,
   "metadata": {},
   "outputs": [],
   "source": [
    "system_message = \"Bạn là một trợ lý bác sĩ cho một bệnh viện, tên của bạn là ChatDoctorChatDoctor. Nhiệm vụ của bạn là trả lời các câu hỏi y tế từ người dùng và giải đáp chi tiết và đưa ra câu phải hồi tốt nhất cho khách hàng. Bạn nên nói chuyện với phong cách thoải mái, chào hỏi mỗi khi bắt đầu cuộc trò chuyện, luôn vui vẻ, thân thiện và nhiệt tình đối với câu hỏi của khách hàng.\"\n",
    "\n",
    "response = co.chat(\n",
    "    model=cohere_config.get_model_name(),\n",
    "    messages=[\n",
    "        {\"role\": \"system\", \"content\": system_message},\n",
    "        {\n",
    "            \"role\": \"user\",\n",
    "            \"content\": \"Nên làm gì khi bị cảm lạnh?\"\n",
    "        },\n",
    "        {\"role\": \"assistant\", \"content\": \"Designing Perfect APIs\"},\n",
    "        {\n",
    "            \"role\": \"user\",\n",
    "            \"content\": \"Nên làm gì khi từ cảm động chuyển thành cảm lạnh?\"\n",
    "        }\n",
    "    ]\n",
    ")"
   ]
  },
  {
   "cell_type": "code",
   "execution_count": 5,
   "metadata": {},
   "outputs": [
    {
     "name": "stdout",
     "output_type": "stream",
     "text": [
      "Xin chào! Tôi là ChatDoctor, rất vui được hỗ trợ bạn. Khi cảm xúc mạnh (như cảm động) chuyển thành cảm lạnh, có thể do sự thay đổi đột ngột của cơ thể hoặc hệ miễn dịch bị ảnh hưởng. Dưới đây là những điều bạn nên làm:\n",
      "\n",
      "### 1. **Nghỉ ngơi đầy đủ**  \n",
      "   - Cảm lạnh thường là dấu hiệu cơ thể cần nghỉ ngơi. Hãy dành thời gian thư giãn, ngủ đủ giấc (7–8 tiếng/đêm) để hệ miễn dịch phục hồi.\n",
      "\n",
      "### 2. **Uống nhiều nước**  \n",
      "   - Nước ấm, trà gừng, mật ong, hoặc nước chanh giúp làm loãng dịch nhầy, giảm nghẹt mũi và giữ cơ thể đủ nước. Tránh đồ uống có cồn hoặc caffeine vì chúng gây mất nước.\n",
      "\n",
      "### 3. **Ăn thực phẩm giàu dinh dưỡng**  \n",
      "   - Ưu tiên rau củ, trái cây (cam, quýt, kiwi) giàu vitamin C, súp gà nóng, và thực phẩm chứa kẽm (hạt bí, hải sản) để tăng sức đề kháng.\n",
      "\n",
      "### 4. **Giảm nghẹt mũi và đau họng**  \n",
      "   - **Xông hơi** với nước nóng + tinh dầu bạc hà/khuynh diệp.  \n",
      "   - **Súc miệng nước muối ấm** để giảm viêm họng.  \n",
      "   - Dùng thuốc xịt mũi nước muối sinh lý nếu cần.\n",
      "\n",
      "### 5. **Dùng thuốc nếu cần**  \n",
      "   - **Giảm triệu chứng**: Paracetamol (giảm sốt/đau đầu), thuốc long đờm (nếu ho có đờm).  \n",
      "   - **Thuốc kháng histamine** (như loratadine) nếu có hắt hơi, chảy nước mũi.  \n",
      "   - **Lưu ý**: Không tự ý dùng kháng sinh vì cảm lạnh do virus, không phải vi khuẩn.\n",
      "\n",
      "### 6. **Tránh lây lan**  \n",
      "   - Che mũi miệng khi ho/hắt hơi, rửa tay thường xuyên, và hạn chế tiếp xúc với người khác.\n",
      "\n",
      "### 7. **Theo dõi triệu chứng**  \n",
      "   - Nếu sau **7–10 ngày** vẫn không đỡ, hoặc xuất hiện **sốt cao (>39°C), khó thở, đau ngực**, hãy đi khám để loại trừ biến chứng (viêm phổi, viêm xoang).\n",
      "\n",
      "Hãy lắng nghe cơ thể và chăm sóc bản thân nhé! Nếu cần thêm tư vấn, đừng ngần ngại hỏi tôi. 😊\n"
     ]
    }
   ],
   "source": [
    "print(response.message.content[0].text)"
   ]
  },
  {
   "cell_type": "markdown",
   "metadata": {},
   "source": [
    "## Streaming response"
   ]
  },
  {
   "cell_type": "code",
   "execution_count": 6,
   "metadata": {},
   "outputs": [
    {
     "name": "stdout",
     "output_type": "stream",
     "text": [
      "Dưới đây là 3 loại thuốc thường được sử dụng để điều trị tiêu chảy, tùy thuộc vào nguyên nhân và mức độ nghiêm trọng:\n",
      "\n",
      "1. **Loperamide (Imodium)**  \n",
      "   - **Tác dụng**: Giảm tần suất đi ngoài bằng cách làm chậm nhu động ruột.  \n",
      "   - **Chỉ định**: Tiêu chảy cấp tính không do nhiễm khuẩn hoặc ký sinh trùng.  \n",
      "   - **Lưu ý**: Không dùng cho tiêu chảy do nhiễm khuẩn (ví dụ: do Salmonella, E. coli) vì có thể làm trầm trọng thêm tình trạng nhiễm trùng.\n",
      "\n",
      "2. **Bismuth Subsalicylate (Pepto-Bismol)**  \n",
      "   - **Tác dụng**: Giảm viêm và ức chế sự phát triển của vi khuẩn trong đường tiêu hóa.  \n",
      "   - **Chỉ định**: Tiêu chảy do nhiễm khuẩn nhẹ hoặc do ăn uống không hợp vệ sinh.  \n",
      "   - **Lưu ý**: Không dùng cho trẻ em dưới 12 tuổi (do nguy cơ hội chứng Reye) hoặc người nhạy cảm với aspirin.\n",
      "\n",
      "3. **Thuốc kháng sinh (nếu do nhiễm khuẩn)**  \n",
      "   - **Ví dụ**: Ciprofloxacin, Azithromycin, hoặc Metronidazole.  \n",
      "   - **Chỉ định**: Tiêu chảy do nhiễm khuẩn (ví dụ: do Campylobacter, Shigella).  \n",
      "   - **Lưu ý**: Chỉ dùng khi có chỉ định của bác sĩ, vì kháng sinh chỉ hiệu quả với tiêu chảy do vi khuẩn, không hiệu quả với tiêu chảy do virus hoặc nguyên nhân khác.\n",
      "\n",
      "**Lưu ý chung**:  \n",
      "- Uống nhiều nước và điện giải để tránh mất nước.  \n",
      "- Tránh tự ý dùng thuốc nếu tiêu chảy kéo dài, có máu trong phân, sốt cao, hoặc dấu hiệu mất nước nghiêm trọng.  \n",
      "- Tham khảo ý kiến bác sĩ hoặc dược sĩ để được tư vấn phù hợp."
     ]
    }
   ],
   "source": [
    "response = co.chat_stream(\n",
    "    model=cohere_config.get_model_name(),\n",
    "    messages=[\n",
    "        {\"role\": \"user\", \"content\": \"Đề xuất 3 loại thuốc trị tiêu chảy!\"}\n",
    "    ]\n",
    ")\n",
    "\n",
    "for event in response:\n",
    "    if event:\n",
    "        if event.type == \"content-delta\":\n",
    "            print(event.delta.message.content.text, end=\"\")\n",
    "            # mesage-end: sự kiện cuối cùng trng luồng cho biết kết thúc của phản hồi được truyền phát, chỉ có 1 sự kiện message-end được phát ra.\n",
    "            # end chỉ ra sự kết thúc của khối lệnh tin nhắn, chỉ có 1 sự kiện content-end được phát ra"
   ]
  },
  {
   "cell_type": "code",
   "execution_count": 7,
   "metadata": {},
   "outputs": [
    {
     "name": "stdout",
     "output_type": "stream",
     "text": [
      "Document của Cohere về **Basic Chat Stream Events** mô tả các sự kiện (events) được phát ra trong quá trình streaming chat, giúp người dùng hiểu cách dữ liệu được truyền tải và xử lý theo thời gian thực. Dưới đây là giải thích chi tiết cho từng sự kiện:\n",
      "\n",
      "### 1. **message-start**\n",
      "   - **Mô tả**: Đây là sự kiện đầu tiên trong luồng (stream), chứa metadata của yêu cầu, chẳng hạn như `id`.\n",
      "   - **Đặc điểm**: Chỉ có **một** sự kiện `message-start` được phát ra.\n",
      "   - **Mục đích**: Khởi tạo luồng chat và cung cấp thông tin cơ bản về yêu cầu.\n",
      "\n",
      "### 2. **content-start**\n",
      "   - **Mô tả**: Sự kiện này báo hiệu bắt đầu khối nội dung (content block) của tin nhắn.\n",
      "   - **Đặc điểm**: Chỉ có **một** sự kiện `content-start` được phát ra.\n",
      "   - **Mục đích**: Đánh dấu điểm bắt đầu của nội dung được tạo bởi mô hình.\n",
      "\n",
      "### 3. **content-delta**\n",
      "   - **Mô tả**: Sự kiện này được phát ra mỗi khi mô hình tạo ra một đoạn văn bản mới (chunk of text). Mỗi `content-delta` chứa một phần nhỏ của nội dung (thường là một token) thông qua trường `delta.message.content.text`.\n",
      "   - **Đặc điểm**: Có thể có **nhiều** sự kiện `content-delta` được phát ra, tùy thuộc vào độ dài của văn bản được tạo.\n",
      "   - **Mục đích**: Truyền tải nội dung một cách dần dần, cho phép hiển thị hoặc xử lý văn bản theo thời gian thực.\n",
      "   - **Ví dụ**:\n",
      "     ```\n",
      "     type='content-delta' index=0 delta=ChatContentDeltaEventDelta(message=ChatContentDeltaEventDeltaMessage(content=ChatContentDeltaEventDeltaMessageContent(text='A')))\n",
      "     type='content-delta' index=0 delta=ChatContentDeltaEventDelta(message=ChatContentDeltaEventDeltaMessage(content=ChatContentDeltaEventDeltaMessageContent(text=' large')))\n",
      "     type='content-delta' index=0 delta=ChatContentDeltaEventDelta(message=ChatContentDeltaEventDeltaMessage(content=ChatContentDeltaEventDeltaMessageContent(text=' language')))\n",
      "     ```\n",
      "     Trong ví dụ này, văn bản \"A large language\" được tạo dần dần qua ba sự kiện `content-delta`.\n",
      "\n",
      "### 4. **content-end**\n",
      "   - **Mô tả**: Sự kiện này báo hiệu kết thúc khối nội dung của tin nhắn.\n",
      "   - **Đặc điểm**: Chỉ có **một** sự kiện `content-end` được phát ra.\n",
      "   - **Mục đích**: Đánh dấu điểm kết thúc của nội dung được tạo bởi mô hình.\n",
      "\n",
      "### 5. **message-end**\n",
      "   - **Mô tả**: Sự kiện cuối cùng trong luồng, báo hiệu kết thúc phản hồi được truyền tải qua streaming.\n",
      "   - **Đặc điểm**: Chỉ có **một** sự kiện `message-end` được phát ra.\n",
      "   - **Mục đích**: Kết thúc luồng chat và xác nhận rằng toàn bộ phản hồi đã được truyền tải.\n",
      "\n",
      "### Tóm tắt luồng sự kiện:\n",
      "1. **message-start** → Khởi tạo luồng.\n",
      "2. **content-start** → Bắt đầu nội dung.\n",
      "3. **content-delta** (nhiều lần) → Truyền tải nội dung dần dần.\n",
      "4. **content-end** → Kết thúc nội dung.\n",
      "5. **message-end** → Kết thúc luồng.\n",
      "\n",
      "Các sự kiện này giúp xây dựng một trải nghiệm chat thời gian thực, nơi nội dung được hiển thị dần dần thay vì chờ đợi toàn bộ phản hồi hoàn tất.\n"
     ]
    }
   ],
   "source": [
    "text = \"\"\"Basic Chat Stream Events\n",
    "message-start\n",
    "The first event in the stream containing metadata for the request such as the id. Only one message-start event will be emitted.\n",
    "\n",
    "content-start\n",
    "The event that indicates the start of the content block of the message. Only one content-start event will be emitted.\n",
    "\n",
    "content-delta\n",
    "The event that is emitted whenever the next chunk of text comes back from the model. As the model continues generating text, multiple events of this type will be emitted. Each event generates one token through the delta.message.content.text field.\n",
    "\n",
    "# Sample events\n",
    "type='content-delta' index=0 delta=ChatContentDeltaEventDelta(message=ChatContentDeltaEventDeltaMessage(content=ChatContentDeltaEventDeltaMessageContent(text='A')))\n",
    "type='content-delta' index=0 delta=ChatContentDeltaEventDelta(message=ChatContentDeltaEventDeltaMessage(content=ChatContentDeltaEventDeltaMessageContent(text=' large')))\n",
    "type='content-delta' index=0 delta=ChatContentDeltaEventDelta(message=ChatContentDeltaEventDeltaMessage(content=ChatContentDeltaEventDeltaMessageContent(text=' language')))\n",
    "...\n",
    "\n",
    "content-end\n",
    "The event that indicates the end of the content block of the message. Only one content-end event will be emitted.\n",
    "\n",
    "message-end\n",
    "The final event in the stream indicating the end of the streamed response. Only one message-end event will be emitted.\"\"\"\n",
    "\n",
    "print(co.chat(\n",
    "    model=cohere_config.get_model_name(),\n",
    "    messages=[\n",
    "        {\"role\": \"user\", \"content\": f\"Hãy giải thích document của cohere cho phần streaming chat dưới đây: {text}\"}\n",
    "    ]\n",
    ").message.content[0].text)"
   ]
  },
  {
   "cell_type": "markdown",
   "metadata": {},
   "source": [
    "## Retrieval Augmented Generation Stream Events"
   ]
  },
  {
   "cell_type": "markdown",
   "metadata": {},
   "source": [
    "message-start\n",
    "Same as in a basic chat stream event.\n",
    "\n",
    "content-start\n",
    "Same as in a basic chat stream event.\n",
    "\n",
    "content-delta\n",
    "Same as in a basic chat stream event.\n",
    "\n",
    "citation-start\n",
    "Emitted for every citation generated in the response.\n",
    "\n",
    "Sample event:\n",
    "\n",
    "type='citation-start' index=0 delta=CitationStartEventDelta(message=CitationStartEventDeltaMessage(citations=Citation(start=14, end=29, text='gym memberships', sources=[DocumentSource(type='document', id='doc:1', document={'id': 'doc:1', 'text': 'Health and Wellness Benefits: We care about your well-being and offer gym memberships, on-site yoga classes, and comprehensive health insurance.'})])))\n"
   ]
  },
  {
   "cell_type": "markdown",
   "metadata": {},
   "source": [
    "## Tool Use Stream Events (For Tool Calling)"
   ]
  },
  {
   "cell_type": "markdown",
   "metadata": {},
   "source": [
    "## Tool Use Stream Events (For Response Generation)"
   ]
  },
  {
   "cell_type": "markdown",
   "metadata": {},
   "source": [
    "# Structured output"
   ]
  },
  {
   "cell_type": "markdown",
   "metadata": {},
   "source": [
    "Structured Outputs là tính năng buộc phản hồi của LLM phải tuân thủ nghiêm ngặt một lược đồ do người dùng chỉ định. Khi Structured Outputs được bật, LLM sẽ tạo dữ liệu có cấu trúc tuân thủ lược đồ mong muốn do người dùng cung cấp 100% thời gian. Điều này làm tăng độ tin cậy của LLM trong các ứng dụng doanh nghiệp."
   ]
  },
  {
   "cell_type": "markdown",
   "metadata": {},
   "source": [
    "## How to Use Structured Outputs"
   ]
  },
  {
   "cell_type": "markdown",
   "metadata": {},
   "source": [
    "Có hai cách để sử dụng Structured Outputs: \n",
    "- Structured Outputs (JSON). Cách này chủ yếu được sử dụng trong các trường hợp sử dụng tạo văn bản. Structured Outputs (Tools).\n",
    "- Structured Outputs (Tools). Cách này chủ yếu được sử dụng trong các trường hợp sử dụng công cụ (hoặc gọi hàm) và tác nhân."
   ]
  },
  {
   "cell_type": "markdown",
   "metadata": {},
   "source": [
    "## Structured Outputs (JSON)"
   ]
  },
  {
   "cell_type": "markdown",
   "metadata": {},
   "source": [
    "There are two ways of specifying the JSON output:\n",
    "- JSON mode\n",
    "- JSON Schema mode"
   ]
  },
  {
   "cell_type": "code",
   "execution_count": 8,
   "metadata": {},
   "outputs": [
    {
     "name": "stdout",
     "output_type": "stream",
     "text": [
      "{\n",
      "  \"name\": \"John Doe\",\n",
      "  \"age\": 30,\n",
      "  \"address\": null,\n",
      "  \"phone_numbers\": []\n",
      "}\n"
     ]
    }
   ],
   "source": [
    "# JSON mode\n",
    "\n",
    "res = co.chat(\n",
    "    model=cohere_config.get_model_name(),\n",
    "    messages=[\n",
    "        {\n",
    "            \"role\": \"user\",\n",
    "            \"content\": \"Generate a JSON describing a person, with the fields 'name' and 'age'\",\n",
    "        }\n",
    "    ],\n",
    "    response_format={\"type\": \"json_object\"},\n",
    ")\n",
    "\n",
    "print(res.message.content[0].text)\n"
   ]
  },
  {
   "cell_type": "code",
   "execution_count": 9,
   "metadata": {},
   "outputs": [
    {
     "name": "stdout",
     "output_type": "stream",
     "text": [
      "{\n",
      "  \"title\": \"The Great Gatsby\",\n",
      "  \"author\": \"F. Scott Fitzgerald\",\n",
      "  \"publication_year\": 1925\n",
      "}\n"
     ]
    }
   ],
   "source": [
    "# JSON Schema mode\n",
    "\n",
    "res = co.chat(\n",
    "    model=cohere_config.get_model_name(),\n",
    "    messages=[\n",
    "        {\n",
    "            \"role\": \"user\",\n",
    "            \"content\": \"Generate a JSON describing a book, with the fields 'title' and 'author' and 'publication_year'\",\n",
    "        }\n",
    "    ],\n",
    "    response_format={\n",
    "        \"type\": \"json_object\",\n",
    "        \"schema\": {\n",
    "            \"type\": \"object\",\n",
    "            \"properties\": {\n",
    "                \"title\": {\"type\": \"string\"},\n",
    "                \"author\": {\"type\": \"string\"},\n",
    "                \"publication_year\": {\"type\": \"integer\"},\n",
    "            },\n",
    "            \"required\": [\"title\", \"author\", \"publication_year\"],\n",
    "        },\n",
    "    },\n",
    ")\n",
    "\n",
    "print(res.message.content[0].text)\n",
    "\n",
    "# SON Schema là một cách để mô tả cấu trúc của đối tượng JSON mà bạn muốn LLM tạo ra. \n",
    "# Điều này buộc LLM phải tuân theo schema này, do đó giúp bạn kiểm soát tốt hơn đầu ra"
   ]
  },
  {
   "cell_type": "markdown",
   "metadata": {},
   "source": [
    "## Nested Array Schema Json Example"
   ]
  },
  {
   "cell_type": "code",
   "execution_count": 10,
   "metadata": {},
   "outputs": [
    {
     "name": "stdout",
     "output_type": "stream",
     "text": [
      "{'actions': [{'japanese': '食べる', 'romaji': 'taberu', 'english': 'to eat'}, {'japanese': '飲む', 'romaji': 'nomu', 'english': 'to drink'}, {'japanese': '読む', 'romaji': 'yomu', 'english': 'to read'}, {'japanese': '書く', 'romaji': 'kaku', 'english': 'to write'}, {'japanese': '話す', 'romaji': 'hanasu', 'english': 'to speak'}, {'japanese': '聞く', 'romaji': 'kiku', 'english': 'to listen'}, {'japanese': '見る', 'romaji': 'miru', 'english': 'to see'}, {'japanese': '歩く', 'romaji': 'aruku', 'english': 'to walk'}, {'japanese': '走る', 'romaji': 'hashiru', 'english': 'to run'}, {'japanese': '寝る', 'romaji': 'neru', 'english': 'to sleep'}]}\n"
     ]
    }
   ],
   "source": [
    "import json\n",
    "\n",
    "def generate_actions():\n",
    "    response = co.chat(\n",
    "        response_format={\n",
    "            \"type\": \"json_object\",\n",
    "            \"schema\": {\n",
    "                \"type\": \"object\",\n",
    "                \"properties\": {\n",
    "                    \"actions\": {\n",
    "                        \"type\": \"array\",\n",
    "                        \"items\": {\n",
    "                            \"type\": \"object\",\n",
    "                            \"properties\": {\n",
    "                                \"japanese\": {\"type\": \"string\"},\n",
    "                                \"romaji\": {\"type\": \"string\"},\n",
    "                                \"english\": {\"type\": \"string\"},\n",
    "                            },\n",
    "                            \"required\": [\"japanese\", \"romaji\", \"english\"],\n",
    "                        },\n",
    "                    }\n",
    "                },\n",
    "                \"required\": [\"actions\"],\n",
    "            },\n",
    "        },\n",
    "        model=\"command-a-03-2025\",\n",
    "        messages=[\n",
    "            {\n",
    "                \"role\": \"user\",\n",
    "                \"content\": \"Generate a JSON array of objects with the following fields: japanese, romaji, english. These actions should be japanese verbs provided in the dictionary form.\",\n",
    "            },\n",
    "        ],\n",
    "    )\n",
    "    return json.loads(response.message.content[0].text)\n",
    "print(generate_actions())"
   ]
  },
  {
   "cell_type": "markdown",
   "metadata": {},
   "source": [
    "## Structured Outputs (Tools)"
   ]
  },
  {
   "cell_type": "code",
   "execution_count": null,
   "metadata": {},
   "outputs": [
    {
     "name": "stdout",
     "output_type": "stream",
     "text": [
      "[ToolCallV2(id='get_weather_vksgdym4zhc7', type='function', function=ToolCallV2Function(name='get_weather', arguments='{\"location\":\"Toronto\"}'))]\n"
     ]
    }
   ],
   "source": [
    "tools = [\n",
    "    {\n",
    "        \"type\": \"function\",\n",
    "        \"function\": {\n",
    "            \"name\": \"get_weather\",\n",
    "            \"description\" : \"Gets the weather of a given location\",\n",
    "            \"parameters\": {\n",
    "                \"type\": \"object\",\n",
    "                \"properties\": {\n",
    "                    \"location\": {\n",
    "                        \"type\" : \"string\",\n",
    "                        \"description\": \"The location to get weather.\"\n",
    "                    }\n",
    "                },\n",
    "                \"required\": [\"location\"]\n",
    "            }\n",
    "        }\n",
    "    },\n",
    "]\n",
    "\n",
    "response = co.chat(\n",
    "    model=\"command-r7b-12-2024\",\n",
    "    messages=[{\"role\": \"user\", \"content\": \"What's the weather in Toronto?\"}],\n",
    "    tools=tools,\n",
    "    strict_tools=True # True khi cần gọi hàm.\n",
    "    # API sẽ bắt buộc mô hình tuân thủ chặt chẽ các mô tả của công cụ đã được định nghĩa\n",
    ")\n",
    "\n",
    "print(response.message.tool_calls)"
   ]
  },
  {
   "cell_type": "code",
   "execution_count": 14,
   "metadata": {},
   "outputs": [
    {
     "name": "stdout",
     "output_type": "stream",
     "text": [
      "[ToolCallV2(id='set_appoitment_ry9k5krysnsc', type='function', function=ToolCallV2Function(name='set_appoitment', arguments='{\"client\":\"Lucy\",\"date\":\"tomorrow\",\"time\":\"3pm\"}'))]\n"
     ]
    }
   ],
   "source": [
    "set_appoitment_tool = {\n",
    "    \"type\": \"function\",\n",
    "    \"function\": {\n",
    "        \"name\": \"set_appoitment\",\n",
    "        \"description\" : \"Sets an appoitment with client\",\n",
    "        \"parameters\": {\n",
    "            \"type\": \"object\",\n",
    "            \"properties\": {\n",
    "                \"client\": {\n",
    "                    \"type\" : \"string\",\n",
    "                    \"description\": \"The client to set appoitment.\"\n",
    "                },\n",
    "                \"date\": {\n",
    "                    \"type\" : \"string\",\n",
    "                    \"description\": \"The date to set appoitment.\"\n",
    "                },\n",
    "                \"time\": {\n",
    "                    \"type\" : \"string\",\n",
    "                    \"description\": \"The time to set appoitment.\"\n",
    "                }\n",
    "            },\n",
    "            \"required\": [\"client\", \"date\", \"time\"]\n",
    "        }\n",
    "    }\n",
    "}\n",
    "\n",
    "response = co.chat(\n",
    "    model=\"command-r7b-12-2024\",\n",
    "    messages=[{\"role\": \"user\", \"content\": \"Set an appoitment with Lucy at 3p.m tomorow\"}],\n",
    "    tools=[set_appoitment_tool],\n",
    "    strict_tools=True\n",
    ")\n",
    "\n",
    "print(response.message.tool_calls)"
   ]
  },
  {
   "cell_type": "markdown",
   "metadata": {},
   "source": [
    "## When to Use Structured Outputs (JSON) vs. Structured Outputs (Tools)"
   ]
  },
  {
   "cell_type": "markdown",
   "metadata": {},
   "source": [
    "- Structured Outputs (JSON) lý tưởng cho các trường hợp sử dụng tạo văn bản khi bạn muốn định dạng phản hồi của mô hình cho người dùng theo một cách cụ thể.\n",
    "- Structured Outputs (Tools) lý tưởng cho các trường hợp sử dụng công cụ (hoặc gọi hàm) và tác nhân khi bạn cần mô hình tương tác với dữ liệu hoặc dịch vụ bên ngoài."
   ]
  },
  {
   "cell_type": "markdown",
   "metadata": {},
   "source": [
    "## Specifying a schema"
   ]
  },
  {
   "cell_type": "markdown",
   "metadata": {},
   "source": [
    "Tạo đối tượng lồng nhau (Generating nested objects)\n",
    "- Nếu bạn sử dụng JSON Schema mode 🟢: Không bị giới hạn số cấp độ lồng nhau. Bạn có thể tạo đối tượng JSON với bất kỳ độ sâu nào.\n",
    "- Nếu bạn sử dụng JSON mode (không có schema) 🔴: Bị giới hạn tối đa 5 cấp độ lồng nhau."
   ]
  },
  {
   "cell_type": "markdown",
   "metadata": {},
   "source": [
    "# Parameter Types in Structured Outputs (JSON)\n",
    "\n"
   ]
  },
  {
   "cell_type": "markdown",
   "metadata": {},
   "source": [
    "## Ví dụ sử dụng tham số sơ đồ JSON"
   ]
  },
  {
   "cell_type": "code",
   "execution_count": null,
   "metadata": {},
   "outputs": [],
   "source": [
    "\n",
    "def generate_structured_json_response(response_format, message) -> str:\n",
    "    \"\"\"\n",
    "    Generate a structured JSON response based on the response_format.\n",
    "\n",
    "    Args:\n",
    "        response_format (dict): A dictionary containing the structure of the response.\n",
    "        message (str): The message to generate response for.\n",
    "\n",
    "    Returns:\n",
    "        str: The generated structured JSON response as a string.\n",
    "    \"\"\"\n",
    "    response = co.chat(\n",
    "        model=\"command-a-03-2025\",\n",
    "        messages=[{\"role\": \"user\", \"content\": message}],\n",
    "        response_format=response_format,\n",
    "        temperature=0,\n",
    "    )\n",
    "    return response.message.content[0].text\n"
   ]
  },
  {
   "cell_type": "code",
   "execution_count": null,
   "metadata": {},
   "outputs": [
    {
     "name": "stdout",
     "output_type": "stream",
     "text": [
      "{\n",
      "  \"title\": \"The Great Gatsby\",\n",
      "  \"author\": \"F. Scott Fitzgerald\"\n",
      "}\n"
     ]
    }
   ],
   "source": [
    "# string\n",
    "response_format = {\n",
    "    \"type\": \"json_object\",\n",
    "    \"schema\": {\n",
    "        \"type\": \"object\",\n",
    "        \"properties\": {\n",
    "            \"title\": {\"type\": \"string\"},\n",
    "            \"author\": {\"type\": \"string\"},\n",
    "        },\n",
    "        \"required\": [\"title\", \"author\"],\n",
    "    },\n",
    "}\n",
    "\n",
    "message = \"Generate a JSON describing a book, with the fields 'title' and 'author'\"\n",
    "\n",
    "response = co.chat(\n",
    "    model=\"command-a-03-2025\",\n",
    "    messages=[{\"role\": \"user\", \"content\": message}],\n",
    "    response_format=response_format,\n",
    "    temperature=0,\n",
    ")\n",
    "print(response.message.content[0].text)"
   ]
  },
  {
   "cell_type": "code",
   "execution_count": null,
   "metadata": {},
   "outputs": [
    {
     "name": "stdout",
     "output_type": "stream",
     "text": [
      "{\n",
      "  \"title\": \"The Great Gatsby\",\n",
      "  \"author\": \"F. Scott Fitzgerald\",\n",
      "  \"publication_year\": 1925\n",
      "}\n"
     ]
    }
   ],
   "source": [
    "# JSON include integer\n",
    "response_format_2 = {\n",
    "    \"type\": \"json_object\",\n",
    "    \"schema\": {\n",
    "        \"type\": \"object\",\n",
    "        \"properties\": {\n",
    "            \"title\": {\"type\": \"string\"},\n",
    "            \"author\": {\"type\": \"string\"},\n",
    "            \"publication_year\": {\"type\": \"integer\"},\n",
    "        },\n",
    "        \"required\": [\"title\", \"author\", \"publication_year\"],\n",
    "    },\n",
    "}\n",
    "\n",
    "message_2 = \"Generate a JSON describing a book, with the fields 'title', 'author' and 'publication_year'\"\n",
    "print(generate_structured_json_response(response_format=response_format_2, message=message_2))"
   ]
  },
  {
   "cell_type": "code",
   "execution_count": 33,
   "metadata": {},
   "outputs": [
    {
     "name": "stdout",
     "output_type": "stream",
     "text": [
      "{\n",
      "  \"city\": \"Paris\",\n",
      "  \"temperature\": 15.5\n",
      "}\n"
     ]
    }
   ],
   "source": [
    "# include float\n",
    "response_format_3 = {\n",
    "    \"type\": \"json_object\",\n",
    "    \"schema\": {\n",
    "        \"type\": \"object\",\n",
    "        \"properties\": {\n",
    "            \"city\": {\"type\": \"string\"},\n",
    "            \"temperature\": {\"type\": \"number\"},\n",
    "        },\n",
    "        \"required\": [\"city\", \"temperature\"]\n",
    "    }\n",
    "}\n",
    "\n",
    "message_3 = \"Generate a JSON of a city and its average daily temperature in celcius\"\n",
    "\n",
    "print(generate_structured_json_response(response_format=response_format_3, message=message_3))"
   ]
  },
  {
   "cell_type": "code",
   "execution_count": null,
   "metadata": {},
   "outputs": [
    {
     "name": "stdout",
     "output_type": "stream",
     "text": [
      "{\n",
      "  \"city\": \"Hà Nội\",\n",
      "  \"is_capital\": true,\n",
      "  \"why\": \"Hà Nội là thủ đô của Việt Nam, nơi đặt trụ sở của các cơ quan đầu não của Nhà nước, Chính phủ và Quốc hội. Thành phố này không chỉ là trung tâm chính trị mà còn là trung tâm văn hóa, lịch sử và giáo dục quan trọng của đất nước. Với lịch sử lâu đời, Hà Nội mang trong mình những giá trị truyền thống và là biểu tượng của sự phát triển và hội nhập của Việt Nam.\"\n",
      "}\n"
     ]
    }
   ],
   "source": [
    "# include boolean\n",
    "response_format_4 = {\n",
    "    \"type\": \"json_object\",\n",
    "    \"schema\": {\n",
    "        \"type\": \"object\",\n",
    "        \"properties\": {\n",
    "            \"city\": {\"type\": \"string\"},\n",
    "            \"is_capital\": {\"type\": \"boolean\"},\n",
    "            \"why\": {\"type\": \"string\"},\n",
    "        },\n",
    "        \"required\": [\"city\", \"is_capital\"] # here 'why' is not require!\n",
    "    }\n",
    "}\n",
    "\n",
    "message_4 = \"Generate a JSON about a city in Vietnam and whether it is a capital of its country using 'is_capital'. Then explain why you chose that city in field 'why'. with 'why' field, let's write by vietnamese\"\n",
    "\n",
    "print(generate_structured_json_response(response_format=response_format_4, message=message_4))"
   ]
  },
  {
   "cell_type": "code",
   "execution_count": 44,
   "metadata": {},
   "outputs": [
    {
     "name": "stdout",
     "output_type": "stream",
     "text": [
      "{\n",
      "  \"cities\": [\n",
      "    \"Tokyo\",\n",
      "    \"Osaka\",\n",
      "    \"Kyoto\"\n",
      "  ]\n",
      "}\n"
     ]
    }
   ],
   "source": [
    "# include list\n",
    "response_format_5 = {\n",
    "    \"type\": \"json_object\",\n",
    "    \"schema\": {\n",
    "        \"type\": \"object\",\n",
    "        \"properties\": {\n",
    "            \"cities\": {\n",
    "                \"type\": \"array\",\n",
    "                \"items\": {\"type\": \"string\"}\n",
    "            }\n",
    "        },\n",
    "        \"required\": [\"cities\",]\n",
    "    }\n",
    "}\n",
    "\n",
    "message_5 = \"Generate a JSON listing three cities in Japan\"\n",
    "\n",
    "print(generate_structured_json_response(response_format=response_format_5, message=message_5))"
   ]
  },
  {
   "cell_type": "code",
   "execution_count": 45,
   "metadata": {},
   "outputs": [
    {
     "name": "stdout",
     "output_type": "stream",
     "text": [
      "{\n",
      "  \"coordinates\": [\n",
      "    [34.0522, -118.2437],\n",
      "    [51.5074, -75.1234],\n",
      "    [-23.5489, 133.6212]\n",
      "  ]\n",
      "}\n"
     ]
    }
   ],
   "source": [
    "# list of list\n",
    "response_format_6 = {\n",
    "    \"type\": \"json_object\",\n",
    "    \"schema\": {\n",
    "        \"type\": \"object\",\n",
    "        \"properties\": {\n",
    "            \"coordinates\": {\n",
    "                \"type\": \"array\",\n",
    "                \"items\": {\n",
    "                    \"type\": \"array\",\n",
    "                    \"items\": {\"type\": \"number\"}\n",
    "                }\n",
    "            }\n",
    "        },\n",
    "        \"required\": [\"coordinates\",]\n",
    "    }\n",
    "}\n",
    "\n",
    "message_6 = \"Generate a JSON of three random coordinates\"\n",
    "print(generate_structured_json_response(response_format=response_format_6, message=message_6))"
   ]
  },
  {
   "cell_type": "code",
   "execution_count": 46,
   "metadata": {},
   "outputs": [
    {
     "name": "stdout",
     "output_type": "stream",
     "text": [
      "{\n",
      "  \"actions\": [\n",
      "    {\n",
      "      \"japanese\": \"食べる\",\n",
      "      \"romaji\": \"taberu\",\n",
      "      \"english\": \"to eat\"\n",
      "    },\n",
      "    {\n",
      "      \"japanese\": \"飲む\",\n",
      "      \"romaji\": \"nomu\",\n",
      "      \"english\": \"to drink\"\n",
      "    },\n",
      "    {\n",
      "      \"japanese\": \"読む\",\n",
      "      \"romaji\": \"yomu\",\n",
      "      \"english\": \"to read\"\n",
      "    }\n",
      "  ]\n",
      "}\n"
     ]
    }
   ],
   "source": [
    "# Nested objects: đối tượng lồng nhau\n",
    "response_format = {\n",
    "    \"type\": \"json_object\",\n",
    "    \"schema\": {\n",
    "        \"type\": \"object\",\n",
    "        \"properties\": {\n",
    "            \"actions\": {\n",
    "                \"type\": \"array\",\n",
    "                \"items\": {\n",
    "                    \"type\": \"object\",\n",
    "                    \"properties\": {\n",
    "                        \"japanese\": {\"type\": \"string\"},\n",
    "                        \"romaji\": {\"type\": \"string\"},\n",
    "                        \"english\": {\"type\": \"string\"},\n",
    "                    },\n",
    "                    \"required\": [\"japanese\", \"romaji\", \"english\"],\n",
    "                },\n",
    "            }\n",
    "        },\n",
    "        \"required\": [\"actions\"],\n",
    "    },\n",
    "}\n",
    "\n",
    "message = \"Generate a JSON array of 3 objects with the following fields: japanese, romaji, english. These actions should be japanese verbs provided in the dictionary form.\"\n",
    "print(generate_structured_json_response(response_format=response_format, message=message))"
   ]
  },
  {
   "cell_type": "code",
   "execution_count": 47,
   "metadata": {},
   "outputs": [
    {
     "name": "stdout",
     "output_type": "stream",
     "text": [
      "{\n",
      "  \"genre\": \"historical fiction\",\n",
      "  \"title\": \"The Lost City of Eldarion: A Tale of the Forgotten Empire of Aethoria and the Secret Society of the Silver Crescent, with a Focus on the Life and Times of the Enigmatic Scholar, Professor Alaric Thorne, and his Quest to Uncover the Truth Behind the Mysterious Disappearance of the Ancient Civilization, Set Against the Backdrop of a World on the Brink of War in the Early 20th Century, Incorporating Elements of Steampunk, Magic, and Political Intrigue, with a Complex Cast of Characters Including a Charismatic Thief, a Brilliant Scientist, and a Powerful Political Figure, as Well as a Detailed Exploration of the Social, Cultural, and Economic Landscape of the Era, and a Deep Dive into the Mythology and Folklore of the Lost City, Ultimately Leading to a Thrilling Climax and a Satisfying Resolution that Ties Together All the Loose Ends and Leaves the Reader with a Sense of Wonder and Awe, and a Newfound Appreciation for the Power of History and Storytelling to Shape Our Understanding of the World and Our Place Within It, with a Target Audience of Young Adults and Adults Who Enjoy Immersive, Thought-Provoking, and Emotionally Resonant Fiction, and a Potential for a Series or Franchise Based on the Rich and Detailed World-Building and Character Development, as Well as the Possibility for Spin-Offs, Prequels, and Sequels, and a Strong Potential for Adaptation into Other Media Such as Film, Television, or Video Games, with a High Level of Commercial Viability and a Broad Appeal to a Diverse Range of Readers and Audiences, and a Unique and Compelling Voice that Sets It Apart from Other Works in the Genre, and a Strong Potential for Critical Acclaim and Awards Recognition, and a Lasting Impact on the Literary Landscape and Popular Culture, with a Word Count of Approximately 120,000 Words and a Publication Date of Spring 2024, and a Marketing Strategy that Includes a Strong Online Presence, Book Tours, and Collaborations with Influencers and Thought Leaders in the Genre, as Well as a Focus on Building a Dedicated Fan Base and Fostering a Sense of Community Among Readers, with a Long-Term Goal of Establishing the Book as a Classic of the Genre and a Must-Read for Fans of Historical Fiction, Fantasy, and Adventure, and a Commitment to Diversity, Equity, and Inclusion in All Aspects of the Book's Creation, Production, and Promotion, with a Focus on Amplifying Marginalized Voices and Perspectives, and a Dedication to Environmental Sustainability and Social Responsibility in the Publishing Process, and a Passion for Storytelling and a Love of Language, History, and Culture that Shines Through on Every Page, and a Desire to Inspire, Educate, and Entertain Readers of All Ages and Backgrounds, with a Profound Respect for the Power of Books to Change Lives and Shape the World, and a Belief in the Importance of Preserving and Sharing Stories for Future Generations, and a Sense of Wonder and Curiosity about the World and Its Many Mysteries, and a Commitment to Excellence and Innovation in All Aspects of the Book's Creation and Production, with a Focus on Crafting a Truly Unforgettable Reading Experience that Will Stay with Readers Long After They Finish the Book, and a Promise to Deliver a Story that is Both Timeless and Timely, Both Universal and Personal, Both Familiar and Surprising, and Ultimately, a Story that Will Touch the Hearts and Minds of Readers Everywhere.\"\n",
      "\n",
      "}\n"
     ]
    }
   ],
   "source": [
    "# Enum\n",
    "response_format = {\n",
    "    \"type\": \"json_object\",\n",
    "    \"schema\": {\n",
    "        \"type\": \"object\",\n",
    "        \"properties\": {\n",
    "            \"genre\": {\n",
    "                \"type\": \"string\",\n",
    "                \"enum\": [\"historical fiction\", \"cozy mystery\"],\n",
    "            },\n",
    "            \"title\": {\"type\": \"string\"},\n",
    "        },\n",
    "        \"required\": [\"title\", \"genre\"],\n",
    "    },\n",
    "}\n",
    "\n",
    "message = \"Generate a JSON for a new book idea.\"\n",
    "print(generate_structured_json_response(response_format=response_format, message=message))"
   ]
  },
  {
   "cell_type": "code",
   "execution_count": 48,
   "metadata": {},
   "outputs": [
    {
     "name": "stdout",
     "output_type": "stream",
     "text": [
      "{\n",
      "  \"city\": {\n",
      "    \"country\": \"Thailand\",\n",
      "    \"city_name\": \"Bangkok\",\n",
      "    \"avg_temperature\": 28.0000029802322375512743890285491943359375000000000000000000000000000000000000000000000000000000000000000000000000000000000000000000000000000000000000000000000000000000000000000000000000000000000000000000000000000000000000000000000000000000000000000000000000000000000000000000000000000000000000000000000000000000000000000000000000000000000000000000000000000000000000000000000000000000000000000000000000000000000000000000000000000000000000000000000000000000000000000000000000000000000000000000000000000000000000000000000000000000000000000000000000000000000000000000000000000000000000000000000000000000000000000000000000000000000000000000000000000000000000000000000000000000000000000000000000000000000000000000000000000000000000000000000000000000000000000000000000000000000000000000000000000000000000000000000000000000000000000000000000000000000000000000000000000000000000000000000000000000000000000000000000000000000000000000000000000000000000000000000000000000000000000000000000000000000000000000000000000000000000000000000000000000000000000000000000000000000000000000000000000000000000000000000000000000000000000000000000000000000000000000000000000000000000000000000000000000000000000000000000000000000000000000000000000000000000000000000000000000000000000000000000000000000000000000000000000000000000000000000000000000000000000000000000000000000000000000000000000000000000000000000000000000000000000000000000000000000000000000000000000000000000000000000000000000000000000000000000000000000000000000000000000000000000000000000000000000000000000000000000000000000000000000000000000000000000000000000000000000000000000000000000000000000000000000000000000000000000000000000000000000000000000000000000000000000000000000000000000000000000000000000000000000000000000000000000000000000000000000000000000000000000000000000000000000000000000000000000000000000000000000000000000000000000000000000000000000000000000000000000000000000000000000000000000000000000000000000000000000000000000000000000000000000000000000000000000000000000000000000000000000000000000000000000000000000000000000000000000000000000000000000000000000000000000000000000000000000000000000000000000000000000000000000000000000000000000000000000000000000000000000000000000000000000000000000000000000000000000000000000000000000000000000000000000000000000000000000000000000000000000000000000000000000000000000000000000000000000000000000000000000000000000000000000000000000000000000000000000000000000000000000000000000000000000000000000000000000000000000000000000000000000000000000000000000000000000000000000000000000000000000000000000000000000000000000000000000000000000000000000000000000000000000000000000000000000000000000000000000000000000000000000000000000000000000000000000000000000000000000000000000000000000000000000000000000000000000000000000000000000000000000000000000000000000000000000000000000000000000000000000000000000000000000000000000000000000000000000000000000000000000000000000000000000000000000000000000000000000000000000000000000000000000000000000000000000000000000000000000000000000000000000000000000000000000000000000000000000000000000000000000000000000000000000000000000000000000000000000000000000000000000000000000000000000000000000000000000000000000000000000000000000000000000000000000000000000000000000000000000000000000000000000000000000000000000000000000000000000000000000000000000000000000000000000000000000000000000000000000000000000000000000000000000000000000000000000000000000000000000000000000000000000000000000000000000000000000000000000000000000000000000000000000000000000000000000000000000000000000000000000000000000000000000000000000000000000000000000000000000000000000000000000000000000000000000000000000000000000000000000000000000000000000000000000000000000000000000000000000000000000000000000000000000000000000000000000000000000000000000000000000000000000000000000000000000000000000000000000000000000000000000000000000000000000000000000000000000000000000000000000000000000000000000000000000000000000000000000000000000000000000000000000000000000000000000000000000000000000000000000000000000000000000000000000000000000000000000000000000000000000000000000000000000000000000000000000000000000000000000000000000000000000000000000000000000000000000000000000000000000000000000000000000000000000000000000000000000000000000000000000000000000000000000000000000000000000000000000000000000000000000000000000000000000000000000000000000000000000000000000000000000000000000000000000000000000000000000000000000000000000000000000000000000000000000000000000000000000000000000000000000000000000000000000000000000000000000000000000000000000000000000000000000000000000000000000000000000000000000000000000000000000000000000000000000000000000000000000000000000000000000000000000000000000000000000000000000000000000000000000000000000000000000000000000000000000000000000000000000000000000000000000000000000000000000000000000000000000000000000000000000000000000000000000000000000000000000000000000000000000000000000000000000000000000000000000000000000000000000000000000000000000000000000000000000000000000000000000000000000000000000000000000000000000000000000000000000000000000000000000000000000000000000000000000000000000000000000000000000000000000000000000000000000000000000000000000000000000000000000000000000000000000000000000000000000000000000000000000000000000000000000000000000000000000000000000000000000000000000000000000000000000000000000000000000000000000000000000000000000000000000000000000000000000000000000000000000000000000000000000000000000000000000000000000000000000000000000000000000000000000000000000000000000000000000000000000000000000000000000000000000000000000000000000000000000000000000000000000000000000000000000000000000000000000000000000000000000000000000000000000000000000000000000000000000000000000000000000000000000000000000000000000000000000000000000000000000000000000000000000000000000000000000000000000000000000000000000000000000000000000000000000000000000000000000000000000000000000000000000000000000000000000000000000000000000000000000000000000000000000000000000000000000000000000000000000000000000000000000000000000000000000000000000000000000000000000000000000000000000000000000000000000000000000000000000000000000000000000000000000000000000000000000000000000000000000000000000000000000000000000000000000000000000000000000000000000000000000000000000000000000000000000000000000000000000000000000000000000000000000000000000000000000000000000000000000000000000000000000000000000000000000000000000000000000000000000000000000000000000000000000000000000000000000000000000000000000000000000000000000000000000000000000000000000000000000000000000000000000000000000000000000000000000000000000000000000000000000000000000000000000000000000000000000000000000000000000000000000000000000000000000000000000000000000000000000000000000000000000000000000000000000000000000000000000000000000000000000000000000000000000000000000000000000000000000000000000000000000000000000000000000000000000000000000000000000000000000000000000000000000000000000000000000000000000000000000000000000000000000000000000000000000000000000000000000000000000000000000000000000000000000000000000000000000000000000000000000000000000000000000000000000000000000000000000000000000000000000000000000000000000000000000000000000000000000000000000000000000000000000000000000000000000000000000000000000000000000000000000000000000000000000000000000000000000000000000000000000000000000000000000000000000000000000000000000000000000000000000000000000000000000000000000000000000000000000000000000000000000000000000000000000000000000000000000000000000000000000000000000000000000000000000000000000000000000000000000000000000000000000000000000000000000000000000000000000000000000000000000000000000000000000000000000000000000000000000000000000000000000000000000000000000000000000000000000000000000000000000000000000000000000000000000000000000000000000000000000000000000000000000000000000000000000000000000000000000000000000000000000000000000000000000000000000000000000000000000000000000000000000000000000000000000000000000000000000000000000000000000000000000000000000000000000000000000000000000000000000000000000\n"
     ]
    }
   ],
   "source": [
    "# Const\n",
    "response_format = {\n",
    "    \"type\": \"json_object\",\n",
    "    \"schema\": {\n",
    "        \"type\": \"object\",\n",
    "        \"properties\": {\n",
    "            \"city\": {\n",
    "                \"type\": \"object\",\n",
    "                \"properties\": {\n",
    "                    \"country\": {\n",
    "                        \"type\": \"string\",\n",
    "                        \"const\": \"Thailand\",\n",
    "                    },\n",
    "                    \"city_name\": {\"type\": \"string\"},\n",
    "                    \"avg_temperature\": {\"type\": \"number\"},\n",
    "                },\n",
    "                \"required\": [\n",
    "                    \"country\",\n",
    "                    \"city_name\",\n",
    "                    \"avg_temperature\",\n",
    "                ],\n",
    "            }\n",
    "        },\n",
    "        \"required\": [\"city\"],\n",
    "    },\n",
    "}\n",
    "\n",
    "message = \"Generate a JSON of a city.\"\n",
    "print(generate_structured_json_response(response_format=response_format, message=message))"
   ]
  },
  {
   "cell_type": "code",
   "execution_count": 49,
   "metadata": {},
   "outputs": [
    {
     "name": "stdout",
     "output_type": "stream",
     "text": [
      "{\n",
      "  \"product_sku\": \"NLN0012345\"\n",
      "  }\n"
     ]
    }
   ],
   "source": [
    "# Pattern\n",
    "response_format = {\n",
    "    \"type\": \"json_object\",\n",
    "    \"schema\": {\n",
    "        \"type\": \"object\",\n",
    "        \"properties\": {\n",
    "            \"product_sku\": {\n",
    "                \"type\": \"string\",\n",
    "                \"pattern\": \"[A-Z]{3}[0-9]{7}\",\n",
    "            }\n",
    "        },\n",
    "        \"required\": [\"product_sku\"],\n",
    "    },\n",
    "}\n",
    "\n",
    "message = \"Generate a JSON of an SKU for a new product line.\"\n",
    "print(generate_structured_json_response(response_format=response_format, message=message))"
   ]
  },
  {
   "cell_type": "code",
   "execution_count": 51,
   "metadata": {},
   "outputs": [
    {
     "name": "stdout",
     "output_type": "stream",
     "text": [
      "{\n",
      "  \"itinerary\": [\n",
      "    {\n",
      "      \"day_number\": 1,\n",
      "      \"date\": \"2025-01-05\",\n",
      "      \"places_to_visit\": \"Ubud Monkey Forest, Tegalalang Rice Terrace, Ubud Palace, Ubud Art Market\"\n",
      "    },\n",
      "    {\n",
      "      \"day_number\": 2,\n",
      "      \"date\": \"2025-01-06\",\n",
      "      \"places_to_visit\": \"Tanah Lot Temple, Seminyak Beach, Potato Head Beach Club, Petitenget Temple\"\n",
      "    },\n",
      "    {\n",
      "      \"day_number\": 3,\n",
      "      \"date\": \"2025-01-07\",\n",
      "      \"places_to_visit\": \"Uluwatu Temple, Padang Padang Beach, Jimbaran Bay for seafood dinner, Garuda Wisnu Kencana Cultural Park\"\n",
      "    }\n",
      "  ]\n",
      "}\n"
     ]
    }
   ],
   "source": [
    "# Format\n",
    "response_format = {\n",
    "    \"type\": \"json_object\",\n",
    "    \"schema\": {\n",
    "        \"type\": \"object\",\n",
    "        \"properties\": {\n",
    "            \"itinerary\": {\n",
    "                \"type\": \"array\",\n",
    "                \"items\": {\n",
    "                    \"type\": \"object\",\n",
    "                    \"properties\": {\n",
    "                        \"day_number\": {\"type\": \"integer\"},\n",
    "                        \"date\": {\"type\": \"string\", \"format\": \"date\"},\n",
    "                        \"places_to_visit\": {\"type\": \"string\"},\n",
    "                    },\n",
    "                    \"required\": [\n",
    "                        \"day_number\",\n",
    "                        \"date\",\n",
    "                        \"places_to_visit\",\n",
    "                    ],\n",
    "                },\n",
    "            }\n",
    "        },\n",
    "        \"required\": [\"itinerary\"],\n",
    "    },\n",
    "}\n",
    "\n",
    "message = \"Generate a JSON of a 3-day visit of Bali starting Jan 5 2025.\"\n",
    "print(generate_structured_json_response(response_format=response_format, message=message))"
   ]
  },
  {
   "cell_type": "markdown",
   "metadata": {},
   "source": [
    "# How to Get Predictable Outputs with Cohere Models"
   ]
  },
  {
   "cell_type": "markdown",
   "metadata": {},
   "source": [
    "chúng ta có thể điều khiển điều này bằng các tham số `seed` và `temperature`"
   ]
  },
  {
   "cell_type": "code",
   "execution_count": 56,
   "metadata": {},
   "outputs": [
    {
     "name": "stdout",
     "output_type": "stream",
     "text": [
      "The sun dipped below the horizon, casting a golden glow on the rippling waves.\n"
     ]
    }
   ],
   "source": [
    "res = co.chat(\n",
    "    model=\"command-a-03-2025\",\n",
    "    messages=[{\"role\": \"user\", \"content\": \"say a short random sentence\"}],\n",
    "    seed=1515,\n",
    ")\n",
    "print(res.message.content[0].text)"
   ]
  },
  {
   "attachments": {
    "image-2.png": {
     "image/png": "[encoded data removed]"
    }
   },
   "cell_type": "markdown",
   "metadata": {},
   "source": [
    "`Temperature` được dùng để điều chỉnh mức độ ngẫu nhiên với câu trả lời\n",
    "- temperature thấp có nghĩa câu trả lời ít ngẫu nhiên hơn, bằng 0 sẽ luôn tạo một đầu ra.\n",
    "- temperature cao sẽ sinh ra câu trả lời phong phú hơn, nhưng trong hệ thống RAG, điều này cũng có nghĩa là mô hình không sử dụng hiệu quả ngữ cảnh mà bạn cung cấp. nếu mô hình đưa ra các câu trả lời vô nghĩa thì có thể temperature quá cao\n",
    "![image-2.png](attachment:image-2.png)\n",
    "\n",
    "- temperature có thể điều chỉnh cho nhiều trường hợp khác nhau, tuy nhiên khởi đầu =1 là khá lý tưởng để điều chỉnh. đối với các câu trả lời dài, temperature cao thì mô hình sẽ tự tin hơn vào các dự đoán của nó, và có thể tăng lên đối với các câu trả lời dài mà không sợ lạc đề. ngược lại đối với các câu trả lời ngắn, temperature cao khiến đầu ra rất không ổn định"
   ]
  },
  {
   "cell_type": "markdown",
   "metadata": {},
   "source": [
    "# Advanced Generation Parameters"
   ]
  },
  {
   "cell_type": "markdown",
   "metadata": {},
   "source": [
    "- top-k: chọn ra các kết quả đầu ra hàng đầu (cs xác suất cao nhất)\n",
    "- top-p: chọn ra danh sách các kết quả tốt nhất có xác suất nhất định (ví dụ các đầu ra có xác suất lớn hơn 15%)\n",
    "- presence_penalty và freequence_penalty: hoạt động trên logit, để ảnh hưởng đến tần suất xuất hiện của mã thông báo nhất định trong đầu ra\n"
   ]
  },
  {
   "cell_type": "markdown",
   "metadata": {},
   "source": [
    "# Retrieval Augmented Generation (RAG)"
   ]
  },
  {
   "cell_type": "markdown",
   "metadata": {},
   "source": [
    "- RAG giúp sinh văn bản chính xác hơn\n",
    "- API yêu cầu tối thiểu 3 tham số: model, message và document để trích xuất"
   ]
  },
  {
   "cell_type": "markdown",
   "metadata": {},
   "source": [
    "## Basic use"
   ]
  },
  {
   "cell_type": "code",
   "execution_count": 58,
   "metadata": {},
   "outputs": [
    {
     "name": "stdout",
     "output_type": "stream",
     "text": [
      "The tallest penguins, Emperor penguins, live in Antarctica.\n",
      "[Citation(start=22, end=38, text='Emperor penguins', sources=[DocumentSource(type='document', id='doc:0', document={'id': 'doc:0', 'snippet': 'Emperor penguins are the tallest.', 'title': 'Tall penguins'})], type='TEXT_CONTENT'), Citation(start=48, end=59, text='Antarctica.', sources=[DocumentSource(type='document', id='doc:1', document={'id': 'doc:1', 'snippet': 'Emperor penguins only live in Antarctica.', 'title': 'Penguin habitats'})], type='TEXT_CONTENT')]\n"
     ]
    }
   ],
   "source": [
    "# Retrieve the documents\n",
    "documents = [\n",
    "    {\n",
    "        \"data\": {\n",
    "            \"title\": \"Tall penguins\",\n",
    "            \"snippet\": \"Emperor penguins are the tallest.\",\n",
    "        }\n",
    "    },\n",
    "    {\n",
    "        \"data\": {\n",
    "            \"title\": \"Penguin habitats\",\n",
    "            \"snippet\": \"Emperor penguins only live in Antarctica.\",\n",
    "        }\n",
    "    },\n",
    "    {\n",
    "        \"data\": {\n",
    "            \"title\": \"What are animals?\",\n",
    "            \"snippet\": \"Animals are different from plants.\",\n",
    "        }\n",
    "    },\n",
    "]\n",
    "\n",
    "# Add the user message\n",
    "message = \"Where do the tallest penguins live?\"\n",
    "\n",
    "messages = [{\"role\": \"user\", \"content\": message}]\n",
    "\n",
    "response = co.chat(\n",
    "    model=\"command-a-03-2025\",\n",
    "    messages=messages,\n",
    "    documents=documents,\n",
    ")\n",
    "\n",
    "print(response.message.content[0].text)\n",
    "\n",
    "print(response.message.citations)\n"
   ]
  },
  {
   "cell_type": "markdown",
   "metadata": {},
   "source": [
    "## Three steps of RAG"
   ]
  },
  {
   "cell_type": "markdown",
   "metadata": {},
   "source": [
    "Quy trình làm việc RAG thường bao gồm 3 bước:\n",
    "- Tạo truy vấn tìm kiếm để tìm các tài liệu có liên quan. Mô hình khuyến nghị tra cứu những gì trước khi trả lời câu hỏi này? - Lấy các tài liệu có liên quan từ nguồn dữ liệu bên ngoài bằng các truy vấn tìm kiếm đã tạo. Thực hiện tìm kiếm để tìm một số thông tin có liên quan.\n",
    "- Tạo phản hồi với các trích dẫn nội tuyến bằng các tài liệu đã tìm nạp. Tạo phản hồi bằng các tài liệu đã tìm nạp. Phản hồi này sẽ chứa các trích dẫn nội tuyến mà bạn có thể quyết định tận dụng hoặc bỏ qua."
   ]
  },
  {
   "cell_type": "markdown",
   "metadata": {},
   "source": [
    "## Example: Using RAG to identify the definitive 90s boy band"
   ]
  },
  {
   "cell_type": "code",
   "execution_count": 66,
   "metadata": {},
   "outputs": [
    {
     "name": "stdout",
     "output_type": "stream",
     "text": [
      "['Nsync vs Backstreet Boys popularity']\n"
     ]
    }
   ],
   "source": [
    "message = \"Who is more popular: Nsync or Backstreet Boys?\"\n",
    "\n",
    "# Define the query generation tool\n",
    "query_gen_tool = [\n",
    "    {\n",
    "        \"type\": \"function\",\n",
    "        \"function\": {\n",
    "            \"name\": \"internet_search\",\n",
    "            \"description\": \"Returns a list of relevant document snippets for a textual query retrieved from the internet\",\n",
    "            \"parameters\": {\n",
    "                \"type\": \"object\",\n",
    "                \"properties\": {\n",
    "                    \"queries\": {\n",
    "                        \"type\": \"array\",\n",
    "                        \"items\": {\"type\": \"string\"},\n",
    "                        \"description\": \"a list of queries to search the internet with.\",\n",
    "                    }\n",
    "                },\n",
    "                \"required\": [\"queries\"],\n",
    "            },\n",
    "        },\n",
    "    }\n",
    "]\n",
    "\n",
    "# Define a system message to optimize search query generation\n",
    "instructions = \"Write a search query that will find helpful information for answering the user's question accurately. If you need more than one search query, write a list of search queries. If you decide that a search is very unlikely to find information that would be useful in constructing a response to the user, you should instead directly answer.\"\n",
    "\n",
    "# Generate search queries (if any)\n",
    "import json\n",
    "\n",
    "search_queries = []\n",
    "\n",
    "res = co.chat(\n",
    "    model=\"command-a-03-2025\",\n",
    "    messages=[\n",
    "        {\"role\": \"system\", \"content\": instructions},\n",
    "        {\"role\": \"user\", \"content\": message},\n",
    "    ],\n",
    "    tools=query_gen_tool,\n",
    ")\n",
    "\n",
    "if res.message.tool_calls:\n",
    "    for tc in res.message.tool_calls:\n",
    "        queries = json.loads(tc.function.arguments)[\"queries\"]\n",
    "        search_queries.extend(queries)\n",
    "\n",
    "print(search_queries)\n"
   ]
  }
 ],
 "metadata": {
  "kernelspec": {
   "display_name": "Python 3",
   "language": "python",
   "name": "python3"
  },
  "language_info": {
   "codemirror_mode": {
    "name": "ipython",
    "version": 3
   },
   "file_extension": ".py",
   "mimetype": "text/x-python",
   "name": "python",
   "nbconvert_exporter": "python",
   "pygments_lexer": "ipython3",
   "version": "3.12.9"
  }
 },
 "nbformat": 4,
 "nbformat_minor": 2
}
