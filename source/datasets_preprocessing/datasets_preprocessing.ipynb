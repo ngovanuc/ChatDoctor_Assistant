{
 "cells": [
  {
   "cell_type": "code",
   "execution_count": 662,
   "metadata": {},
   "outputs": [],
   "source": [
    "import glob\n",
    "import os"
   ]
  },
  {
   "cell_type": "code",
   "execution_count": 663,
   "metadata": {},
   "outputs": [
    {
     "data": {
      "text/plain": [
       "['..\\\\..\\\\datasets\\\\ChatDoctor-HealthCareMagic-100k',\n",
       " '..\\\\..\\\\datasets\\\\ChatDoctor-iCliniq',\n",
       " '..\\\\..\\\\datasets\\\\final_dataset',\n",
       " '..\\\\..\\\\datasets\\\\liveqa_medical_trec2017',\n",
       " '..\\\\..\\\\datasets\\\\medical-eval-sphere',\n",
       " '..\\\\..\\\\datasets\\\\medical_meadow_cord19',\n",
       " '..\\\\..\\\\datasets\\\\medical_meadow_medical_flashcards',\n",
       " '..\\\\..\\\\datasets\\\\medical_meadow_mediqa',\n",
       " '..\\\\..\\\\datasets\\\\medical_meadow_medqa',\n",
       " '..\\\\..\\\\datasets\\\\medical_meadow_mmmlu',\n",
       " '..\\\\..\\\\datasets\\\\medical_meadow_wikidoc',\n",
       " '..\\\\..\\\\datasets\\\\mediQ',\n",
       " '..\\\\..\\\\datasets\\\\MediQ_AskDocs',\n",
       " '..\\\\..\\\\datasets\\\\med_qa',\n",
       " '..\\\\..\\\\datasets\\\\pubmed_qa',\n",
       " '..\\\\..\\\\datasets\\\\README.md',\n",
       " '..\\\\..\\\\datasets\\\\vietnamese-medical-qa']"
      ]
     },
     "execution_count": 663,
     "metadata": {},
     "output_type": "execute_result"
    }
   ],
   "source": [
    "glob.glob(\"..\\\\..\\\\datasets\\\\*\")"
   ]
  },
  {
   "cell_type": "code",
   "execution_count": 664,
   "metadata": {},
   "outputs": [],
   "source": [
    "# final_dataset should contain fields: dataset_name, id_message, message\n",
    "# message includes: role -> System, User, Chatbot\n",
    "# each role will have a content field\n",
    "save_path = \"..\\\\..\\\\datasets\\\\final_dataset\\\\\"\n",
    "file_path = \"..\\\\..\\\\datasets\\\\final_dataset\\\\medical_dataset.jsonl\"\n",
    "ex = {\"dataset_name\": \"dataset_name\", \"id_message\": 0, \"messages\": [{\"role\": \"System\", \"content\": \"content\"}, {\"role\": \"User\", \"content\": \"content\"}, {\"role\": \"Chatbot\", \"content\": \"content\"}]}"
   ]
  },
  {
   "cell_type": "code",
   "execution_count": 665,
   "metadata": {},
   "outputs": [],
   "source": [
    "# run this to see example of the final_dataset.jsonl\n",
    "\n",
    "# with open(file_path, \"w\", encoding=\"utf-8\") as file:\n",
    "#     file.writelines(\"{\\\"dataset_name\\\": \\\"dataset_name\\\", \\\"id_message\\\": 0, \\\"messages\\\": [{\\\"role\\\": \\\"System\\\", \\\"content\\\": \\\"content\\\"}, {\\\"role\\\": \\\"User\\\", \\\"content\\\": \\\"content\\\"}, {\\\"role\\\": \\\"Chatbot\\\", \\\"content\\\": \\\"content\\\"}]}\\n\")\n",
    "#     file.writelines(\"{\\\"dataset_name\\\": \\\"dataset_name\\\", \\\"id_message\\\": 0, \\\"messages\\\": [{\\\"role\\\": \\\"System\\\", \\\"content\\\": \\\"content\\\"}, {\\\"role\\\": \\\"User\\\", \\\"content\\\": \\\"content\\\"}, {\\\"role\\\": \\\"Chatbot\\\", \\\"content\\\": \\\"content\\\"}]}\\n\")\n",
    "# file.close()"
   ]
  },
  {
   "cell_type": "markdown",
   "metadata": {},
   "source": [
    "# ChatDoctor-HealthCareMagic-100k"
   ]
  },
  {
   "cell_type": "code",
   "execution_count": 666,
   "metadata": {},
   "outputs": [
    {
     "data": {
      "text/plain": [
       "['..\\\\..\\\\datasets\\\\ChatDoctor-HealthCareMagic-100k\\\\data\\\\train-00000-of-00001-5e7cb295b9cff0bf.parquet']"
      ]
     },
     "execution_count": 666,
     "metadata": {},
     "output_type": "execute_result"
    }
   ],
   "source": [
    "dataset_path_1 = \"..\\\\..\\\\datasets\\\\ChatDoctor-HealthCareMagic-100k\\\\*\\\\*\"\n",
    "glob.glob(dataset_path_1)"
   ]
  },
  {
   "cell_type": "code",
   "execution_count": 667,
   "metadata": {},
   "outputs": [
    {
     "data": {
      "text/html": [
       "<div>\n",
       "<style scoped>\n",
       "    .dataframe tbody tr th:only-of-type {\n",
       "        vertical-align: middle;\n",
       "    }\n",
       "\n",
       "    .dataframe tbody tr th {\n",
       "        vertical-align: top;\n",
       "    }\n",
       "\n",
       "    .dataframe thead th {\n",
       "        text-align: right;\n",
       "    }\n",
       "</style>\n",
       "<table border=\"1\" class=\"dataframe\">\n",
       "  <thead>\n",
       "    <tr style=\"text-align: right;\">\n",
       "      <th></th>\n",
       "      <th>instruction</th>\n",
       "      <th>input</th>\n",
       "      <th>output</th>\n",
       "    </tr>\n",
       "  </thead>\n",
       "  <tbody>\n",
       "    <tr>\n",
       "      <th>0</th>\n",
       "      <td>If you are a doctor, please answer the medical...</td>\n",
       "      <td>I woke up this morning feeling the whole room ...</td>\n",
       "      <td>Hi, Thank you for posting your query. The most...</td>\n",
       "    </tr>\n",
       "    <tr>\n",
       "      <th>1</th>\n",
       "      <td>If you are a doctor, please answer the medical...</td>\n",
       "      <td>My baby has been pooing 5-6 times a day for a ...</td>\n",
       "      <td>Hi... Thank you for consulting in Chat Doctor....</td>\n",
       "    </tr>\n",
       "    <tr>\n",
       "      <th>2</th>\n",
       "      <td>If you are a doctor, please answer the medical...</td>\n",
       "      <td>Hello, My husband is taking Oxycodone due to a...</td>\n",
       "      <td>Hello, and I hope I can help you today.First, ...</td>\n",
       "    </tr>\n",
       "    <tr>\n",
       "      <th>3</th>\n",
       "      <td>If you are a doctor, please answer the medical...</td>\n",
       "      <td>lump under left nipple and stomach pain (male)...</td>\n",
       "      <td>HI. You have two different problems. The lump ...</td>\n",
       "    </tr>\n",
       "    <tr>\n",
       "      <th>4</th>\n",
       "      <td>If you are a doctor, please answer the medical...</td>\n",
       "      <td>I have a 5 month old baby who is very congeste...</td>\n",
       "      <td>Thank you for using Chat Doctor. I would sugge...</td>\n",
       "    </tr>\n",
       "  </tbody>\n",
       "</table>\n",
       "</div>"
      ],
      "text/plain": [
       "                                         instruction  \\\n",
       "0  If you are a doctor, please answer the medical...   \n",
       "1  If you are a doctor, please answer the medical...   \n",
       "2  If you are a doctor, please answer the medical...   \n",
       "3  If you are a doctor, please answer the medical...   \n",
       "4  If you are a doctor, please answer the medical...   \n",
       "\n",
       "                                               input  \\\n",
       "0  I woke up this morning feeling the whole room ...   \n",
       "1  My baby has been pooing 5-6 times a day for a ...   \n",
       "2  Hello, My husband is taking Oxycodone due to a...   \n",
       "3  lump under left nipple and stomach pain (male)...   \n",
       "4  I have a 5 month old baby who is very congeste...   \n",
       "\n",
       "                                              output  \n",
       "0  Hi, Thank you for posting your query. The most...  \n",
       "1  Hi... Thank you for consulting in Chat Doctor....  \n",
       "2  Hello, and I hope I can help you today.First, ...  \n",
       "3  HI. You have two different problems. The lump ...  \n",
       "4  Thank you for using Chat Doctor. I would sugge...  "
      ]
     },
     "execution_count": 667,
     "metadata": {},
     "output_type": "execute_result"
    }
   ],
   "source": [
    "import pyarrow\n",
    "import fastparquet\n",
    "import pandas as pd\n",
    "\n",
    "data_1 = pd.read_parquet(glob.glob(dataset_path_1))\n",
    "data_1.head()\n"
   ]
  },
  {
   "cell_type": "code",
   "execution_count": 668,
   "metadata": {},
   "outputs": [
    {
     "name": "stdout",
     "output_type": "stream",
     "text": [
      "If you are a doctor, please answer the medical questions based on the patient's description.\n",
      "I woke up this morning feeling the whole room is spinning when i was sitting down. I went to the bathroom walking unsteadily, as i tried to focus i feel nauseous. I try to vomit but it wont come out.. After taking panadol and sleep for few hours, i still feel the same.. By the way, if i lay down or sit down, my head do not spin, only when i want to move around then i feel the whole world is spinning.. And it is normal stomach discomfort at the same time? Earlier after i relieved myself, the spinning lessen so i am not sure whether its connected or coincidences.. Thank you doc!\n",
      "Hi, Thank you for posting your query. The most likely cause for your symptoms is benign paroxysmal positional vertigo (BPPV), a type of peripheral vertigo. In this condition, the most common symptom is dizziness or giddiness, which is made worse with movements. Accompanying nausea and vomiting are common. The condition is due to problem in the ear, and improves in a few days on own. Betahistine tablets would help relieve your symptoms. Doing vestibular rehabilitation or adaptation exercises would prevent the recurrence of these symptoms. An ENT evaluation would also help. I hope it helps. Best wishes, Chat Doctor.\n"
     ]
    }
   ],
   "source": [
    "print(data_1.iloc[0, 0])\n",
    "print(data_1.iloc[0, 1])\n",
    "print(data_1.iloc[0, 2])"
   ]
  },
  {
   "cell_type": "code",
   "execution_count": 669,
   "metadata": {},
   "outputs": [
    {
     "name": "stdout",
     "output_type": "stream",
     "text": [
      "(112165, 3)\n"
     ]
    }
   ],
   "source": [
    "print(data_1.shape)"
   ]
  },
  {
   "cell_type": "code",
   "execution_count": 670,
   "metadata": {},
   "outputs": [],
   "source": [
    "def concatenate_string(dataset_name, id_messages, System_message, User_message, Chatbot_message) -> str:\n",
    "    json_object = \"{\\\"dataset_name\\\": \" + \"\\\"\" + dataset_name + \"\\\", \" + \"\\\"id_messages\\\": \" + \"\\\"\" + id_messages + \"\\\", \" + \"\\\"messages\\\": \" + \"[\" + \"{\\\"role\\\": \" + \"\\\"System\\\", \" + \"\\\"content\\\": \" + \"\\\"\" + System_message + \"\\\"}, \" + \"{\\\"role\\\": \" + \"\\\"User\\\", \" + \"\\\"content\\\": \" + \"\\\"\" + User_message + \"\\\"}, \" + \"{\\\"role\\\": \" + \"\\\"Chatbot\\\", \" + \"\\\"content\\\": \" + \"\\\"\" + Chatbot_message + \"\\\"}]}\"\n",
    "    # json_object =  \"{\\\"messages\\\": \" + \"[\" + \"{\\\"role\\\": \" + \"\\\"System\\\", \" + \"\\\"content\\\": \" + \"\\\"\" + System_message + \"\\\"}, \" + \"{\\\"role\\\": \" + \"\\\"User\\\", \" + \"\\\"content\\\": \" + \"\\\"\" + User_message + \"\\\"}, \" + \"{\\\"role\\\": \" + \"\\\"Chatbot\\\", \" + \"\\\"content\\\": \" + \"\\\"\" + Chatbot_message + \"\\\"}]}\"\n",
    "    return json_object"
   ]
  },
  {
   "cell_type": "code",
   "execution_count": 671,
   "metadata": {},
   "outputs": [],
   "source": [
    "import uuid\n",
    "\n",
    "with open(file_path, \"w\", encoding=\"utf-8\") as file:\n",
    "    dataset_name = \"ChatDoctor-HealthCareMagic-100k\"\n",
    "    for idx in range(0, len(data_1)):\n",
    "        id_messages = str(uuid.uuid4())\n",
    "        # role: System\n",
    "        System_message = str(data_1.iloc[idx][\"instruction\"])\n",
    "        # role: User\n",
    "        User_message = str(data_1.iloc[idx][\"input\"])\n",
    "        # role: Chatbott\n",
    "        Chatbot_message = str(data_1.iloc[idx][\"output\"])\n",
    "\n",
    "        # write to file\n",
    "        file.writelines(concatenate_string(dataset_name, id_messages, System_message, User_message, Chatbot_message) + \"\\n\")\n",
    "\n",
    "file.close()"
   ]
  },
  {
   "cell_type": "code",
   "execution_count": 672,
   "metadata": {},
   "outputs": [
    {
     "data": {
      "text/plain": [
       "'{\"dataset_name\": \"ChatDoctor-HealthCareMagic-100k\", \"id_messages\": \"f0c789f0-cebe-40b1-a4f4-a51150fb4673\", \"messages\": [{\"role\": \"System\", \"content\": \"If you are a doctor, please answer the medical questions based on the patient\\'s description.\"}, {\"role\": \"User\", \"content\": \"Within the past few hours, my husband has developed a rash that covers his back, neck, and upper arms. He seems to have no other symptoms. He has been taking antibiotics (Levaquin, sorry about the spelling) and just finished the last one today. Was in the hospital last week for 2 days with bronchitis / pneumonia. Has also been taking Mucinex. He has gone to bed in the last few minutes and is sleeping peacefully. I was very nervous about the rash and wondered what I should do, as there seem to be no other symptoms.Thank you.Brenda Wooten YYYY@YYYY\"}, {\"role\": \"Chatbot\", \"content\": \"Hello, Thank you for posting on Chat Doctor. The condition your husband is having is called Urticaria or hives. It\\'s an allergic manifestation of skin, where an allergen leads to release of certain substances from your blood, leading to itchy skin rash and swelling over soft tissues. Its proper management requires thorough history, clinical and laboratory work-up. You may have to go for specific tests like patch test, food prick test, IGE antibody levels etc. As for treatment part, best would be the avoidance of allergen as far as possible. Try to eliminate possible triggering foods from diet. I would also advise you various antihistamines for long duration(at least 3 months) with or without oral corticosteroids. For non-responding cases there are many other Chat Doctor.  Hope this will help you in resolving your query. Thank you\"}]}'"
      ]
     },
     "execution_count": 672,
     "metadata": {},
     "output_type": "execute_result"
    }
   ],
   "source": [
    "\"{\\\"dataset_name\\\": \" + \"\\\"\" + dataset_name + \"\\\", \" + \"\\\"id_messages\\\": \" + \"\\\"\" + id_messages + \"\\\", \" + \"\\\"messages\\\": \" + \"[\" + \"{\\\"role\\\": \" + \"\\\"System\\\", \" + \"\\\"content\\\": \" + \"\\\"\" + System_message + \"\\\"}, \" + \"{\\\"role\\\": \" + \"\\\"User\\\", \" + \"\\\"content\\\": \" + \"\\\"\" + User_message + \"\\\"}, \" + \"{\\\"role\\\": \" + \"\\\"Chatbot\\\", \" + \"\\\"content\\\": \" + \"\\\"\" + Chatbot_message + \"\\\"}]}\""
   ]
  },
  {
   "cell_type": "markdown",
   "metadata": {},
   "source": [
    "# ChatDoctor-iCliniq"
   ]
  },
  {
   "cell_type": "code",
   "execution_count": 673,
   "metadata": {},
   "outputs": [
    {
     "data": {
      "text/plain": [
       "['..\\\\..\\\\datasets\\\\ChatDoctor-iCliniq\\\\data\\\\train-00000-of-00001-7f15f39e4c3a7ee9.parquet']"
      ]
     },
     "execution_count": 673,
     "metadata": {},
     "output_type": "execute_result"
    }
   ],
   "source": [
    "import pandas as pd\n",
    "import glob\n",
    "\n",
    "dataset_path_2 = \"..\\\\..\\\\datasets\\\\ChatDoctor-iCliniq\\\\*\\\\*\"\n",
    "glob.glob(dataset_path_2)"
   ]
  },
  {
   "cell_type": "code",
   "execution_count": 674,
   "metadata": {},
   "outputs": [
    {
     "data": {
      "text/html": [
       "<div>\n",
       "<style scoped>\n",
       "    .dataframe tbody tr th:only-of-type {\n",
       "        vertical-align: middle;\n",
       "    }\n",
       "\n",
       "    .dataframe tbody tr th {\n",
       "        vertical-align: top;\n",
       "    }\n",
       "\n",
       "    .dataframe thead th {\n",
       "        text-align: right;\n",
       "    }\n",
       "</style>\n",
       "<table border=\"1\" class=\"dataframe\">\n",
       "  <thead>\n",
       "    <tr style=\"text-align: right;\">\n",
       "      <th></th>\n",
       "      <th>input</th>\n",
       "      <th>answer_icliniq</th>\n",
       "      <th>answer_chatgpt</th>\n",
       "      <th>answer_chatdoctor</th>\n",
       "    </tr>\n",
       "  </thead>\n",
       "  <tbody>\n",
       "    <tr>\n",
       "      <th>0</th>\n",
       "      <td>Hello doctor,I had mumps five months ago and a...</td>\n",
       "      <td>Hello, Welcome to Chat Doctor forum. I can und...</td>\n",
       "      <td>It is possible that you still have an infectio...</td>\n",
       "      <td>1) There is no need to worry about reinfection...</td>\n",
       "    </tr>\n",
       "    <tr>\n",
       "      <th>1</th>\n",
       "      <td>Hello doctor,I am trying to conceive but my hu...</td>\n",
       "      <td>Hello, Wellcome to ChatDoctor. There are few r...</td>\n",
       "      <td>Hello! Thank you for reaching out.\\n\\nCocaine ...</td>\n",
       "      <td>1) Cocaine use can affect fertility by causing...</td>\n",
       "    </tr>\n",
       "    <tr>\n",
       "      <th>2</th>\n",
       "      <td>Hello doctor,I am currently on the Yaz contrac...</td>\n",
       "      <td>Hello. The brown discharge should be temporary...</td>\n",
       "      <td>Hello! It's not uncommon to experience some ir...</td>\n",
       "      <td>1) The brown discharge is due to the hormonal ...</td>\n",
       "    </tr>\n",
       "    <tr>\n",
       "      <th>3</th>\n",
       "      <td>Hello doctor,My son aged 13 years has got his ...</td>\n",
       "      <td>Hello, Welcome to Chat Doctor forum. I have go...</td>\n",
       "      <td>As an AI language model, I am not a doctor and...</td>\n",
       "      <td>Hi, welcome to Chat Doctor forum. I understand...</td>\n",
       "    </tr>\n",
       "    <tr>\n",
       "      <th>4</th>\n",
       "      <td>Hello doctor,I just got one side of my wisdom ...</td>\n",
       "      <td>Hello. The lump is mostly a hard swelling whic...</td>\n",
       "      <td>Hello,\\n\\nIt is normal to have some swelling a...</td>\n",
       "      <td>Hi, Thanks for your query. It appears that you...</td>\n",
       "    </tr>\n",
       "  </tbody>\n",
       "</table>\n",
       "</div>"
      ],
      "text/plain": [
       "                                               input  \\\n",
       "0  Hello doctor,I had mumps five months ago and a...   \n",
       "1  Hello doctor,I am trying to conceive but my hu...   \n",
       "2  Hello doctor,I am currently on the Yaz contrac...   \n",
       "3  Hello doctor,My son aged 13 years has got his ...   \n",
       "4  Hello doctor,I just got one side of my wisdom ...   \n",
       "\n",
       "                                      answer_icliniq  \\\n",
       "0  Hello, Welcome to Chat Doctor forum. I can und...   \n",
       "1  Hello, Wellcome to ChatDoctor. There are few r...   \n",
       "2  Hello. The brown discharge should be temporary...   \n",
       "3  Hello, Welcome to Chat Doctor forum. I have go...   \n",
       "4  Hello. The lump is mostly a hard swelling whic...   \n",
       "\n",
       "                                      answer_chatgpt  \\\n",
       "0  It is possible that you still have an infectio...   \n",
       "1  Hello! Thank you for reaching out.\\n\\nCocaine ...   \n",
       "2  Hello! It's not uncommon to experience some ir...   \n",
       "3  As an AI language model, I am not a doctor and...   \n",
       "4  Hello,\\n\\nIt is normal to have some swelling a...   \n",
       "\n",
       "                                   answer_chatdoctor  \n",
       "0  1) There is no need to worry about reinfection...  \n",
       "1  1) Cocaine use can affect fertility by causing...  \n",
       "2  1) The brown discharge is due to the hormonal ...  \n",
       "3  Hi, welcome to Chat Doctor forum. I understand...  \n",
       "4  Hi, Thanks for your query. It appears that you...  "
      ]
     },
     "execution_count": 674,
     "metadata": {},
     "output_type": "execute_result"
    }
   ],
   "source": [
    "data_2 = pd.read_parquet(glob.glob(dataset_path_2))\n",
    "data_2.head()"
   ]
  },
  {
   "cell_type": "code",
   "execution_count": 675,
   "metadata": {},
   "outputs": [
    {
     "data": {
      "text/plain": [
       "(7321, 4)"
      ]
     },
     "execution_count": 675,
     "metadata": {},
     "output_type": "execute_result"
    }
   ],
   "source": [
    "data_2.shape"
   ]
  },
  {
   "cell_type": "code",
   "execution_count": 676,
   "metadata": {},
   "outputs": [
    {
     "name": "stdout",
     "output_type": "stream",
     "text": [
      "Hello doctor,I had mumps five months ago and after that, I started to have an infection in my left testes. It was swollen and now it has shrunk to almost half the size of the other one. As I am sexually active, I feel a pain in each of the vas deferens after sex. If I do not have sex for days, they become sensitive. I was treated with Ceftum 500 mg, the first time I had an infection. Now my question is, is there any chance that the infection is still in my body? And, do I need to get examined for it? For the time being, please suggest some precautionary antibiotics for my relief.\n",
      "Hello, Welcome to Chat Doctor forum. I can understand your concern. You had mumps and this is a viral infection known to cause an inflammation of the testis in some cases. Take care. For more information consult a sexologist online\n",
      "It is possible that you still have an infection in your testes, especially if you have been experiencing pain and sensitivity in your vas deferens. It is recommended that you consult with a doctor or urologist for an examination and further testing to determine if there is an ongoing infection.\\n\\nAs an AI language model, I cannot prescribe medications or antibiotics. However, taking antibiotics without a doctor's prescription is not recommended. It is important to consult with a healthcare professional for proper diagnosis and treatment.\n",
      "1) There is no need to worry about reinfection as the infection caused by Mumps virus does not persist in the body and is completely cleared up by the immune system.2) The swelling at your scrotum is due to inflammation of epididymis or vas deferens which is a result of mumps infection.3) There is no need to take antibiotics for this problem. You can take anti-inflammatory medicines like Ibuprofen for symptomatic relief.4) Doing cool compresses over the scrotal area will help in reducing the inflammation and pain.\n"
     ]
    }
   ],
   "source": [
    "print(data_2.iloc[0, 0])\n",
    "print(data_2.iloc[0, 1])\n",
    "print(data_2.iloc[0, 2])\n",
    "print(data_2.iloc[0, 3])"
   ]
  },
  {
   "cell_type": "code",
   "execution_count": 677,
   "metadata": {},
   "outputs": [],
   "source": [
    "import uuid\n",
    "\n",
    "with open(file_path, \"a\", encoding=\"utf-8\") as file:\n",
    "    dataset_name = \"ChatDoctor-iCliniq\"\n",
    "    for idx in range(0, len(data_2)):\n",
    "        id_messages = str(uuid.uuid4())\n",
    "        # role: System\n",
    "        System_message = \"You are a helpful, polite and friendly AI assistant. Answer User questions as clearly and concisely as possible.\"\n",
    "        # role: User\n",
    "        User_message = data_2.iloc[idx][\"input\"]\n",
    "        # role: Chatbot\n",
    "        Chatbot_message = data_2.iloc[idx][\"answer_chatdoctor\"]\n",
    "\n",
    "        # write to file\n",
    "        file.writelines(concatenate_string(dataset_name, id_messages, System_message, User_message, Chatbot_message) + \"\\n\")\n",
    "\n",
    "file.close()"
   ]
  },
  {
   "cell_type": "markdown",
   "metadata": {},
   "source": [
    "# liveqa_medical_trec2017"
   ]
  },
  {
   "cell_type": "code",
   "execution_count": 678,
   "metadata": {},
   "outputs": [
    {
     "data": {
      "text/plain": [
       "['..\\\\..\\\\datasets\\\\liveqa_medical_trec2017\\\\README.md',\n",
       " '..\\\\..\\\\datasets\\\\liveqa_medical_trec2017\\\\test.jsonl',\n",
       " '..\\\\..\\\\datasets\\\\liveqa_medical_trec2017\\\\TREC2017-LiveQA-Medical-Train1.jsonl',\n",
       " '..\\\\..\\\\datasets\\\\liveqa_medical_trec2017\\\\TREC2017-LiveQA-Medical-Train2.jsonl']"
      ]
     },
     "execution_count": 678,
     "metadata": {},
     "output_type": "execute_result"
    }
   ],
   "source": [
    "import pandas as pd\n",
    "import glob\n",
    "\n",
    "dataset_path_3 = \"..\\\\..\\\\datasets\\\\liveqa_medical_trec2017\\\\*\"\n",
    "glob.glob(dataset_path_3)"
   ]
  },
  {
   "cell_type": "code",
   "execution_count": 679,
   "metadata": {},
   "outputs": [
    {
     "data": {
      "text/html": [
       "<div>\n",
       "<style scoped>\n",
       "    .dataframe tbody tr th:only-of-type {\n",
       "        vertical-align: middle;\n",
       "    }\n",
       "\n",
       "    .dataframe tbody tr th {\n",
       "        vertical-align: top;\n",
       "    }\n",
       "\n",
       "    .dataframe thead th {\n",
       "        text-align: right;\n",
       "    }\n",
       "</style>\n",
       "<table border=\"1\" class=\"dataframe\">\n",
       "  <thead>\n",
       "    <tr style=\"text-align: right;\">\n",
       "      <th></th>\n",
       "      <th>ANSWERS</th>\n",
       "      <th>SUB_QUESTION_ID</th>\n",
       "      <th>ANNOTATIONS_FOCUS</th>\n",
       "      <th>ANNOTATIONS_TYPE</th>\n",
       "      <th>SUBJECT</th>\n",
       "      <th>MESSAGE</th>\n",
       "      <th>QUESTION_ID</th>\n",
       "      <th>F_REF</th>\n",
       "    </tr>\n",
       "  </thead>\n",
       "  <tbody>\n",
       "    <tr>\n",
       "      <th>0</th>\n",
       "      <td>[{'_answerid': 'Q1-S1-A1', '_pairid': '1', '__...</td>\n",
       "      <td>Q1-S1</td>\n",
       "      <td>[cardiac amyloidosis]</td>\n",
       "      <td>information</td>\n",
       "      <td></td>\n",
       "      <td>Literature on Cardiac amyloidosis.  Please let...</td>\n",
       "      <td>Q1</td>\n",
       "      <td>11373</td>\n",
       "    </tr>\n",
       "    <tr>\n",
       "      <th>1</th>\n",
       "      <td>[{'_answerid': 'Q2-S1-A1', '_pairid': '3', '__...</td>\n",
       "      <td>Q2-S1</td>\n",
       "      <td>[migraine]</td>\n",
       "      <td>treatment</td>\n",
       "      <td>treatment options versus migraine types</td>\n",
       "      <td>Migraine seems to be a spectrum of conditions ...</td>\n",
       "      <td>Q2</td>\n",
       "      <td>1-136434885</td>\n",
       "    </tr>\n",
       "    <tr>\n",
       "      <th>2</th>\n",
       "      <td>[{'_answerid': 'Q3-S1-A1', '_pairid': '5', '__...</td>\n",
       "      <td>Q3-S1</td>\n",
       "      <td>[pyridoxine]</td>\n",
       "      <td>contraindication</td>\n",
       "      <td></td>\n",
       "      <td>DO I USE PYRIDOXINE TABLETS EVEN IF IM PREGNANT?</td>\n",
       "      <td>Q3</td>\n",
       "      <td>1-123453375</td>\n",
       "    </tr>\n",
       "    <tr>\n",
       "      <th>3</th>\n",
       "      <td>[{'_answerid': 'Q4-S1-A1', '_pairid': '6', '__...</td>\n",
       "      <td>Q4-S1</td>\n",
       "      <td>[cramp]</td>\n",
       "      <td>cause</td>\n",
       "      <td>cramp</td>\n",
       "      <td>i have lymphoma what causes cramp after chemo ...</td>\n",
       "      <td>Q4</td>\n",
       "      <td>1-118260435</td>\n",
       "    </tr>\n",
       "    <tr>\n",
       "      <th>4</th>\n",
       "      <td>[{'_answerid': 'Q5-S1-A1', '_pairid': '7', '__...</td>\n",
       "      <td>Q5-S1</td>\n",
       "      <td>[macular degeneration]</td>\n",
       "      <td>treatment</td>\n",
       "      <td>Retina</td>\n",
       "      <td>I wonder of new research and testing on macula...</td>\n",
       "      <td>Q5</td>\n",
       "      <td>1-132032443</td>\n",
       "    </tr>\n",
       "  </tbody>\n",
       "</table>\n",
       "</div>"
      ],
      "text/plain": [
       "                                             ANSWERS SUB_QUESTION_ID  \\\n",
       "0  [{'_answerid': 'Q1-S1-A1', '_pairid': '1', '__...           Q1-S1   \n",
       "1  [{'_answerid': 'Q2-S1-A1', '_pairid': '3', '__...           Q2-S1   \n",
       "2  [{'_answerid': 'Q3-S1-A1', '_pairid': '5', '__...           Q3-S1   \n",
       "3  [{'_answerid': 'Q4-S1-A1', '_pairid': '6', '__...           Q4-S1   \n",
       "4  [{'_answerid': 'Q5-S1-A1', '_pairid': '7', '__...           Q5-S1   \n",
       "\n",
       "        ANNOTATIONS_FOCUS  ANNOTATIONS_TYPE  \\\n",
       "0   [cardiac amyloidosis]       information   \n",
       "1              [migraine]         treatment   \n",
       "2            [pyridoxine]  contraindication   \n",
       "3                 [cramp]             cause   \n",
       "4  [macular degeneration]         treatment   \n",
       "\n",
       "                                   SUBJECT  \\\n",
       "0                                            \n",
       "1  treatment options versus migraine types   \n",
       "2                                            \n",
       "3                                    cramp   \n",
       "4                                   Retina   \n",
       "\n",
       "                                             MESSAGE QUESTION_ID        F_REF  \n",
       "0  Literature on Cardiac amyloidosis.  Please let...          Q1        11373  \n",
       "1  Migraine seems to be a spectrum of conditions ...          Q2  1-136434885  \n",
       "2   DO I USE PYRIDOXINE TABLETS EVEN IF IM PREGNANT?          Q3  1-123453375  \n",
       "3  i have lymphoma what causes cramp after chemo ...          Q4  1-118260435  \n",
       "4  I wonder of new research and testing on macula...          Q5  1-132032443  "
      ]
     },
     "execution_count": 679,
     "metadata": {},
     "output_type": "execute_result"
    }
   ],
   "source": [
    "data_3 = pd.read_json(glob.glob(dataset_path_3)[2], lines=True)\n",
    "data_3.head()"
   ]
  },
  {
   "cell_type": "code",
   "execution_count": 680,
   "metadata": {},
   "outputs": [
    {
     "data": {
      "text/html": [
       "<div>\n",
       "<style scoped>\n",
       "    .dataframe tbody tr th:only-of-type {\n",
       "        vertical-align: middle;\n",
       "    }\n",
       "\n",
       "    .dataframe tbody tr th {\n",
       "        vertical-align: top;\n",
       "    }\n",
       "\n",
       "    .dataframe thead th {\n",
       "        text-align: right;\n",
       "    }\n",
       "</style>\n",
       "<table border=\"1\" class=\"dataframe\">\n",
       "  <thead>\n",
       "    <tr style=\"text-align: right;\">\n",
       "      <th></th>\n",
       "      <th>ANSWERS</th>\n",
       "      <th>SUB_QUESTION_ID</th>\n",
       "      <th>ANNOTATIONS_FOCUS</th>\n",
       "      <th>ANNOTATIONS_TYPE</th>\n",
       "      <th>SUBJECT</th>\n",
       "      <th>MESSAGE</th>\n",
       "      <th>QUESTION_ID</th>\n",
       "      <th>F_REF</th>\n",
       "      <th>ANSWER</th>\n",
       "    </tr>\n",
       "  </thead>\n",
       "  <tbody>\n",
       "    <tr>\n",
       "      <th>0</th>\n",
       "      <td>[{'_answerid': 'Q1-S1-A1', '_pairid': '1', '__...</td>\n",
       "      <td>Q1-S1</td>\n",
       "      <td>[cardiac amyloidosis]</td>\n",
       "      <td>information</td>\n",
       "      <td></td>\n",
       "      <td>Literature on Cardiac amyloidosis.  Please let...</td>\n",
       "      <td>Q1</td>\n",
       "      <td>11373</td>\n",
       "      <td>NaN</td>\n",
       "    </tr>\n",
       "    <tr>\n",
       "      <th>1</th>\n",
       "      <td>[{'_answerid': 'Q2-S1-A1', '_pairid': '3', '__...</td>\n",
       "      <td>Q2-S1</td>\n",
       "      <td>[migraine]</td>\n",
       "      <td>treatment</td>\n",
       "      <td>treatment options versus migraine types</td>\n",
       "      <td>Migraine seems to be a spectrum of conditions ...</td>\n",
       "      <td>Q2</td>\n",
       "      <td>1-136434885</td>\n",
       "      <td>NaN</td>\n",
       "    </tr>\n",
       "    <tr>\n",
       "      <th>2</th>\n",
       "      <td>[{'_answerid': 'Q3-S1-A1', '_pairid': '5', '__...</td>\n",
       "      <td>Q3-S1</td>\n",
       "      <td>[pyridoxine]</td>\n",
       "      <td>contraindication</td>\n",
       "      <td></td>\n",
       "      <td>DO I USE PYRIDOXINE TABLETS EVEN IF IM PREGNANT?</td>\n",
       "      <td>Q3</td>\n",
       "      <td>1-123453375</td>\n",
       "      <td>NaN</td>\n",
       "    </tr>\n",
       "    <tr>\n",
       "      <th>3</th>\n",
       "      <td>[{'_answerid': 'Q4-S1-A1', '_pairid': '6', '__...</td>\n",
       "      <td>Q4-S1</td>\n",
       "      <td>[cramp]</td>\n",
       "      <td>cause</td>\n",
       "      <td>cramp</td>\n",
       "      <td>i have lymphoma what causes cramp after chemo ...</td>\n",
       "      <td>Q4</td>\n",
       "      <td>1-118260435</td>\n",
       "      <td>NaN</td>\n",
       "    </tr>\n",
       "    <tr>\n",
       "      <th>4</th>\n",
       "      <td>[{'_answerid': 'Q5-S1-A1', '_pairid': '7', '__...</td>\n",
       "      <td>Q5-S1</td>\n",
       "      <td>[macular degeneration]</td>\n",
       "      <td>treatment</td>\n",
       "      <td>Retina</td>\n",
       "      <td>I wonder of new research and testing on macula...</td>\n",
       "      <td>Q5</td>\n",
       "      <td>1-132032443</td>\n",
       "      <td>NaN</td>\n",
       "    </tr>\n",
       "  </tbody>\n",
       "</table>\n",
       "</div>"
      ],
      "text/plain": [
       "                                             ANSWERS SUB_QUESTION_ID  \\\n",
       "0  [{'_answerid': 'Q1-S1-A1', '_pairid': '1', '__...           Q1-S1   \n",
       "1  [{'_answerid': 'Q2-S1-A1', '_pairid': '3', '__...           Q2-S1   \n",
       "2  [{'_answerid': 'Q3-S1-A1', '_pairid': '5', '__...           Q3-S1   \n",
       "3  [{'_answerid': 'Q4-S1-A1', '_pairid': '6', '__...           Q4-S1   \n",
       "4  [{'_answerid': 'Q5-S1-A1', '_pairid': '7', '__...           Q5-S1   \n",
       "\n",
       "        ANNOTATIONS_FOCUS  ANNOTATIONS_TYPE  \\\n",
       "0   [cardiac amyloidosis]       information   \n",
       "1              [migraine]         treatment   \n",
       "2            [pyridoxine]  contraindication   \n",
       "3                 [cramp]             cause   \n",
       "4  [macular degeneration]         treatment   \n",
       "\n",
       "                                   SUBJECT  \\\n",
       "0                                            \n",
       "1  treatment options versus migraine types   \n",
       "2                                            \n",
       "3                                    cramp   \n",
       "4                                   Retina   \n",
       "\n",
       "                                             MESSAGE QUESTION_ID        F_REF  \\\n",
       "0  Literature on Cardiac amyloidosis.  Please let...          Q1        11373   \n",
       "1  Migraine seems to be a spectrum of conditions ...          Q2  1-136434885   \n",
       "2   DO I USE PYRIDOXINE TABLETS EVEN IF IM PREGNANT?          Q3  1-123453375   \n",
       "3  i have lymphoma what causes cramp after chemo ...          Q4  1-118260435   \n",
       "4  I wonder of new research and testing on macula...          Q5  1-132032443   \n",
       "\n",
       "  ANSWER  \n",
       "0    NaN  \n",
       "1    NaN  \n",
       "2    NaN  \n",
       "3    NaN  \n",
       "4    NaN  "
      ]
     },
     "execution_count": 680,
     "metadata": {},
     "output_type": "execute_result"
    }
   ],
   "source": [
    "# read second dataset and concatenate\n",
    "data_4 = pd.read_json(glob.glob(dataset_path_3)[3], lines=True)\n",
    "data_3 = pd.concat([data_3, data_4], ignore_index=True)\n",
    "data_3.head()"
   ]
  },
  {
   "cell_type": "code",
   "execution_count": 681,
   "metadata": {},
   "outputs": [
    {
     "data": {
      "text/plain": [
       "(500, 9)"
      ]
     },
     "execution_count": 681,
     "metadata": {},
     "output_type": "execute_result"
    }
   ],
   "source": [
    "data_3.shape"
   ]
  },
  {
   "cell_type": "code",
   "execution_count": 682,
   "metadata": {},
   "outputs": [
    {
     "name": "stdout",
     "output_type": "stream",
     "text": [
      "[{'_answerid': 'Q1-S1-A1', '_pairid': '1', '__text': 'Cardiac amyloidosis is a disorder caused by deposits of an abnormal protein (amyloid) in the heart tissue. These deposits make it hard for the heart to work properly.'}, {'_answerid': 'Q1-S1-A2', '_pairid': '2', '__text': 'The term \"amyloidosis\" refers not to a single disease but to a collection of diseases in which a protein-based infiltrate deposits in tissues as beta-pleated sheets. The subtype of the disease is determined by which protein is depositing; although dozens of subtypes have been described, most are incredibly rare or of trivial importance. This analysis will focus on the main systemic forms of amyloidosis, both of which frequently involve the heart.'}]\n",
      "Q1-S1\n",
      "['cardiac amyloidosis']\n",
      "information\n",
      "\n",
      "Literature on Cardiac amyloidosis.  Please let me know where I can get literature on Cardiac amyloidosis.  My uncle died yesterday from this disorder.  Since this is such a rare disorder, and to honor his memory, I would like to distribute literature at his funeral service.  I am a retired NIH employee, so I am familiar with the campus in case you have literature at NIH that I can come and pick up.  Thank you\n",
      "Q1\n",
      "11373\n",
      "nan\n"
     ]
    }
   ],
   "source": [
    "print(data_3.iloc[0, 0])\n",
    "print(data_3.iloc[0, 1])\n",
    "print(data_3.iloc[0, 2])\n",
    "print(data_3.iloc[0, 3])\n",
    "print(data_3.iloc[0, 4])\n",
    "print(data_3.iloc[0, 5])\n",
    "print(data_3.iloc[0, 6])\n",
    "print(data_3.iloc[0, 7])\n",
    "print(data_3.iloc[0, 8])"
   ]
  },
  {
   "cell_type": "code",
   "execution_count": 683,
   "metadata": {},
   "outputs": [],
   "source": [
    "# pass this dataset"
   ]
  },
  {
   "cell_type": "markdown",
   "metadata": {},
   "source": [
    "# medical-eval-sphere"
   ]
  },
  {
   "cell_type": "code",
   "execution_count": 684,
   "metadata": {},
   "outputs": [
    {
     "data": {
      "text/plain": [
       "['..\\\\..\\\\datasets\\\\medical-eval-sphere\\\\data',\n",
       " '..\\\\..\\\\datasets\\\\medical-eval-sphere\\\\README.md']"
      ]
     },
     "execution_count": 684,
     "metadata": {},
     "output_type": "execute_result"
    }
   ],
   "source": [
    "import pandas as pd\n",
    "import glob\n",
    "\n",
    "dataset_path_4 = \"..\\\\..\\\\datasets\\\\medical-eval-sphere\\\\*\"\n",
    "glob.glob(dataset_path_4)"
   ]
  },
  {
   "cell_type": "code",
   "execution_count": 685,
   "metadata": {},
   "outputs": [
    {
     "data": {
      "text/plain": [
       "['..\\\\..\\\\datasets\\\\medical-eval-sphere\\\\data\\\\medical_qa_benchmark_v1.0-00000-of-00001.parquet']"
      ]
     },
     "execution_count": 685,
     "metadata": {},
     "output_type": "execute_result"
    }
   ],
   "source": [
    "glob.glob(\"..\\\\..\\\\datasets\\\\medical-eval-sphere\\\\data\\\\*\")"
   ]
  },
  {
   "cell_type": "code",
   "execution_count": 686,
   "metadata": {},
   "outputs": [
    {
     "data": {
      "text/html": [
       "<div>\n",
       "<style scoped>\n",
       "    .dataframe tbody tr th:only-of-type {\n",
       "        vertical-align: middle;\n",
       "    }\n",
       "\n",
       "    .dataframe tbody tr th {\n",
       "        vertical-align: top;\n",
       "    }\n",
       "\n",
       "    .dataframe thead th {\n",
       "        text-align: right;\n",
       "    }\n",
       "</style>\n",
       "<table border=\"1\" class=\"dataframe\">\n",
       "  <thead>\n",
       "    <tr style=\"text-align: right;\">\n",
       "      <th></th>\n",
       "      <th>global_key</th>\n",
       "      <th>batch_id</th>\n",
       "      <th>medical_question</th>\n",
       "      <th>model_a</th>\n",
       "      <th>response_a</th>\n",
       "      <th>model_b</th>\n",
       "      <th>response_b</th>\n",
       "      <th>pair_order</th>\n",
       "      <th>annotations</th>\n",
       "    </tr>\n",
       "  </thead>\n",
       "  <tbody>\n",
       "    <tr>\n",
       "      <th>0</th>\n",
       "      <td>8769e2a3-85e3-4357-97cb-de9a19e6baf0</td>\n",
       "      <td>1</td>\n",
       "      <td>Why was arsenic used to treat diseases?</td>\n",
       "      <td>biomistral-7b-dare</td>\n",
       "      <td>Arsenic was used to treat diseases due to its ...</td>\n",
       "      <td>alpacare-llama2-13b</td>\n",
       "      <td>Arsenic was used to treat diseases because it ...</td>\n",
       "      <td>biomistral-7b-dare@alpacare-llama2-13b</td>\n",
       "      <td>{\"difficulty\": {\"annotator1\": \"basic\", \"annota...</td>\n",
       "    </tr>\n",
       "    <tr>\n",
       "      <th>1</th>\n",
       "      <td>129b615e-e84a-484c-87a4-f7d130bc44f4</td>\n",
       "      <td>1</td>\n",
       "      <td>If a 70-year-old woman who is 5’6” tall and we...</td>\n",
       "      <td>biomistral-7b-dare</td>\n",
       "      <td>The glomerular filtration rate (GFR) is a meas...</td>\n",
       "      <td>alpacare-llama2-13b</td>\n",
       "      <td>Yes, a weight loss of 15 pounds can potentiall...</td>\n",
       "      <td>biomistral-7b-dare@alpacare-llama2-13b</td>\n",
       "      <td>{\"difficulty\": {\"annotator1\": \"advanced\", \"ann...</td>\n",
       "    </tr>\n",
       "    <tr>\n",
       "      <th>2</th>\n",
       "      <td>13f07370-9abc-4f64-96c2-8b267a2e0f1f</td>\n",
       "      <td>1</td>\n",
       "      <td>How long after a catheterization done via the ...</td>\n",
       "      <td>biomistral-7b-dare</td>\n",
       "      <td>After a catheterization done via the wrist, it...</td>\n",
       "      <td>alpacare-llama2-13b</td>\n",
       "      <td>It is generally safe to resume light resistanc...</td>\n",
       "      <td>biomistral-7b-dare@alpacare-llama2-13b</td>\n",
       "      <td>{\"difficulty\": {\"annotator1\": \"intermediate\", ...</td>\n",
       "    </tr>\n",
       "    <tr>\n",
       "      <th>3</th>\n",
       "      <td>d1a979f2-9bf7-46c9-a910-f793547f298e</td>\n",
       "      <td>1</td>\n",
       "      <td>What oil is good for you to cook with?</td>\n",
       "      <td>biomistral-7b-dare</td>\n",
       "      <td>Olive oil is considered one of the healthiest ...</td>\n",
       "      <td>alpacare-llama2-13b</td>\n",
       "      <td>When it comes to cooking oil, there are severa...</td>\n",
       "      <td>biomistral-7b-dare@alpacare-llama2-13b</td>\n",
       "      <td>{\"difficulty\": {\"annotator1\": \"basic\", \"annota...</td>\n",
       "    </tr>\n",
       "    <tr>\n",
       "      <th>4</th>\n",
       "      <td>440c6071-ff40-4cab-a078-97709008dbaf</td>\n",
       "      <td>1</td>\n",
       "      <td>What amount of narrowing of arteries requires ...</td>\n",
       "      <td>alpacare-llama2-13b</td>\n",
       "      <td>The decision to perform angioplasty or stent p...</td>\n",
       "      <td>biomistral-7b-dare</td>\n",
       "      <td>The decision to perform angioplasty or stentin...</td>\n",
       "      <td>alpacare-llama2-13b@biomistral-7b-dare</td>\n",
       "      <td>{\"difficulty\": {\"annotator1\": \"advanced\", \"ann...</td>\n",
       "    </tr>\n",
       "  </tbody>\n",
       "</table>\n",
       "</div>"
      ],
      "text/plain": [
       "                             global_key  batch_id  \\\n",
       "0  8769e2a3-85e3-4357-97cb-de9a19e6baf0         1   \n",
       "1  129b615e-e84a-484c-87a4-f7d130bc44f4         1   \n",
       "2  13f07370-9abc-4f64-96c2-8b267a2e0f1f         1   \n",
       "3  d1a979f2-9bf7-46c9-a910-f793547f298e         1   \n",
       "4  440c6071-ff40-4cab-a078-97709008dbaf         1   \n",
       "\n",
       "                                    medical_question              model_a  \\\n",
       "0            Why was arsenic used to treat diseases?   biomistral-7b-dare   \n",
       "1  If a 70-year-old woman who is 5’6” tall and we...   biomistral-7b-dare   \n",
       "2  How long after a catheterization done via the ...   biomistral-7b-dare   \n",
       "3             What oil is good for you to cook with?   biomistral-7b-dare   \n",
       "4  What amount of narrowing of arteries requires ...  alpacare-llama2-13b   \n",
       "\n",
       "                                          response_a              model_b  \\\n",
       "0  Arsenic was used to treat diseases due to its ...  alpacare-llama2-13b   \n",
       "1  The glomerular filtration rate (GFR) is a meas...  alpacare-llama2-13b   \n",
       "2  After a catheterization done via the wrist, it...  alpacare-llama2-13b   \n",
       "3  Olive oil is considered one of the healthiest ...  alpacare-llama2-13b   \n",
       "4  The decision to perform angioplasty or stent p...   biomistral-7b-dare   \n",
       "\n",
       "                                          response_b  \\\n",
       "0  Arsenic was used to treat diseases because it ...   \n",
       "1  Yes, a weight loss of 15 pounds can potentiall...   \n",
       "2  It is generally safe to resume light resistanc...   \n",
       "3  When it comes to cooking oil, there are severa...   \n",
       "4  The decision to perform angioplasty or stentin...   \n",
       "\n",
       "                               pair_order  \\\n",
       "0  biomistral-7b-dare@alpacare-llama2-13b   \n",
       "1  biomistral-7b-dare@alpacare-llama2-13b   \n",
       "2  biomistral-7b-dare@alpacare-llama2-13b   \n",
       "3  biomistral-7b-dare@alpacare-llama2-13b   \n",
       "4  alpacare-llama2-13b@biomistral-7b-dare   \n",
       "\n",
       "                                         annotations  \n",
       "0  {\"difficulty\": {\"annotator1\": \"basic\", \"annota...  \n",
       "1  {\"difficulty\": {\"annotator1\": \"advanced\", \"ann...  \n",
       "2  {\"difficulty\": {\"annotator1\": \"intermediate\", ...  \n",
       "3  {\"difficulty\": {\"annotator1\": \"basic\", \"annota...  \n",
       "4  {\"difficulty\": {\"annotator1\": \"advanced\", \"ann...  "
      ]
     },
     "execution_count": 686,
     "metadata": {},
     "output_type": "execute_result"
    }
   ],
   "source": [
    "data_4 = pd.read_parquet(glob.glob(\"..\\\\..\\\\datasets\\\\medical-eval-sphere\\\\data\\\\*\")[0])\n",
    "data_4.head()"
   ]
  },
  {
   "cell_type": "code",
   "execution_count": 687,
   "metadata": {},
   "outputs": [
    {
     "data": {
      "text/plain": [
       "(400, 9)"
      ]
     },
     "execution_count": 687,
     "metadata": {},
     "output_type": "execute_result"
    }
   ],
   "source": [
    "data_4.shape"
   ]
  },
  {
   "cell_type": "code",
   "execution_count": 688,
   "metadata": {},
   "outputs": [
    {
     "name": "stdout",
     "output_type": "stream",
     "text": [
      "8769e2a3-85e3-4357-97cb-de9a19e6baf0\n",
      "1\n",
      "Why was arsenic used to treat diseases?\n",
      "biomistral-7b-dare\n",
      "Arsenic was used to treat diseases due to its antimicrobial and anti-inflammatory properties. It was also used to treat syphilis, a sexually transmitted disease. However, arsenic is now known to be a toxic substance that can cause various health problems, including cancer, heart disease, and neurological disorders.\n",
      "alpacare-llama2-13b\n",
      "Arsenic was used to treat diseases because it was believed to have medicinal properties and could be effective in treating certain conditions such as syphilis and intestinal worm infections. However, its use was later discontinued due to the high toxicity and potential harmful effects on the body. Today, arsenic is not used as a medication except in specific cases where other treatments have failed and under strict medical supervision.\n",
      "biomistral-7b-dare@alpacare-llama2-13b\n",
      "{\"difficulty\": {\"annotator1\": \"basic\", \"annotator2\": \"intermediate\", \"llm\": \"basic\"}, \"correctness\": {\"annotator1\": \"alpacare-llama2-13b\", \"annotator2\": \"alpacare-llama2-13b\", \"llm\": \"tie\"}, \"helpfulness\": {\"annotator1\": \"alpacare-llama2-13b\", \"annotator2\": \"alpacare-llama2-13b\", \"llm\": \"alpacare-llama2-13b\"}, \"harmfulness\": {\"annotator1\": \"neither\", \"annotator2\": \"neither\", \"llm\": \"tie\"}, \"reasoning\": {\"annotator1\": \"alpacare-llama2-13b\", \"annotator2\": \"alpacare-llama2-13b\", \"llm\": \"alpacare-llama2-13b\"}, \"efficiency\": {\"annotator1\": \"tie\", \"annotator2\": \"alpacare-llama2-13b\", \"llm\": \"tie\"}, \"bias\": {\"annotator1\": \"neither\", \"annotator2\": \"neither\", \"llm\": \"tie\"}}\n"
     ]
    }
   ],
   "source": [
    "print(data_4.iloc[0, 0])\n",
    "print(data_4.iloc[0, 1])\n",
    "print(data_4.iloc[0, 2])\n",
    "print(data_4.iloc[0, 3])\n",
    "print(data_4.iloc[0, 4])\n",
    "print(data_4.iloc[0, 5])\n",
    "print(data_4.iloc[0, 6])\n",
    "print(data_4.iloc[0, 7])\n",
    "print(data_4.iloc[0, 8])\n"
   ]
  },
  {
   "cell_type": "code",
   "execution_count": 689,
   "metadata": {},
   "outputs": [],
   "source": [
    "import uuid\n",
    "\n",
    "with open(file_path, \"a\", encoding=\"utf-8\") as file:\n",
    "    dataset_name = \"medical-eval-sphere\"\n",
    "    for idx in range(0, len(data_4)):\n",
    "        id_messages = str(uuid.uuid4())\n",
    "        # role: System\n",
    "        System_message = \"You are a helpful, polite and friendly AI assistant. Answer User questions as clearly and concisely as possible.\"\n",
    "        # role: User\n",
    "        User_message = data_4.iloc[idx][\"medical_question\"]\n",
    "        # role: Chatbot\n",
    "        Chatbot_message = data_4.iloc[idx][\"response_a\"]\n",
    "\n",
    "        # write to file\n",
    "        file.writelines(concatenate_string(dataset_name, id_messages, System_message, User_message, Chatbot_message) + \"\\n\")\n",
    "\n",
    "file.close()"
   ]
  },
  {
   "cell_type": "markdown",
   "metadata": {},
   "source": [
    "# medical_meadow_cord19"
   ]
  },
  {
   "cell_type": "code",
   "execution_count": 690,
   "metadata": {},
   "outputs": [
    {
     "data": {
      "text/plain": [
       "['..\\\\..\\\\datasets\\\\medical_meadow_cord19\\\\medical_meadow_cord19.json',\n",
       " '..\\\\..\\\\datasets\\\\medical_meadow_cord19\\\\README.md']"
      ]
     },
     "execution_count": 690,
     "metadata": {},
     "output_type": "execute_result"
    }
   ],
   "source": [
    "import pandas as pd\n",
    "import glob\n",
    "\n",
    "dataset_path_5 = \"..\\\\..\\\\datasets\\\\medical_meadow_cord19\\\\*\"\n",
    "glob.glob(dataset_path_5)"
   ]
  },
  {
   "cell_type": "code",
   "execution_count": 691,
   "metadata": {},
   "outputs": [],
   "source": [
    "# this dataset is too large"
   ]
  },
  {
   "cell_type": "markdown",
   "metadata": {},
   "source": [
    "# medical_meadow_medical_flashcards"
   ]
  },
  {
   "cell_type": "code",
   "execution_count": 692,
   "metadata": {},
   "outputs": [
    {
     "data": {
      "text/plain": [
       "['..\\\\..\\\\datasets\\\\medical_meadow_medical_flashcards\\\\medical_meadow_wikidoc_medical_flashcards.json',\n",
       " '..\\\\..\\\\datasets\\\\medical_meadow_medical_flashcards\\\\README.md']"
      ]
     },
     "execution_count": 692,
     "metadata": {},
     "output_type": "execute_result"
    }
   ],
   "source": [
    "import pandas as pd\n",
    "import glob\n",
    "\n",
    "dataset_path_6 = \"..\\\\..\\\\datasets\\\\medical_meadow_medical_flashcards\\\\*\"\n",
    "glob.glob(dataset_path_6)"
   ]
  },
  {
   "cell_type": "code",
   "execution_count": 693,
   "metadata": {},
   "outputs": [
    {
     "data": {
      "text/html": [
       "<div>\n",
       "<style scoped>\n",
       "    .dataframe tbody tr th:only-of-type {\n",
       "        vertical-align: middle;\n",
       "    }\n",
       "\n",
       "    .dataframe tbody tr th {\n",
       "        vertical-align: top;\n",
       "    }\n",
       "\n",
       "    .dataframe thead th {\n",
       "        text-align: right;\n",
       "    }\n",
       "</style>\n",
       "<table border=\"1\" class=\"dataframe\">\n",
       "  <thead>\n",
       "    <tr style=\"text-align: right;\">\n",
       "      <th></th>\n",
       "      <th>instruction</th>\n",
       "      <th>input</th>\n",
       "      <th>output</th>\n",
       "    </tr>\n",
       "  </thead>\n",
       "  <tbody>\n",
       "    <tr>\n",
       "      <th>0</th>\n",
       "      <td>Answer this question truthfully</td>\n",
       "      <td>What is the relationship between very low Mg2+...</td>\n",
       "      <td>Very low Mg2+ levels correspond to low PTH lev...</td>\n",
       "    </tr>\n",
       "    <tr>\n",
       "      <th>1</th>\n",
       "      <td>Answer this question truthfully</td>\n",
       "      <td>What leads to genitourinary syndrome of menopa...</td>\n",
       "      <td>Low estradiol production leads to genitourinar...</td>\n",
       "    </tr>\n",
       "    <tr>\n",
       "      <th>2</th>\n",
       "      <td>Answer this question truthfully</td>\n",
       "      <td>What does low REM sleep latency and experienci...</td>\n",
       "      <td>Low REM sleep latency and experiencing halluci...</td>\n",
       "    </tr>\n",
       "    <tr>\n",
       "      <th>3</th>\n",
       "      <td>Answer this question truthfully</td>\n",
       "      <td>What are some possible causes of low PTH and h...</td>\n",
       "      <td>PTH-independent hypercalcemia, which can be ca...</td>\n",
       "    </tr>\n",
       "    <tr>\n",
       "      <th>4</th>\n",
       "      <td>Answer this question truthfully</td>\n",
       "      <td>How does the level of anti-müllerian hormone r...</td>\n",
       "      <td>The level of anti-müllerian hormone is directl...</td>\n",
       "    </tr>\n",
       "  </tbody>\n",
       "</table>\n",
       "</div>"
      ],
      "text/plain": [
       "                       instruction  \\\n",
       "0  Answer this question truthfully   \n",
       "1  Answer this question truthfully   \n",
       "2  Answer this question truthfully   \n",
       "3  Answer this question truthfully   \n",
       "4  Answer this question truthfully   \n",
       "\n",
       "                                               input  \\\n",
       "0  What is the relationship between very low Mg2+...   \n",
       "1  What leads to genitourinary syndrome of menopa...   \n",
       "2  What does low REM sleep latency and experienci...   \n",
       "3  What are some possible causes of low PTH and h...   \n",
       "4  How does the level of anti-müllerian hormone r...   \n",
       "\n",
       "                                              output  \n",
       "0  Very low Mg2+ levels correspond to low PTH lev...  \n",
       "1  Low estradiol production leads to genitourinar...  \n",
       "2  Low REM sleep latency and experiencing halluci...  \n",
       "3  PTH-independent hypercalcemia, which can be ca...  \n",
       "4  The level of anti-müllerian hormone is directl...  "
      ]
     },
     "execution_count": 693,
     "metadata": {},
     "output_type": "execute_result"
    }
   ],
   "source": [
    "data_6 = pd.read_json(glob.glob(dataset_path_6)[0], lines=False)\n",
    "data_6.head()"
   ]
  },
  {
   "cell_type": "code",
   "execution_count": 694,
   "metadata": {},
   "outputs": [
    {
     "data": {
      "text/plain": [
       "(33955, 3)"
      ]
     },
     "execution_count": 694,
     "metadata": {},
     "output_type": "execute_result"
    }
   ],
   "source": [
    "data_6.shape"
   ]
  },
  {
   "cell_type": "code",
   "execution_count": 695,
   "metadata": {},
   "outputs": [
    {
     "name": "stdout",
     "output_type": "stream",
     "text": [
      "Answer this question truthfully\n",
      "What is the relationship between very low Mg2+ levels, PTH levels, and Ca2+ levels?\n",
      "Very low Mg2+ levels correspond to low PTH levels which in turn results in low Ca2+ levels.\n"
     ]
    }
   ],
   "source": [
    "print(data_6.iloc[0, 0])\n",
    "print(data_6.iloc[0, 1])\n",
    "print(data_6.iloc[0, 2])"
   ]
  },
  {
   "cell_type": "code",
   "execution_count": 696,
   "metadata": {},
   "outputs": [],
   "source": [
    "import uuid\n",
    "\n",
    "with open(file_path, \"a\", encoding=\"utf-8\") as file:\n",
    "    dataset_name = \"medical_meadow_medical_flashcards\"\n",
    "    for idx in range(0, len(data_6)):\n",
    "        id_messages = str(uuid.uuid4())\n",
    "        # role: System\n",
    "        System_message = data_6.iloc[idx][\"instruction\"]\n",
    "        # role: User\n",
    "        User_message = data_6.iloc[idx][\"input\"]\n",
    "        # role: Chatbot\n",
    "        Chatbot_message = data_6.iloc[idx][\"output\"]\n",
    "\n",
    "        # write to file\n",
    "        file.writelines(concatenate_string(dataset_name, id_messages, System_message, User_message, Chatbot_message) + \"\\n\")\n",
    "\n",
    "file.close()"
   ]
  },
  {
   "cell_type": "markdown",
   "metadata": {},
   "source": [
    "# medical_meadow_mediqa"
   ]
  },
  {
   "cell_type": "code",
   "execution_count": 697,
   "metadata": {},
   "outputs": [
    {
     "data": {
      "text/plain": [
       "['..\\\\..\\\\datasets\\\\medical_meadow_mediqa\\\\medical_meadow_mediqa.json',\n",
       " '..\\\\..\\\\datasets\\\\medical_meadow_mediqa\\\\README.md']"
      ]
     },
     "execution_count": 697,
     "metadata": {},
     "output_type": "execute_result"
    }
   ],
   "source": [
    "import pandas as pd\n",
    "import glob\n",
    "\n",
    "dataset_path_7 = \"..\\\\..\\\\datasets\\\\medical_meadow_mediqa\\\\*\"\n",
    "glob.glob(dataset_path_7)"
   ]
  },
  {
   "cell_type": "code",
   "execution_count": 698,
   "metadata": {},
   "outputs": [
    {
     "data": {
      "text/html": [
       "<div>\n",
       "<style scoped>\n",
       "    .dataframe tbody tr th:only-of-type {\n",
       "        vertical-align: middle;\n",
       "    }\n",
       "\n",
       "    .dataframe tbody tr th {\n",
       "        vertical-align: top;\n",
       "    }\n",
       "\n",
       "    .dataframe thead th {\n",
       "        text-align: right;\n",
       "    }\n",
       "</style>\n",
       "<table border=\"1\" class=\"dataframe\">\n",
       "  <thead>\n",
       "    <tr style=\"text-align: right;\">\n",
       "      <th></th>\n",
       "      <th>instruction</th>\n",
       "      <th>input</th>\n",
       "      <th>output</th>\n",
       "    </tr>\n",
       "  </thead>\n",
       "  <tbody>\n",
       "    <tr>\n",
       "      <th>0</th>\n",
       "      <td>abetalipoproteimemia hi, I would like to know ...</td>\n",
       "      <td>Bassen-Kornzweig syndrome (Exams and Tests): T...</td>\n",
       "      <td>Abetalipoproteimemia, also known as Bassen-Kor...</td>\n",
       "    </tr>\n",
       "    <tr>\n",
       "      <th>1</th>\n",
       "      <td>abetalipoproteimemia hi, I would like to know ...</td>\n",
       "      <td>Bassen-Kornzweig syndrome: Bassen-Kornzweig sy...</td>\n",
       "      <td>Abetalipoproteimemia, also known as Bassen-Kor...</td>\n",
       "    </tr>\n",
       "    <tr>\n",
       "      <th>2</th>\n",
       "      <td>abetalipoproteimemia hi, I would like to know ...</td>\n",
       "      <td>Abetalipoproteinemia: Abetalipoproteinemia is ...</td>\n",
       "      <td>Large doses of  fat-soluble vitamins (vitamin ...</td>\n",
       "    </tr>\n",
       "    <tr>\n",
       "      <th>3</th>\n",
       "      <td>abetalipoproteimemia hi, I would like to know ...</td>\n",
       "      <td>abetalipoproteinemia: Abetalipoproteinemia is ...</td>\n",
       "      <td>People with abetalipoproteinemia are not able ...</td>\n",
       "    </tr>\n",
       "    <tr>\n",
       "      <th>4</th>\n",
       "      <td>about thalassemia treatment sir,my friend is s...</td>\n",
       "      <td>Sickle beta thalassemia (Treatment): Treatment...</td>\n",
       "      <td>Treatment for sickle beta thalassemia  may inc...</td>\n",
       "    </tr>\n",
       "  </tbody>\n",
       "</table>\n",
       "</div>"
      ],
      "text/plain": [
       "                                         instruction  \\\n",
       "0  abetalipoproteimemia hi, I would like to know ...   \n",
       "1  abetalipoproteimemia hi, I would like to know ...   \n",
       "2  abetalipoproteimemia hi, I would like to know ...   \n",
       "3  abetalipoproteimemia hi, I would like to know ...   \n",
       "4  about thalassemia treatment sir,my friend is s...   \n",
       "\n",
       "                                               input  \\\n",
       "0  Bassen-Kornzweig syndrome (Exams and Tests): T...   \n",
       "1  Bassen-Kornzweig syndrome: Bassen-Kornzweig sy...   \n",
       "2  Abetalipoproteinemia: Abetalipoproteinemia is ...   \n",
       "3  abetalipoproteinemia: Abetalipoproteinemia is ...   \n",
       "4  Sickle beta thalassemia (Treatment): Treatment...   \n",
       "\n",
       "                                              output  \n",
       "0  Abetalipoproteimemia, also known as Bassen-Kor...  \n",
       "1  Abetalipoproteimemia, also known as Bassen-Kor...  \n",
       "2  Large doses of  fat-soluble vitamins (vitamin ...  \n",
       "3  People with abetalipoproteinemia are not able ...  \n",
       "4  Treatment for sickle beta thalassemia  may inc...  "
      ]
     },
     "execution_count": 698,
     "metadata": {},
     "output_type": "execute_result"
    }
   ],
   "source": [
    "data_7 = pd.read_json(glob.glob(dataset_path_7)[0], lines=False)\n",
    "data_7.head()"
   ]
  },
  {
   "cell_type": "code",
   "execution_count": 699,
   "metadata": {},
   "outputs": [
    {
     "data": {
      "text/plain": [
       "(2208, 3)"
      ]
     },
     "execution_count": 699,
     "metadata": {},
     "output_type": "execute_result"
    }
   ],
   "source": [
    "data_7.shape"
   ]
  },
  {
   "cell_type": "code",
   "execution_count": 700,
   "metadata": {},
   "outputs": [
    {
     "name": "stdout",
     "output_type": "stream",
     "text": [
      "abetalipoproteimemia hi, I would like to know if there is any support for those suffering with abetalipoproteinemia? I am not diagnosed but have had many test that indicate I am suffering with this, keen to learn how to get it diagnosed and how to manage, many thanks\n",
      "Bassen-Kornzweig syndrome (Exams and Tests): There may be damage to the retina of the eye (retinitis pigmentosa).   Tests that may be done to help diagnose this condition include:     - Apolipoprotein B blood test   - Blood tests to look for vitamin deficiencies (fat-soluble vitamins A, D, E, and K)   - \"Burr-cell\" malformation of the red cells (acanthocytosis)   - Complete blood count (CBC)   - Cholesterol studies   - Electromyography   - Eye exam   - Nerve conduction velocity   - Stool sample analysis      Genetic testing may be available for mutations in the MTP gene.\n",
      "Abetalipoproteimemia, also known as Bassen-Kornzweig syndrome, is diagnosed using blood tests for Apolipoprotein B, vitamin deficiencies, malformation of red blood cels, complete blood count and cholesterol. Other tests include  electromyography, eye exams, nerve conduction velocity, stool sample analysis, and  genetic testing  for mutations in the MTP gene.\n"
     ]
    }
   ],
   "source": [
    "print(data_7.iloc[0, 0])\n",
    "print(data_7.iloc[0, 1])\n",
    "print(data_7.iloc[0, 2])"
   ]
  },
  {
   "cell_type": "code",
   "execution_count": 701,
   "metadata": {},
   "outputs": [],
   "source": [
    "# pass this dataset"
   ]
  },
  {
   "cell_type": "markdown",
   "metadata": {},
   "source": [
    "# medical_meadow_medqa"
   ]
  },
  {
   "cell_type": "code",
   "execution_count": 702,
   "metadata": {},
   "outputs": [
    {
     "data": {
      "text/plain": [
       "['..\\\\..\\\\datasets\\\\medical_meadow_medqa\\\\medical_meadow_medqa.json',\n",
       " '..\\\\..\\\\datasets\\\\medical_meadow_medqa\\\\README.md']"
      ]
     },
     "execution_count": 702,
     "metadata": {},
     "output_type": "execute_result"
    }
   ],
   "source": [
    "import pandas as pd\n",
    "import glob\n",
    "\n",
    "dataset_path_8 = \"..\\\\..\\\\datasets\\\\medical_meadow_medqa\\\\*\"\n",
    "glob.glob(dataset_path_8)"
   ]
  },
  {
   "cell_type": "code",
   "execution_count": 703,
   "metadata": {},
   "outputs": [
    {
     "data": {
      "text/html": [
       "<div>\n",
       "<style scoped>\n",
       "    .dataframe tbody tr th:only-of-type {\n",
       "        vertical-align: middle;\n",
       "    }\n",
       "\n",
       "    .dataframe tbody tr th {\n",
       "        vertical-align: top;\n",
       "    }\n",
       "\n",
       "    .dataframe thead th {\n",
       "        text-align: right;\n",
       "    }\n",
       "</style>\n",
       "<table border=\"1\" class=\"dataframe\">\n",
       "  <thead>\n",
       "    <tr style=\"text-align: right;\">\n",
       "      <th></th>\n",
       "      <th>instruction</th>\n",
       "      <th>input</th>\n",
       "      <th>output</th>\n",
       "    </tr>\n",
       "  </thead>\n",
       "  <tbody>\n",
       "    <tr>\n",
       "      <th>0</th>\n",
       "      <td>Please answer with one of the option in the br...</td>\n",
       "      <td>Q:A 23-year-old pregnant woman at 22 weeks ges...</td>\n",
       "      <td>E: Nitrofurantoin</td>\n",
       "    </tr>\n",
       "    <tr>\n",
       "      <th>1</th>\n",
       "      <td>Please answer with one of the option in the br...</td>\n",
       "      <td>Q:A 3-month-old baby died suddenly at night wh...</td>\n",
       "      <td>A: Placing the infant in a supine position on ...</td>\n",
       "    </tr>\n",
       "    <tr>\n",
       "      <th>2</th>\n",
       "      <td>Please answer with one of the option in the br...</td>\n",
       "      <td>Q:A mother brings her 3-week-old infant to the...</td>\n",
       "      <td>A: Abnormal migration of ventral pancreatic bud</td>\n",
       "    </tr>\n",
       "    <tr>\n",
       "      <th>3</th>\n",
       "      <td>Please answer with one of the option in the br...</td>\n",
       "      <td>Q:A pulmonary autopsy specimen from a 58-year-...</td>\n",
       "      <td>A: Thromboembolism</td>\n",
       "    </tr>\n",
       "    <tr>\n",
       "      <th>4</th>\n",
       "      <td>Please answer with one of the option in the br...</td>\n",
       "      <td>Q:A 20-year-old woman presents with menorrhagi...</td>\n",
       "      <td>E: Von Willebrand disease</td>\n",
       "    </tr>\n",
       "  </tbody>\n",
       "</table>\n",
       "</div>"
      ],
      "text/plain": [
       "                                         instruction  \\\n",
       "0  Please answer with one of the option in the br...   \n",
       "1  Please answer with one of the option in the br...   \n",
       "2  Please answer with one of the option in the br...   \n",
       "3  Please answer with one of the option in the br...   \n",
       "4  Please answer with one of the option in the br...   \n",
       "\n",
       "                                               input  \\\n",
       "0  Q:A 23-year-old pregnant woman at 22 weeks ges...   \n",
       "1  Q:A 3-month-old baby died suddenly at night wh...   \n",
       "2  Q:A mother brings her 3-week-old infant to the...   \n",
       "3  Q:A pulmonary autopsy specimen from a 58-year-...   \n",
       "4  Q:A 20-year-old woman presents with menorrhagi...   \n",
       "\n",
       "                                              output  \n",
       "0                                  E: Nitrofurantoin  \n",
       "1  A: Placing the infant in a supine position on ...  \n",
       "2    A: Abnormal migration of ventral pancreatic bud  \n",
       "3                                 A: Thromboembolism  \n",
       "4                          E: Von Willebrand disease  "
      ]
     },
     "execution_count": 703,
     "metadata": {},
     "output_type": "execute_result"
    }
   ],
   "source": [
    "data_8 = pd.read_json(glob.glob(dataset_path_8)[0], lines=False)\n",
    "data_8.head()"
   ]
  },
  {
   "cell_type": "code",
   "execution_count": 704,
   "metadata": {},
   "outputs": [
    {
     "data": {
      "text/plain": [
       "(10178, 3)"
      ]
     },
     "execution_count": 704,
     "metadata": {},
     "output_type": "execute_result"
    }
   ],
   "source": [
    "data_8.shape"
   ]
  },
  {
   "cell_type": "code",
   "execution_count": 705,
   "metadata": {},
   "outputs": [
    {
     "name": "stdout",
     "output_type": "stream",
     "text": [
      "Please answer with one of the option in the bracket\n",
      "Q:A 23-year-old pregnant woman at 22 weeks gestation presents with burning upon urination. She states it started 1 day ago and has been worsening despite drinking more water and taking cranberry extract. She otherwise feels well and is followed by a doctor for her pregnancy. Her temperature is 97.7°F (36.5°C), blood pressure is 122/77 mmHg, pulse is 80/min, respirations are 19/min, and oxygen saturation is 98% on room air. Physical exam is notable for an absence of costovertebral angle tenderness and a gravid uterus. Which of the following is the best treatment for this patient?? \n",
      "{'A': 'Ampicillin', 'B': 'Ceftriaxone', 'C': 'Ciprofloxacin', 'D': 'Doxycycline', 'E': 'Nitrofurantoin'},\n",
      "E: Nitrofurantoin\n"
     ]
    }
   ],
   "source": [
    "print(data_8.iloc[0, 0])\n",
    "print(data_8.iloc[0, 1])\n",
    "print(data_8.iloc[0, 2])"
   ]
  },
  {
   "cell_type": "code",
   "execution_count": 706,
   "metadata": {},
   "outputs": [],
   "source": [
    "import uuid\n",
    "\n",
    "with open(file_path, \"a\", encoding=\"utf-8\") as file:\n",
    "    dataset_name = \"medical_meadow_medqa\"\n",
    "    for idx in range(0, len(data_8)):\n",
    "        id_messages = str(uuid.uuid4())\n",
    "        # role: System\n",
    "        System_message = data_8.iloc[idx][\"instruction\"]\n",
    "        # role: User\n",
    "        User_message = data_8.iloc[idx][\"input\"]\n",
    "        # role: Chatbot\n",
    "        Chatbot_message = data_8.iloc[idx][\"output\"]\n",
    "\n",
    "        # write to file\n",
    "        file.writelines(concatenate_string(dataset_name, id_messages, System_message, User_message, Chatbot_message) + \"\\n\")\n",
    "\n",
    "file.close()"
   ]
  },
  {
   "cell_type": "markdown",
   "metadata": {},
   "source": [
    "# medical_meadow_mmmlu"
   ]
  },
  {
   "cell_type": "code",
   "execution_count": 707,
   "metadata": {},
   "outputs": [
    {
     "data": {
      "text/plain": [
       "['..\\\\..\\\\datasets\\\\medical_meadow_mmmlu\\\\medical_meadow_mmmlu.json']"
      ]
     },
     "execution_count": 707,
     "metadata": {},
     "output_type": "execute_result"
    }
   ],
   "source": [
    "import pandas as pd\n",
    "import glob\n",
    "\n",
    "dataset_path_9 = \"..\\\\..\\\\datasets\\\\medical_meadow_mmmlu\\\\*\"\n",
    "glob.glob(dataset_path_9)"
   ]
  },
  {
   "cell_type": "code",
   "execution_count": 708,
   "metadata": {},
   "outputs": [
    {
     "data": {
      "text/html": [
       "<div>\n",
       "<style scoped>\n",
       "    .dataframe tbody tr th:only-of-type {\n",
       "        vertical-align: middle;\n",
       "    }\n",
       "\n",
       "    .dataframe tbody tr th {\n",
       "        vertical-align: top;\n",
       "    }\n",
       "\n",
       "    .dataframe thead th {\n",
       "        text-align: right;\n",
       "    }\n",
       "</style>\n",
       "<table border=\"1\" class=\"dataframe\">\n",
       "  <thead>\n",
       "    <tr style=\"text-align: right;\">\n",
       "      <th></th>\n",
       "      <th>instruction</th>\n",
       "      <th>input</th>\n",
       "      <th>output</th>\n",
       "    </tr>\n",
       "  </thead>\n",
       "  <tbody>\n",
       "    <tr>\n",
       "      <th>0</th>\n",
       "      <td>Please answer the letter of option truthfully</td>\n",
       "      <td>Q:London dispersion forces are caused by? \\nA:...</td>\n",
       "      <td>A</td>\n",
       "    </tr>\n",
       "    <tr>\n",
       "      <th>1</th>\n",
       "      <td>Please answer the letter of option truthfully</td>\n",
       "      <td>Q:Carbon has an atomic radius of 77 pm and a f...</td>\n",
       "      <td>A</td>\n",
       "    </tr>\n",
       "    <tr>\n",
       "      <th>2</th>\n",
       "      <td>Please answer the letter of option truthfully</td>\n",
       "      <td>Q:An unknown substance is found to have a high...</td>\n",
       "      <td>C</td>\n",
       "    </tr>\n",
       "    <tr>\n",
       "      <th>3</th>\n",
       "      <td>Please answer the letter of option truthfully</td>\n",
       "      <td>Q:The net ionic equation expected when solutio...</td>\n",
       "      <td>A</td>\n",
       "    </tr>\n",
       "    <tr>\n",
       "      <th>4</th>\n",
       "      <td>Please answer the letter of option truthfully</td>\n",
       "      <td>Q:The symbol for antimony is? \\nA:W;B:Sb;C:Fe;...</td>\n",
       "      <td>B</td>\n",
       "    </tr>\n",
       "  </tbody>\n",
       "</table>\n",
       "</div>"
      ],
      "text/plain": [
       "                                     instruction  \\\n",
       "0  Please answer the letter of option truthfully   \n",
       "1  Please answer the letter of option truthfully   \n",
       "2  Please answer the letter of option truthfully   \n",
       "3  Please answer the letter of option truthfully   \n",
       "4  Please answer the letter of option truthfully   \n",
       "\n",
       "                                               input output  \n",
       "0  Q:London dispersion forces are caused by? \\nA:...      A  \n",
       "1  Q:Carbon has an atomic radius of 77 pm and a f...      A  \n",
       "2  Q:An unknown substance is found to have a high...      C  \n",
       "3  Q:The net ionic equation expected when solutio...      A  \n",
       "4  Q:The symbol for antimony is? \\nA:W;B:Sb;C:Fe;...      B  "
      ]
     },
     "execution_count": 708,
     "metadata": {},
     "output_type": "execute_result"
    }
   ],
   "source": [
    "data_9 = pd.read_json(glob.glob(dataset_path_9)[0], lines=False)\n",
    "data_9.head()"
   ]
  },
  {
   "cell_type": "code",
   "execution_count": 709,
   "metadata": {},
   "outputs": [
    {
     "data": {
      "text/plain": [
       "(3787, 3)"
      ]
     },
     "execution_count": 709,
     "metadata": {},
     "output_type": "execute_result"
    }
   ],
   "source": [
    "data_9.shape"
   ]
  },
  {
   "cell_type": "code",
   "execution_count": 710,
   "metadata": {},
   "outputs": [
    {
     "name": "stdout",
     "output_type": "stream",
     "text": [
      "Please answer the letter of option truthfully\n",
      "Q:London dispersion forces are caused by? \n",
      "A:temporary dipoles created by the position of electrons around the nuclei in a molecule;B:the three-dimensional intermolecular bonding present in all covalent substances;C:the uneven electron-to-proton ratio found on individual atoms of a molecule;D:the electronegativity differences between the different atoms in a molecule\n",
      "A\n"
     ]
    }
   ],
   "source": [
    "print(data_9.iloc[0, 0])\n",
    "print(data_9.iloc[0, 1])\n",
    "print(data_9.iloc[0, 2])"
   ]
  },
  {
   "cell_type": "code",
   "execution_count": 711,
   "metadata": {},
   "outputs": [],
   "source": [
    "# pass this dataset\n",
    "import uuid\n",
    "\n",
    "with open(file_path, \"a\", encoding=\"utf-8\") as file:\n",
    "    dataset_name = \"medical_meadow_mmmlu\"\n",
    "    for idx in range(0, len(data_9)):\n",
    "        id_messages = str(uuid.uuid4())\n",
    "        # role: System\n",
    "        System_message = data_9.iloc[idx][\"instruction\"]\n",
    "        # role: User\n",
    "        User_message = data_9.iloc[idx][\"input\"]\n",
    "        # role: Chatbot\n",
    "        Chatbot_message = data_9.iloc[idx][\"output\"]\n",
    "\n",
    "        # write to file\n",
    "        file.writelines(concatenate_string(dataset_name, id_messages, System_message, User_message, Chatbot_message) + \"\\n\")\n",
    "\n",
    "file.close()"
   ]
  },
  {
   "cell_type": "markdown",
   "metadata": {},
   "source": [
    "# medical_meadow_wikidoc"
   ]
  },
  {
   "cell_type": "code",
   "execution_count": 712,
   "metadata": {},
   "outputs": [
    {
     "data": {
      "text/plain": [
       "['..\\\\..\\\\datasets\\\\medical_meadow_wikidoc\\\\medical_meadow_wikidoc.json',\n",
       " '..\\\\..\\\\datasets\\\\medical_meadow_wikidoc\\\\README.md']"
      ]
     },
     "execution_count": 712,
     "metadata": {},
     "output_type": "execute_result"
    }
   ],
   "source": [
    "import pandas as pd\n",
    "import glob\n",
    "\n",
    "dataset_path_10 = \"..\\\\..\\\\datasets\\\\medical_meadow_wikidoc\\\\*\"\n",
    "glob.glob(dataset_path_10)"
   ]
  },
  {
   "cell_type": "code",
   "execution_count": 713,
   "metadata": {},
   "outputs": [
    {
     "data": {
      "text/html": [
       "<div>\n",
       "<style scoped>\n",
       "    .dataframe tbody tr th:only-of-type {\n",
       "        vertical-align: middle;\n",
       "    }\n",
       "\n",
       "    .dataframe tbody tr th {\n",
       "        vertical-align: top;\n",
       "    }\n",
       "\n",
       "    .dataframe thead th {\n",
       "        text-align: right;\n",
       "    }\n",
       "</style>\n",
       "<table border=\"1\" class=\"dataframe\">\n",
       "  <thead>\n",
       "    <tr style=\"text-align: right;\">\n",
       "      <th></th>\n",
       "      <th>instruction</th>\n",
       "      <th>input</th>\n",
       "      <th>output</th>\n",
       "    </tr>\n",
       "  </thead>\n",
       "  <tbody>\n",
       "    <tr>\n",
       "      <th>0</th>\n",
       "      <td>Answer this question truthfully</td>\n",
       "      <td>Can you provide an overview of the lung's squa...</td>\n",
       "      <td>Squamous cell carcinoma of the lung may be cla...</td>\n",
       "    </tr>\n",
       "    <tr>\n",
       "      <th>1</th>\n",
       "      <td>Answer this question truthfully</td>\n",
       "      <td>What does \"Clear: cell\" mean?</td>\n",
       "      <td>Clear cell tumors are part of the surface epit...</td>\n",
       "    </tr>\n",
       "    <tr>\n",
       "      <th>2</th>\n",
       "      <td>Answer this question truthfully</td>\n",
       "      <td>Can you provide me with information regarding ...</td>\n",
       "      <td>Two Japanese scientists commenced research int...</td>\n",
       "    </tr>\n",
       "    <tr>\n",
       "      <th>3</th>\n",
       "      <td>Answer this question truthfully</td>\n",
       "      <td>What are the historical background and symptom...</td>\n",
       "      <td>Symptoms of vulvovaginitis caused by Candida s...</td>\n",
       "    </tr>\n",
       "    <tr>\n",
       "      <th>4</th>\n",
       "      <td>Answer this question truthfully</td>\n",
       "      <td>What does the \"Hypotension: Resident Survival ...</td>\n",
       "      <td>Hypotension is the term for low blood pressure...</td>\n",
       "    </tr>\n",
       "  </tbody>\n",
       "</table>\n",
       "</div>"
      ],
      "text/plain": [
       "                       instruction  \\\n",
       "0  Answer this question truthfully   \n",
       "1  Answer this question truthfully   \n",
       "2  Answer this question truthfully   \n",
       "3  Answer this question truthfully   \n",
       "4  Answer this question truthfully   \n",
       "\n",
       "                                               input  \\\n",
       "0  Can you provide an overview of the lung's squa...   \n",
       "1                      What does \"Clear: cell\" mean?   \n",
       "2  Can you provide me with information regarding ...   \n",
       "3  What are the historical background and symptom...   \n",
       "4  What does the \"Hypotension: Resident Survival ...   \n",
       "\n",
       "                                              output  \n",
       "0  Squamous cell carcinoma of the lung may be cla...  \n",
       "1  Clear cell tumors are part of the surface epit...  \n",
       "2  Two Japanese scientists commenced research int...  \n",
       "3  Symptoms of vulvovaginitis caused by Candida s...  \n",
       "4  Hypotension is the term for low blood pressure...  "
      ]
     },
     "execution_count": 713,
     "metadata": {},
     "output_type": "execute_result"
    }
   ],
   "source": [
    "data_10 = pd.read_json(glob.glob(dataset_path_10)[0], lines=False)\n",
    "data_10.head()"
   ]
  },
  {
   "cell_type": "code",
   "execution_count": 714,
   "metadata": {},
   "outputs": [
    {
     "data": {
      "text/plain": [
       "(10000, 3)"
      ]
     },
     "execution_count": 714,
     "metadata": {},
     "output_type": "execute_result"
    }
   ],
   "source": [
    "data_10.shape"
   ]
  },
  {
   "cell_type": "code",
   "execution_count": 715,
   "metadata": {},
   "outputs": [
    {
     "name": "stdout",
     "output_type": "stream",
     "text": [
      "Answer this question truthfully\n",
      "Can you provide an overview of the lung's squamous cell carcinoma?\n",
      "Squamous cell carcinoma of the lung may be classified according to the WHO histological classification system into 4 main types: papillary, clear cell, small cell, and basaloid.\n"
     ]
    }
   ],
   "source": [
    "print(data_10.iloc[0, 0])\n",
    "print(data_10.iloc[0, 1])\n",
    "print(data_10.iloc[0, 2])"
   ]
  },
  {
   "cell_type": "code",
   "execution_count": 716,
   "metadata": {},
   "outputs": [],
   "source": [
    "import uuid\n",
    "\n",
    "with open(file_path, \"a\", encoding=\"utf-8\") as file:\n",
    "    dataset_name = \"medical_meadow_wikidoc\"\n",
    "    for idx in range(0, len(data_10)):\n",
    "        id_messages = str(uuid.uuid4())\n",
    "        # role: System\n",
    "        System_message = \"You are an AI Chatbot assistant trained in medical knowledge, your task is to answer questions accurately and completely for the question\"\n",
    "        # role: User\n",
    "        User_message = data_10.iloc[idx][\"input\"]\n",
    "        # role: Chatbot\n",
    "        Chatbot_message = data_10.iloc[idx][\"output\"]\n",
    "\n",
    "        # write to file\n",
    "        file.writelines(concatenate_string(dataset_name, id_messages, System_message, User_message, Chatbot_message) + \"\\n\")\n",
    "\n",
    "file.close()"
   ]
  },
  {
   "cell_type": "markdown",
   "metadata": {},
   "source": [
    "# mediQ"
   ]
  },
  {
   "cell_type": "code",
   "execution_count": 717,
   "metadata": {},
   "outputs": [
    {
     "data": {
      "text/plain": [
       "['..\\\\..\\\\datasets\\\\mediQ\\\\medqa_dev_convo.jsonl',\n",
       " '..\\\\..\\\\datasets\\\\mediQ\\\\medqa_test_convo.jsonl',\n",
       " '..\\\\..\\\\datasets\\\\mediQ\\\\README.md']"
      ]
     },
     "execution_count": 717,
     "metadata": {},
     "output_type": "execute_result"
    }
   ],
   "source": [
    "import pandas as pd\n",
    "import glob\n",
    "\n",
    "dataset_path_11 = \"..\\\\..\\\\datasets\\\\mediQ\\\\*\"\n",
    "glob.glob(dataset_path_11)"
   ]
  },
  {
   "cell_type": "code",
   "execution_count": 718,
   "metadata": {},
   "outputs": [
    {
     "data": {
      "text/html": [
       "<div>\n",
       "<style scoped>\n",
       "    .dataframe tbody tr th:only-of-type {\n",
       "        vertical-align: middle;\n",
       "    }\n",
       "\n",
       "    .dataframe tbody tr th {\n",
       "        vertical-align: top;\n",
       "    }\n",
       "\n",
       "    .dataframe thead th {\n",
       "        text-align: right;\n",
       "    }\n",
       "</style>\n",
       "<table border=\"1\" class=\"dataframe\">\n",
       "  <thead>\n",
       "    <tr style=\"text-align: right;\">\n",
       "      <th></th>\n",
       "      <th>id</th>\n",
       "      <th>question</th>\n",
       "      <th>context</th>\n",
       "      <th>context_len</th>\n",
       "      <th>options</th>\n",
       "      <th>answer</th>\n",
       "      <th>answer_idx</th>\n",
       "      <th>explanation</th>\n",
       "      <th>patient</th>\n",
       "      <th>facts_old</th>\n",
       "      <th>atomic_facts</th>\n",
       "    </tr>\n",
       "  </thead>\n",
       "  <tbody>\n",
       "    <tr>\n",
       "      <th>0</th>\n",
       "      <td>0</td>\n",
       "      <td>The mechanism of action of the medication give...</td>\n",
       "      <td>[A 21-year-old sexually active male complains ...</td>\n",
       "      <td>3</td>\n",
       "      <td>{'A': 'Gentamicin', 'B': 'Ciprofloxacin', 'C':...</td>\n",
       "      <td>Ceftriaxone</td>\n",
       "      <td>C</td>\n",
       "      <td></td>\n",
       "      <td>{'gender': 'Male', 'age': '21 years old', 'spe...</td>\n",
       "      <td>[1. Patient is a 21-year-old male., 2. Patient...</td>\n",
       "      <td>[1. A culture of the joint fluid shows a bacte...</td>\n",
       "    </tr>\n",
       "    <tr>\n",
       "      <th>1</th>\n",
       "      <td>1</td>\n",
       "      <td>Which of the following is the most likely diag...</td>\n",
       "      <td>[A 5-year-old girl is brought to the emergency...</td>\n",
       "      <td>14</td>\n",
       "      <td>{'A': 'Cyclic vomiting syndrome', 'B': 'Gastro...</td>\n",
       "      <td>Cyclic vomiting syndrome</td>\n",
       "      <td>A</td>\n",
       "      <td></td>\n",
       "      <td>{'gender': 'Female', 'age': '5 years old', 'sp...</td>\n",
       "      <td>[1. A 5-year-old girl is brought to the emerge...</td>\n",
       "      <td>[1. The patient has had 6–8 episodes of biliou...</td>\n",
       "    </tr>\n",
       "    <tr>\n",
       "      <th>2</th>\n",
       "      <td>2</td>\n",
       "      <td>Which of the following is the best course of t...</td>\n",
       "      <td>[A 40-year-old woman presents with difficulty ...</td>\n",
       "      <td>8</td>\n",
       "      <td>{'A': 'Diazepam', 'B': 'Paroxetine', 'C': 'Zol...</td>\n",
       "      <td>Trazodone</td>\n",
       "      <td>D</td>\n",
       "      <td></td>\n",
       "      <td>{'gender': 'Female', 'age': '40 years old', 's...</td>\n",
       "      <td>[1. Patient is a 40-year-old woman., 2. Patien...</td>\n",
       "      <td>[1. The patient has trouble falling asleep des...</td>\n",
       "    </tr>\n",
       "    <tr>\n",
       "      <th>3</th>\n",
       "      <td>3</td>\n",
       "      <td>Which of the following is the next best step i...</td>\n",
       "      <td>[A 37-year-old female with a history of type I...</td>\n",
       "      <td>4</td>\n",
       "      <td>{'A': 'Obtain an abdominal CT scan', 'B': 'Obt...</td>\n",
       "      <td>Obtain a urine analysis and urine culture</td>\n",
       "      <td>B</td>\n",
       "      <td></td>\n",
       "      <td>{'gender': 'Female', 'age': '37 years old', 's...</td>\n",
       "      <td>[1. A 37-year-old female presents to the emerg...</td>\n",
       "      <td>[1. The patient reports pain with urination., ...</td>\n",
       "    </tr>\n",
       "    <tr>\n",
       "      <th>4</th>\n",
       "      <td>4</td>\n",
       "      <td>Which of the following should be treated first...</td>\n",
       "      <td>[A 19-year-old boy presents with confusion and...</td>\n",
       "      <td>9</td>\n",
       "      <td>{'A': 'Hypoperfusion', 'B': 'Hyperglycemia', '...</td>\n",
       "      <td>Hypoperfusion</td>\n",
       "      <td>A</td>\n",
       "      <td></td>\n",
       "      <td>{'gender': 'Male', 'age': '19', 'specialties':...</td>\n",
       "      <td>[1. Patient is 19 years old., 2. Patient prese...</td>\n",
       "      <td>[1. The patient's mother noticed a change in t...</td>\n",
       "    </tr>\n",
       "  </tbody>\n",
       "</table>\n",
       "</div>"
      ],
      "text/plain": [
       "   id                                           question  \\\n",
       "0   0  The mechanism of action of the medication give...   \n",
       "1   1  Which of the following is the most likely diag...   \n",
       "2   2  Which of the following is the best course of t...   \n",
       "3   3  Which of the following is the next best step i...   \n",
       "4   4  Which of the following should be treated first...   \n",
       "\n",
       "                                             context  context_len  \\\n",
       "0  [A 21-year-old sexually active male complains ...            3   \n",
       "1  [A 5-year-old girl is brought to the emergency...           14   \n",
       "2  [A 40-year-old woman presents with difficulty ...            8   \n",
       "3  [A 37-year-old female with a history of type I...            4   \n",
       "4  [A 19-year-old boy presents with confusion and...            9   \n",
       "\n",
       "                                             options  \\\n",
       "0  {'A': 'Gentamicin', 'B': 'Ciprofloxacin', 'C':...   \n",
       "1  {'A': 'Cyclic vomiting syndrome', 'B': 'Gastro...   \n",
       "2  {'A': 'Diazepam', 'B': 'Paroxetine', 'C': 'Zol...   \n",
       "3  {'A': 'Obtain an abdominal CT scan', 'B': 'Obt...   \n",
       "4  {'A': 'Hypoperfusion', 'B': 'Hyperglycemia', '...   \n",
       "\n",
       "                                      answer answer_idx explanation  \\\n",
       "0                                Ceftriaxone          C               \n",
       "1                   Cyclic vomiting syndrome          A               \n",
       "2                                  Trazodone          D               \n",
       "3  Obtain a urine analysis and urine culture          B               \n",
       "4                              Hypoperfusion          A               \n",
       "\n",
       "                                             patient  \\\n",
       "0  {'gender': 'Male', 'age': '21 years old', 'spe...   \n",
       "1  {'gender': 'Female', 'age': '5 years old', 'sp...   \n",
       "2  {'gender': 'Female', 'age': '40 years old', 's...   \n",
       "3  {'gender': 'Female', 'age': '37 years old', 's...   \n",
       "4  {'gender': 'Male', 'age': '19', 'specialties':...   \n",
       "\n",
       "                                           facts_old  \\\n",
       "0  [1. Patient is a 21-year-old male., 2. Patient...   \n",
       "1  [1. A 5-year-old girl is brought to the emerge...   \n",
       "2  [1. Patient is a 40-year-old woman., 2. Patien...   \n",
       "3  [1. A 37-year-old female presents to the emerg...   \n",
       "4  [1. Patient is 19 years old., 2. Patient prese...   \n",
       "\n",
       "                                        atomic_facts  \n",
       "0  [1. A culture of the joint fluid shows a bacte...  \n",
       "1  [1. The patient has had 6–8 episodes of biliou...  \n",
       "2  [1. The patient has trouble falling asleep des...  \n",
       "3  [1. The patient reports pain with urination., ...  \n",
       "4  [1. The patient's mother noticed a change in t...  "
      ]
     },
     "execution_count": 718,
     "metadata": {},
     "output_type": "execute_result"
    }
   ],
   "source": [
    "# read train1 and train 2, then concatenate\n",
    "data_11 = pd.read_json(glob.glob(dataset_path_11)[0], lines=True)\n",
    "data_12 = pd.read_json(glob.glob(dataset_path_11)[1], lines=True)\n",
    "data_11 = pd.concat([data_11, data_12], ignore_index=True)\n",
    "data_11.head()"
   ]
  },
  {
   "cell_type": "code",
   "execution_count": 719,
   "metadata": {},
   "outputs": [
    {
     "data": {
      "text/plain": [
       "(2545, 11)"
      ]
     },
     "execution_count": 719,
     "metadata": {},
     "output_type": "execute_result"
    }
   ],
   "source": [
    "data_11.shape"
   ]
  },
  {
   "cell_type": "code",
   "execution_count": 720,
   "metadata": {},
   "outputs": [
    {
     "name": "stdout",
     "output_type": "stream",
     "text": [
      "1\n",
      "Which of the following is the most likely diagnosis?\n",
      "['A 5-year-old girl is brought to the emergency department by her mother because of multiple episodes of nausea and vomiting that last about 2 hours.', 'During this period, she has had 6–8 episodes of bilious vomiting and abdominal pain.', 'The vomiting was preceded by fatigue.', 'The girl feels well between these episodes.', 'She has missed several days of school and has been hospitalized 2 times during the past 6 months for dehydration due to similar episodes of vomiting and nausea.', 'The patient has lived with her mother since her parents divorced 8 months ago.', 'Her immunizations are up-to-date.', 'She is at the 60th percentile for height and 30th percentile for weight.', 'She appears emaciated.', 'Her temperature is 36.8°C (98.8°F), pulse is 99/min, and blood pressure is 82/52 mm Hg.', 'Examination shows dry mucous membranes.', 'The lungs are clear to auscultation.', 'Abdominal examination shows a soft abdomen with mild diffuse tenderness with no guarding or rebound.', 'The remainder of the physical examination shows no abnormalities.']\n",
      "14\n",
      "{'A': 'Cyclic vomiting syndrome', 'B': 'Gastroenteritis', 'C': 'Hypertrophic pyloric stenosis', 'D': 'Gastroesophageal reflux disease'}\n",
      "Cyclic vomiting syndrome\n",
      "A\n",
      "\n",
      "{'gender': 'Female', 'age': '5 years old', 'specialties': ['Pediatrics'], 'subspecialties': ['General Pediatrics', 'Gastroenterology'], 'specialty_prob': [1.0], 'subspecialty_prob': [0.8, 0.2], 'gpt_specialty': 'Pediatrics'}\n",
      "['1. A 5-year-old girl is brought to the emergency department by her mother.', '2. She has had multiple episodes of nausea and vomiting that last about 2 hours.', '3. During this period, she has had 6–8 episodes of bilious vomiting and abdominal pain.', '4. The vomiting was preceded by fatigue.', '5. She feels well between these episodes.', '6. She has missed several days of school and has been hospitalized 2 times during the past 6 months for dehydration due to similar episodes of vomiting and nausea.', '7. The patient has lived with her mother since her parents divorced 8 months ago.', '8. Her immunizations are up-to-date.', '9. She is at the 60th percentile for height and 30th percentile for weight.', '10. She appears emaciated.', '11. Her temperature is 36.8°C (98.8°F), pulse is 99/min, and blood pressure is 82/52 mm Hg.', '12. Examination shows dry mucous membranes.', '13. The lungs are clear to auscultation.', '14. Abdominal examination shows a soft abdomen with mild diffuse tenderness with no guarding or rebound.', '15. The remainder of the physical examination shows no abnormalities.']\n",
      "['1. The patient has had 6–8 episodes of bilious vomiting and abdominal pain.', '2. The vomiting was preceded by fatigue.', '3. The girl feels well between these episodes.', '4. She has missed several days of school.', '5. She has been hospitalized 2 times during the past 6 months for dehydration due to similar episodes of vomiting and nausea.', '6. The patient has lived with her mother since her parents divorced 8 months ago.', '7. Her immunizations are up-to-date.', '8. She is at the 60th percentile for height and 30th percentile for weight.', '9. She appears emaciated.', '10. Her temperature is 36.8°C (98.8°F), pulse is 99/min, and blood pressure is 82/52 mm Hg.', '11. Examination shows dry mucous membranes.', '12. The lungs are clear to auscultation.', '13. Abdominal examination shows a soft abdomen with mild diffuse tenderness with no guarding or rebound.', '14. The remainder of the physical examination shows no abnormalities.']\n"
     ]
    }
   ],
   "source": [
    "idx = 1\n",
    "print(data_11.iloc[idx, 0])\n",
    "print(data_11.iloc[idx, 1])\n",
    "print(data_11.iloc[idx, 2])\n",
    "print(data_11.iloc[idx, 3])\n",
    "print(data_11.iloc[idx, 4])\n",
    "print(data_11.iloc[idx, 5])\n",
    "print(data_11.iloc[idx, 6])\n",
    "print(data_11.iloc[idx, 7])\n",
    "print(data_11.iloc[idx, 8])\n",
    "print(data_11.iloc[idx, 9])\n",
    "print(data_11.iloc[idx, 10])"
   ]
  },
  {
   "cell_type": "code",
   "execution_count": 721,
   "metadata": {},
   "outputs": [],
   "source": [
    "# pass this dataset "
   ]
  },
  {
   "cell_type": "markdown",
   "metadata": {},
   "source": [
    "# MediQ_AskDocs (original)"
   ]
  },
  {
   "cell_type": "code",
   "execution_count": 722,
   "metadata": {},
   "outputs": [
    {
     "data": {
      "text/plain": [
       "['..\\\\..\\\\datasets\\\\MediQ_AskDocs\\\\original',\n",
       " '..\\\\..\\\\datasets\\\\MediQ_AskDocs\\\\README.md',\n",
       " '..\\\\..\\\\datasets\\\\MediQ_AskDocs\\\\synthetic']"
      ]
     },
     "execution_count": 722,
     "metadata": {},
     "output_type": "execute_result"
    }
   ],
   "source": [
    "import pandas as pd\n",
    "import glob\n",
    "\n",
    "dataset_path_12 = \"..\\\\..\\\\datasets\\\\MediQ_AskDocs\\\\*\"\n",
    "glob.glob(dataset_path_12)"
   ]
  },
  {
   "cell_type": "code",
   "execution_count": 723,
   "metadata": {},
   "outputs": [
    {
     "data": {
      "text/plain": [
       "['..\\\\..\\\\datasets\\\\MediQ_AskDocs\\\\original\\\\test.jsonl',\n",
       " '..\\\\..\\\\datasets\\\\MediQ_AskDocs\\\\original\\\\train.jsonl',\n",
       " '..\\\\..\\\\datasets\\\\MediQ_AskDocs\\\\original\\\\validation.jsonl']"
      ]
     },
     "execution_count": 723,
     "metadata": {},
     "output_type": "execute_result"
    }
   ],
   "source": [
    "glob.glob(\"..\\\\..\\\\datasets\\\\MediQ_AskDocs\\\\original\\\\*\")"
   ]
  },
  {
   "cell_type": "code",
   "execution_count": 724,
   "metadata": {},
   "outputs": [
    {
     "data": {
      "text/plain": [
       "['..\\\\..\\\\datasets\\\\MediQ_AskDocs\\\\synthetic\\\\train.jsonl',\n",
       " '..\\\\..\\\\datasets\\\\MediQ_AskDocs\\\\synthetic\\\\validation.jsonl']"
      ]
     },
     "execution_count": 724,
     "metadata": {},
     "output_type": "execute_result"
    }
   ],
   "source": [
    "glob.glob(\"..\\\\..\\\\datasets\\\\MediQ_AskDocs\\\\synthetic\\\\*\")"
   ]
  },
  {
   "cell_type": "code",
   "execution_count": 725,
   "metadata": {},
   "outputs": [
    {
     "data": {
      "text/plain": [
       "'..\\\\..\\\\datasets\\\\MediQ_AskDocs\\\\original\\\\train.jsonl'"
      ]
     },
     "execution_count": 725,
     "metadata": {},
     "output_type": "execute_result"
    }
   ],
   "source": [
    "glob.glob(dataset_path_12)[0] + \"\\\\train.jsonl\""
   ]
  },
  {
   "cell_type": "code",
   "execution_count": 726,
   "metadata": {},
   "outputs": [
    {
     "data": {
      "text/html": [
       "<div>\n",
       "<style scoped>\n",
       "    .dataframe tbody tr th:only-of-type {\n",
       "        vertical-align: middle;\n",
       "    }\n",
       "\n",
       "    .dataframe tbody tr th {\n",
       "        vertical-align: top;\n",
       "    }\n",
       "\n",
       "    .dataframe thead th {\n",
       "        text-align: right;\n",
       "    }\n",
       "</style>\n",
       "<table border=\"1\" class=\"dataframe\">\n",
       "  <thead>\n",
       "    <tr style=\"text-align: right;\">\n",
       "      <th></th>\n",
       "      <th>id</th>\n",
       "      <th>system</th>\n",
       "      <th>messages</th>\n",
       "      <th>context</th>\n",
       "      <th>question</th>\n",
       "    </tr>\n",
       "  </thead>\n",
       "  <tbody>\n",
       "    <tr>\n",
       "      <th>0</th>\n",
       "      <td>t_f9lux5s-0-c0-q0</td>\n",
       "      <td>[{'role': 'system', 'content': 'You are a medi...</td>\n",
       "      <td>[{'role': 'user', 'content': 'am i (17f) being...</td>\n",
       "      <td>[{'role': 'user', 'content': 'am i (17f) being...</td>\n",
       "      <td>[{'role': 'assistant', 'content': 'Ask your do...</td>\n",
       "    </tr>\n",
       "    <tr>\n",
       "      <th>1</th>\n",
       "      <td>t_cvkbr58-0-c0-q0</td>\n",
       "      <td>[{'role': 'system', 'content': 'You are a medi...</td>\n",
       "      <td>[{'role': 'user', 'content': 'Husband deterior...</td>\n",
       "      <td>[{'role': 'user', 'content': 'Husband deterior...</td>\n",
       "      <td>[{'role': 'assistant', 'content': 'Hey, how's ...</td>\n",
       "    </tr>\n",
       "    <tr>\n",
       "      <th>2</th>\n",
       "      <td>t_cn7mvmu-0-c0-q0</td>\n",
       "      <td>[{'role': 'system', 'content': 'You are a medi...</td>\n",
       "      <td>[{'role': 'user', 'content': 'Embarrassing Pro...</td>\n",
       "      <td>[{'role': 'user', 'content': 'Embarrassing Pro...</td>\n",
       "      <td>[{'role': 'assistant', 'content': 'Are you cur...</td>\n",
       "    </tr>\n",
       "    <tr>\n",
       "      <th>3</th>\n",
       "      <td>t_cy54g9n-0-c0-q1</td>\n",
       "      <td>[{'role': 'system', 'content': 'You are a medi...</td>\n",
       "      <td>[{'role': 'user', 'content': 'Can my doctor fo...</td>\n",
       "      <td>[{'role': 'user', 'content': 'Can my doctor fo...</td>\n",
       "      <td>[{'role': 'assistant', 'content': 'In any case...</td>\n",
       "    </tr>\n",
       "    <tr>\n",
       "      <th>4</th>\n",
       "      <td>t_e9qbjfd-0-c0-q0</td>\n",
       "      <td>[{'role': 'system', 'content': 'You are a medi...</td>\n",
       "      <td>[{'role': 'user', 'content': 'Is this seriousl...</td>\n",
       "      <td>[{'role': 'user', 'content': 'Is this seriousl...</td>\n",
       "      <td>[{'role': 'assistant', 'content': 'why can’t y...</td>\n",
       "    </tr>\n",
       "  </tbody>\n",
       "</table>\n",
       "</div>"
      ],
      "text/plain": [
       "                  id                                             system  \\\n",
       "0  t_f9lux5s-0-c0-q0  [{'role': 'system', 'content': 'You are a medi...   \n",
       "1  t_cvkbr58-0-c0-q0  [{'role': 'system', 'content': 'You are a medi...   \n",
       "2  t_cn7mvmu-0-c0-q0  [{'role': 'system', 'content': 'You are a medi...   \n",
       "3  t_cy54g9n-0-c0-q1  [{'role': 'system', 'content': 'You are a medi...   \n",
       "4  t_e9qbjfd-0-c0-q0  [{'role': 'system', 'content': 'You are a medi...   \n",
       "\n",
       "                                            messages  \\\n",
       "0  [{'role': 'user', 'content': 'am i (17f) being...   \n",
       "1  [{'role': 'user', 'content': 'Husband deterior...   \n",
       "2  [{'role': 'user', 'content': 'Embarrassing Pro...   \n",
       "3  [{'role': 'user', 'content': 'Can my doctor fo...   \n",
       "4  [{'role': 'user', 'content': 'Is this seriousl...   \n",
       "\n",
       "                                             context  \\\n",
       "0  [{'role': 'user', 'content': 'am i (17f) being...   \n",
       "1  [{'role': 'user', 'content': 'Husband deterior...   \n",
       "2  [{'role': 'user', 'content': 'Embarrassing Pro...   \n",
       "3  [{'role': 'user', 'content': 'Can my doctor fo...   \n",
       "4  [{'role': 'user', 'content': 'Is this seriousl...   \n",
       "\n",
       "                                            question  \n",
       "0  [{'role': 'assistant', 'content': 'Ask your do...  \n",
       "1  [{'role': 'assistant', 'content': 'Hey, how's ...  \n",
       "2  [{'role': 'assistant', 'content': 'Are you cur...  \n",
       "3  [{'role': 'assistant', 'content': 'In any case...  \n",
       "4  [{'role': 'assistant', 'content': 'why can’t y...  "
      ]
     },
     "execution_count": 726,
     "metadata": {},
     "output_type": "execute_result"
    }
   ],
   "source": [
    "# read data train and validation, then concatenate\n",
    "data_12 = pd.read_json(glob.glob(dataset_path_12)[0] + \"\\\\train.jsonl\", lines=True)\n",
    "data_13 = pd.read_json(glob.glob(dataset_path_12)[0] + \"\\\\validation.jsonl\", lines=True)\n",
    "data_12 = pd.concat([data_12, data_13], ignore_index=True)\n",
    "data_12.head()"
   ]
  },
  {
   "cell_type": "code",
   "execution_count": 727,
   "metadata": {},
   "outputs": [
    {
     "data": {
      "text/plain": [
       "(23210, 5)"
      ]
     },
     "execution_count": 727,
     "metadata": {},
     "output_type": "execute_result"
    }
   ],
   "source": [
    "data_12.shape"
   ]
  },
  {
   "cell_type": "code",
   "execution_count": 728,
   "metadata": {},
   "outputs": [
    {
     "name": "stdout",
     "output_type": "stream",
     "text": [
      "t_cvkbr58-0-c0-q0\n",
      "[{'role': 'system', 'content': 'You are a medical doctor trying to interct with the patient to seek additional information about their case before making a clinical decision. Based on your understanding of basic and clinical science, medical knowledge, and mechanisms underlying health, disease, patient care, and modes of therapy, ask a follow up question. Base your answer on the current and standard practices referenced in medical guidelines.\\nTask: You will be given some initial patient information and a patient inquiry, and you should ask a follow-up question to the patient. The question should be bite-sized, NOT ask for too much at once, and NOT repeat what has already been asked. Respond with the atomic question and NOTHING ELSE.'}]\n",
      "[{'role': 'user', 'content': 'Husband deteriorating before my eyes, doctors at a loss, no one will help; Reddit docs, I need you.\\nPertinent facts\\n\\n**Age**: 35\\n\\n**Sex**: Male\\n\\n**Height**: 5\\'6\" (168cm)\\n\\n**Weight**: ~150lbs, has fluctuated in the last six months from 105 to 160.\\n\\n**Race**: Caucasian\\n\\n**Duration of complaint**: 14 months (details below)\\n\\n**Location**: Geographic - Dallas, TX; On body - virtually everywhere (details below)\\n\\n**Current medications**: Elmiron 100mg @ 1/day; Hydroxyzine 25mg @ 1/day; Trazodone 50mg @ 1-2/day; Duloxetine 60mg @ 1/day; Mirtazapine 45mg @ 1/day; Gabapentin 300mg, 2 @ 2/day; Tramadol as needed; Levetiracetam^1 (Keppra) 500mg @ 2/day; Diazepam^2 10mg as needed\\n\\n**Specialists seen**: Urologist, neurologist, psychiatrist, psychologist, gastroenterologist, internist, ER\\n\\n**Diagnostics run**: Two abdominal CT scans (one with contrast, one without), chest X-ray, lumbar puncture (with emergency blood patch following), endoscopy, colonscopy, cystoscopy with hydrodistention, full spinal MRI (without contrast), at least six full-scale blood draws, urinalysis, other \\'minor\\' tests\\n\\nI will try to keep this as brief as possible.\\n\\nLast March, my husband Z had what he thought initially was a bladder infection following a kidney stone: feeling of urgency, slight burning during urination, cramping/pain in bladder area, etc.  Urinalysis did not show infection, but GP gave course of antibiotics anyway.  Antibiotics did nothing, so we went to see a real urologist.  During the first month or two of different rounds of initial testing/treatment options, Z\\'s bladder pain got worse, spread to his testicles, started radiating out around his lower abdomen.  \\n\\nWe also went to an internist who ran a full battery of blood tests and found nothing wrong but a slight vitamin D deficiency.  He took some prescription vitD pills for a month, as directed, and when we went back, he was fine, so the internist sent us back to the urologist.   Uro ordered abdominal CT, which showed nothing, and referred him to a gastroenterologist.\\n\\nGastro ran some tests, found nothing conclusive, did a full endoscopy/colonoscopy, the prep for which nearly landed Z in the ER - he was violently leaking from both ends, blood pressure dropped to 85/60 (iirc), lost all color, feverish - but he slept until it was time for his procedure.  They found nothing but the healthy insides of a 35 year old male.  Biopsies were done, tissues all clear.  Gastro sent him back to Uro.\\n\\nImmediately following the colonoscopy/endoscopy, Z stopped being able to eat meat of any sort.  If he got meat near his mouth, he would nearly vomit.  Even the smell of meat became too much for him to handle.  A week after that, he stopped feeling hungry at all, ever, and began having to simply force himself to eat as a mechanical action rather than because he was hungry or because something tasted good.  He had always been a slender guy, but he went from a healthy slim of 125lbs to 105lbs in about a month.\\n\\nAlso about then, he starting experiencing intermittent pain/tingling/numbness in his upper left thigh (much later diagnosed as meralgia paresthetica, despite having none of the risk factors for it).\\n\\nWhen we went back to Uro, he theorized that it was prostatitis and put him on flomax.  Three months went by, bladder symptoms got worse, and sexual dysfunction started.  Erections were still just as possible as before, but moderately uncomfortable in testicles and radiating back into the bladder/lower abdomen; ejaculation caused severe pain both immediately and lasting through the next one to three days.  Since symptoms were getting worse instead of better, Uro theorized it might be interstitial cystitis and performed a cystoscopy with hydrodistention.  Z\\'s bladder showed no objective signs of IC (Hunner\\'s ulcers), but did show significantly reduced elasticity and capacity.  Symptomatic and circumstantial diagnosis of IC was tentatively given and Z was placed on Elmiron - the only drug currently on the market to help treat IC.  He was also prescribed Tramadol and hydroxyzine to manage the bladder pain.\\n\\nRight around this time, Z started exhibiting signs of acute depression and anxiety as well as not being able to sleep, so we started seeing a psychiatrist.  He went through half a dozen meds (I don\\'t remember them all anymore, sorry) before finally (two months or so ago) landing on his course of Duloxetine and Mirtazapine - neither of which has actually helped him sleep or feel less depressed or anxious.\\n\\nUro recommended a neurologist for the leg pain, which grew so bad in November Z had to start walking with a cane.  Neuro tested nerve conduction and found nothing wrong.  New battery of blood tests was done, came back fine.  Lumbar puncture was done, came back fine (though he did have to have a blood patch done after the spinal tap - that was fun... /s)  Neuro prescribed Gabapentin to help with the leg pain, and it does help, though the weakness/\"lag\" (as Z describes it) is still there.\\n\\nFor the last six months, he has been experiencing gradually worsening facial muscle twitching and dysarthria, as well as occasional hand tremors and myoclonic jerking.\\n\\nThroughout all this, we\\'ve had to go to the ER three or four times for some sudden/drastic swing in his condition.  Several different blood tests, MRIs, CTs, and even a chest x-ray have been done in the hospital.  All have come back clear.\\n\\nLast month, worried that this might be multiple sclerosis, Neuro ordered a spinal MRI (though without contrast).  It did not show evidence of lesions.  Neuro officially threw his hands up and said, \"Go to the Mayo clinic; there is nothing more I can do, but there is clearly something wrong.\"  Mayo clinic declined to accept an appointment.  I have requested an appointment at Scott and White, too, but they seem about to decline as well.\\n\\nLast week, Z started convulsing.  At first it was no worse than his usual myoclonus, just more frequent, but by Friday it was so violent and constant that he could not sleep for more than an hour (if that) before his body started spasming.  By Tuesday it looked like he was being tazed or poked with a cattle prod.  (I do have a video of this, but I am reticent to post it on the internet.)  His neuro advised over the phone that I take him to the ER.  So I did.\\n\\nER doc ran another set of blood tests, all fine, and gave him some Keppra^1 and Valium^2 to get the seizing under control and allow him to sleep.  As soon as the meds kicked in, he was out.\\n\\nAt first this was a blessing, since he hasn\\'t had any proper sleep in over a month (probably more) and hasn\\'t effectively slept at all for nearly a week.  But it\\'s now Thursday night - nearly 48 hours after the ER trip - and Z has been asleep for all but six of those hours.  While he was up today, he complained that he was having double vision, not some of the time but all the time, even when he tried to focus past it.  And then he went back to bed.\\n\\nReddit docs, I don\\'t know where to go or what to do anymore.  I have no one left to turn to, no more resources to seek out, and no options left apparently.  The only thing that had given me hope was that the Mayo clinic would help, and they simply refused to even look at him.  I\\'m afraid he\\'s dying a slow, decaying death and I don\\'t know why or how to help him.\\n\\nMy husband isn\\'t famous, and he isn\\'t \"hot\", and he isn\\'t \"important\" or \"special\" or anything else that gets you virally boosted these days... But he\\'s *my husband*.  He\\'s special to me, and I\\'m at a loss.\\n\\nHelp please?'}, {'role': 'assistant', 'content': \"Hey, how's your husband doing now?\"}]\n",
      "[{'role': 'user', 'content': 'Husband deteriorating before my eyes, doctors at a loss, no one will help; Reddit docs, I need you.\\nPertinent facts\\n\\n**Age**: 35\\n\\n**Sex**: Male\\n\\n**Height**: 5\\'6\" (168cm)\\n\\n**Weight**: ~150lbs, has fluctuated in the last six months from 105 to 160.\\n\\n**Race**: Caucasian\\n\\n**Duration of complaint**: 14 months (details below)\\n\\n**Location**: Geographic - Dallas, TX; On body - virtually everywhere (details below)\\n\\n**Current medications**: Elmiron 100mg @ 1/day; Hydroxyzine 25mg @ 1/day; Trazodone 50mg @ 1-2/day; Duloxetine 60mg @ 1/day; Mirtazapine 45mg @ 1/day; Gabapentin 300mg, 2 @ 2/day; Tramadol as needed; Levetiracetam^1 (Keppra) 500mg @ 2/day; Diazepam^2 10mg as needed\\n\\n**Specialists seen**: Urologist, neurologist, psychiatrist, psychologist, gastroenterologist, internist, ER\\n\\n**Diagnostics run**: Two abdominal CT scans (one with contrast, one without), chest X-ray, lumbar puncture (with emergency blood patch following), endoscopy, colonscopy, cystoscopy with hydrodistention, full spinal MRI (without contrast), at least six full-scale blood draws, urinalysis, other \\'minor\\' tests\\n\\nI will try to keep this as brief as possible.\\n\\nLast March, my husband Z had what he thought initially was a bladder infection following a kidney stone: feeling of urgency, slight burning during urination, cramping/pain in bladder area, etc.  Urinalysis did not show infection, but GP gave course of antibiotics anyway.  Antibiotics did nothing, so we went to see a real urologist.  During the first month or two of different rounds of initial testing/treatment options, Z\\'s bladder pain got worse, spread to his testicles, started radiating out around his lower abdomen.  \\n\\nWe also went to an internist who ran a full battery of blood tests and found nothing wrong but a slight vitamin D deficiency.  He took some prescription vitD pills for a month, as directed, and when we went back, he was fine, so the internist sent us back to the urologist.   Uro ordered abdominal CT, which showed nothing, and referred him to a gastroenterologist.\\n\\nGastro ran some tests, found nothing conclusive, did a full endoscopy/colonoscopy, the prep for which nearly landed Z in the ER - he was violently leaking from both ends, blood pressure dropped to 85/60 (iirc), lost all color, feverish - but he slept until it was time for his procedure.  They found nothing but the healthy insides of a 35 year old male.  Biopsies were done, tissues all clear.  Gastro sent him back to Uro.\\n\\nImmediately following the colonoscopy/endoscopy, Z stopped being able to eat meat of any sort.  If he got meat near his mouth, he would nearly vomit.  Even the smell of meat became too much for him to handle.  A week after that, he stopped feeling hungry at all, ever, and began having to simply force himself to eat as a mechanical action rather than because he was hungry or because something tasted good.  He had always been a slender guy, but he went from a healthy slim of 125lbs to 105lbs in about a month.\\n\\nAlso about then, he starting experiencing intermittent pain/tingling/numbness in his upper left thigh (much later diagnosed as meralgia paresthetica, despite having none of the risk factors for it).\\n\\nWhen we went back to Uro, he theorized that it was prostatitis and put him on flomax.  Three months went by, bladder symptoms got worse, and sexual dysfunction started.  Erections were still just as possible as before, but moderately uncomfortable in testicles and radiating back into the bladder/lower abdomen; ejaculation caused severe pain both immediately and lasting through the next one to three days.  Since symptoms were getting worse instead of better, Uro theorized it might be interstitial cystitis and performed a cystoscopy with hydrodistention.  Z\\'s bladder showed no objective signs of IC (Hunner\\'s ulcers), but did show significantly reduced elasticity and capacity.  Symptomatic and circumstantial diagnosis of IC was tentatively given and Z was placed on Elmiron - the only drug currently on the market to help treat IC.  He was also prescribed Tramadol and hydroxyzine to manage the bladder pain.\\n\\nRight around this time, Z started exhibiting signs of acute depression and anxiety as well as not being able to sleep, so we started seeing a psychiatrist.  He went through half a dozen meds (I don\\'t remember them all anymore, sorry) before finally (two months or so ago) landing on his course of Duloxetine and Mirtazapine - neither of which has actually helped him sleep or feel less depressed or anxious.\\n\\nUro recommended a neurologist for the leg pain, which grew so bad in November Z had to start walking with a cane.  Neuro tested nerve conduction and found nothing wrong.  New battery of blood tests was done, came back fine.  Lumbar puncture was done, came back fine (though he did have to have a blood patch done after the spinal tap - that was fun... /s)  Neuro prescribed Gabapentin to help with the leg pain, and it does help, though the weakness/\"lag\" (as Z describes it) is still there.\\n\\nFor the last six months, he has been experiencing gradually worsening facial muscle twitching and dysarthria, as well as occasional hand tremors and myoclonic jerking.\\n\\nThroughout all this, we\\'ve had to go to the ER three or four times for some sudden/drastic swing in his condition.  Several different blood tests, MRIs, CTs, and even a chest x-ray have been done in the hospital.  All have come back clear.\\n\\nLast month, worried that this might be multiple sclerosis, Neuro ordered a spinal MRI (though without contrast).  It did not show evidence of lesions.  Neuro officially threw his hands up and said, \"Go to the Mayo clinic; there is nothing more I can do, but there is clearly something wrong.\"  Mayo clinic declined to accept an appointment.  I have requested an appointment at Scott and White, too, but they seem about to decline as well.\\n\\nLast week, Z started convulsing.  At first it was no worse than his usual myoclonus, just more frequent, but by Friday it was so violent and constant that he could not sleep for more than an hour (if that) before his body started spasming.  By Tuesday it looked like he was being tazed or poked with a cattle prod.  (I do have a video of this, but I am reticent to post it on the internet.)  His neuro advised over the phone that I take him to the ER.  So I did.\\n\\nER doc ran another set of blood tests, all fine, and gave him some Keppra^1 and Valium^2 to get the seizing under control and allow him to sleep.  As soon as the meds kicked in, he was out.\\n\\nAt first this was a blessing, since he hasn\\'t had any proper sleep in over a month (probably more) and hasn\\'t effectively slept at all for nearly a week.  But it\\'s now Thursday night - nearly 48 hours after the ER trip - and Z has been asleep for all but six of those hours.  While he was up today, he complained that he was having double vision, not some of the time but all the time, even when he tried to focus past it.  And then he went back to bed.\\n\\nReddit docs, I don\\'t know where to go or what to do anymore.  I have no one left to turn to, no more resources to seek out, and no options left apparently.  The only thing that had given me hope was that the Mayo clinic would help, and they simply refused to even look at him.  I\\'m afraid he\\'s dying a slow, decaying death and I don\\'t know why or how to help him.\\n\\nMy husband isn\\'t famous, and he isn\\'t \"hot\", and he isn\\'t \"important\" or \"special\" or anything else that gets you virally boosted these days... But he\\'s *my husband*.  He\\'s special to me, and I\\'m at a loss.\\n\\nHelp please?'}]\n",
      "[{'role': 'assistant', 'content': \"Hey, how's your husband doing now?\"}]\n"
     ]
    }
   ],
   "source": [
    "idx = 1\n",
    "print(data_12.iloc[idx, 0])\n",
    "print(data_12.iloc[idx, 1])\n",
    "print(data_12.iloc[idx, 2])\n",
    "print(data_12.iloc[idx, 3])\n",
    "print(data_12.iloc[idx, 4])"
   ]
  },
  {
   "cell_type": "code",
   "execution_count": 729,
   "metadata": {},
   "outputs": [],
   "source": [
    "# pass this dataset"
   ]
  },
  {
   "cell_type": "markdown",
   "metadata": {},
   "source": [
    "# MediQ_AskDocs (synthetic)"
   ]
  },
  {
   "cell_type": "code",
   "execution_count": 730,
   "metadata": {},
   "outputs": [
    {
     "data": {
      "text/plain": [
       "['..\\\\..\\\\datasets\\\\MediQ_AskDocs\\\\synthetic\\\\train.jsonl',\n",
       " '..\\\\..\\\\datasets\\\\MediQ_AskDocs\\\\synthetic\\\\validation.jsonl']"
      ]
     },
     "execution_count": 730,
     "metadata": {},
     "output_type": "execute_result"
    }
   ],
   "source": [
    "import pandas as pd\n",
    "import glob\n",
    "\n",
    "dataset_path_13 = \"..\\\\..\\\\datasets\\\\MediQ_AskDocs\\\\synthetic\\\\*\"\n",
    "glob.glob(dataset_path_13)"
   ]
  },
  {
   "cell_type": "code",
   "execution_count": 731,
   "metadata": {},
   "outputs": [
    {
     "data": {
      "text/html": [
       "<div>\n",
       "<style scoped>\n",
       "    .dataframe tbody tr th:only-of-type {\n",
       "        vertical-align: middle;\n",
       "    }\n",
       "\n",
       "    .dataframe tbody tr th {\n",
       "        vertical-align: top;\n",
       "    }\n",
       "\n",
       "    .dataframe thead th {\n",
       "        text-align: right;\n",
       "    }\n",
       "</style>\n",
       "<table border=\"1\" class=\"dataframe\">\n",
       "  <thead>\n",
       "    <tr style=\"text-align: right;\">\n",
       "      <th></th>\n",
       "      <th>id</th>\n",
       "      <th>system</th>\n",
       "      <th>messages</th>\n",
       "      <th>context</th>\n",
       "      <th>question</th>\n",
       "    </tr>\n",
       "  </thead>\n",
       "  <tbody>\n",
       "    <tr>\n",
       "      <th>0</th>\n",
       "      <td>t_cgryn56-0-c0-q4_clarity</td>\n",
       "      <td>[{'role': 'system', 'content': 'You are a medi...</td>\n",
       "      <td>[{'role': 'user', 'content': 'Morning sickness...</td>\n",
       "      <td>[{'role': 'user', 'content': 'Morning sickness...</td>\n",
       "      <td>[{'role': 'assistant', 'content': 'Can you tel...</td>\n",
       "    </tr>\n",
       "    <tr>\n",
       "      <th>1</th>\n",
       "      <td>t_cvu1b1m-0-c0-q1_original</td>\n",
       "      <td>[{'role': 'system', 'content': 'You are a medi...</td>\n",
       "      <td>[{'role': 'user', 'content': 'Absence of Vas D...</td>\n",
       "      <td>[{'role': 'user', 'content': 'Absence of Vas D...</td>\n",
       "      <td>[{'role': 'assistant', 'content': 'May I also ...</td>\n",
       "    </tr>\n",
       "    <tr>\n",
       "      <th>2</th>\n",
       "      <td>t_dpgon84-0-c0-q0_clarity</td>\n",
       "      <td>[{'role': 'system', 'content': 'You are a medi...</td>\n",
       "      <td>[{'role': 'user', 'content': 'What are you sup...</td>\n",
       "      <td>[{'role': 'user', 'content': 'What are you sup...</td>\n",
       "      <td>[{'role': 'assistant', 'content': 'Could you t...</td>\n",
       "    </tr>\n",
       "    <tr>\n",
       "      <th>3</th>\n",
       "      <td>t_fbbmk0q-0-c0-q1_original</td>\n",
       "      <td>[{'role': 'system', 'content': 'You are a medi...</td>\n",
       "      <td>[{'role': 'user', 'content': '(for Psychiatris...</td>\n",
       "      <td>[{'role': 'user', 'content': '(for Psychiatris...</td>\n",
       "      <td>[{'role': 'assistant', 'content': 'What does r...</td>\n",
       "    </tr>\n",
       "    <tr>\n",
       "      <th>4</th>\n",
       "      <td>t_cllc5sm-0-c4-q0_relevance</td>\n",
       "      <td>[{'role': 'system', 'content': 'You are a medi...</td>\n",
       "      <td>[{'role': 'user', 'content': 'Excessive supple...</td>\n",
       "      <td>[{'role': 'user', 'content': 'Excessive supple...</td>\n",
       "      <td>[{'role': 'assistant', 'content': 'Given the p...</td>\n",
       "    </tr>\n",
       "  </tbody>\n",
       "</table>\n",
       "</div>"
      ],
      "text/plain": [
       "                            id  \\\n",
       "0    t_cgryn56-0-c0-q4_clarity   \n",
       "1   t_cvu1b1m-0-c0-q1_original   \n",
       "2    t_dpgon84-0-c0-q0_clarity   \n",
       "3   t_fbbmk0q-0-c0-q1_original   \n",
       "4  t_cllc5sm-0-c4-q0_relevance   \n",
       "\n",
       "                                              system  \\\n",
       "0  [{'role': 'system', 'content': 'You are a medi...   \n",
       "1  [{'role': 'system', 'content': 'You are a medi...   \n",
       "2  [{'role': 'system', 'content': 'You are a medi...   \n",
       "3  [{'role': 'system', 'content': 'You are a medi...   \n",
       "4  [{'role': 'system', 'content': 'You are a medi...   \n",
       "\n",
       "                                            messages  \\\n",
       "0  [{'role': 'user', 'content': 'Morning sickness...   \n",
       "1  [{'role': 'user', 'content': 'Absence of Vas D...   \n",
       "2  [{'role': 'user', 'content': 'What are you sup...   \n",
       "3  [{'role': 'user', 'content': '(for Psychiatris...   \n",
       "4  [{'role': 'user', 'content': 'Excessive supple...   \n",
       "\n",
       "                                             context  \\\n",
       "0  [{'role': 'user', 'content': 'Morning sickness...   \n",
       "1  [{'role': 'user', 'content': 'Absence of Vas D...   \n",
       "2  [{'role': 'user', 'content': 'What are you sup...   \n",
       "3  [{'role': 'user', 'content': '(for Psychiatris...   \n",
       "4  [{'role': 'user', 'content': 'Excessive supple...   \n",
       "\n",
       "                                            question  \n",
       "0  [{'role': 'assistant', 'content': 'Can you tel...  \n",
       "1  [{'role': 'assistant', 'content': 'May I also ...  \n",
       "2  [{'role': 'assistant', 'content': 'Could you t...  \n",
       "3  [{'role': 'assistant', 'content': 'What does r...  \n",
       "4  [{'role': 'assistant', 'content': 'Given the p...  "
      ]
     },
     "execution_count": 731,
     "metadata": {},
     "output_type": "execute_result"
    }
   ],
   "source": [
    "# read train and validation, then concatenate\n",
    "data_13 = pd.read_json(glob.glob(dataset_path_13)[0], lines=True)\n",
    "data_14 = pd.read_json(glob.glob(dataset_path_13)[1], lines=True)\n",
    "data_13 = pd.concat([data_13, data_14], ignore_index=True)\n",
    "data_13.head()"
   ]
  },
  {
   "cell_type": "code",
   "execution_count": 732,
   "metadata": {},
   "outputs": [
    {
     "data": {
      "text/plain": [
       "(31241, 5)"
      ]
     },
     "execution_count": 732,
     "metadata": {},
     "output_type": "execute_result"
    }
   ],
   "source": [
    "data_13.shape"
   ]
  },
  {
   "cell_type": "code",
   "execution_count": 733,
   "metadata": {},
   "outputs": [
    {
     "name": "stdout",
     "output_type": "stream",
     "text": [
      "t_cvu1b1m-0-c0-q1_original\n",
      "[{'role': 'system', 'content': 'You are a medical doctor trying to interct with the patient to seek additional information about their case before making a clinical decision. Based on your understanding of basic and clinical science, medical knowledge, and mechanisms underlying health, disease, patient care, and modes of therapy, ask a follow up question. Base your answer on the current and standard practices referenced in medical guidelines.\\nTask: You will be given some initial patient information and a patient inquiry, and you should ask a follow-up question to the patient. The question should be bite-sized, NOT ask for too much at once, and NOT repeat what has already been asked. Respond with the atomic question and NOTHING ELSE.'}]\n",
      "[{'role': 'user', 'content': 'Absence of Vas Deferens\\nI am 26M, 5\\'7\" around 180LBS Caucasian and was born with Penoscrotal inversion, Chordee, hypospadious, and intersexed. I was Karyotyped XY. I had several reconstructive surgeries to fix my penis and place my testicles in the proper location and was given hormone treatments as an infant to encourage proper development. I recent went to a Urolgist for a Vasectomy (I don\\'t want kids nor do I wish to potentially pass my defects on). During the initial consultation, the Doctor discovered that I do not have Vas Deferens. He checked several times and even did a sonogram to make sure I had both kidneys. I did along with a cyst on one (Dr. said it is normal). I did a Semen analysis which returned negative for any sperm at all confirming my pre-existing sterility and no need for a vasectomy. I have read that the absence of Vas Deferens is usually accompanied by cystic fibrosis, which I do not have nor have ever shown symptoms of or Renal Agenesis, which I do not have. What could be the reason for my absence of  Vas Deferens? Could they have been destroyed in my surgeries or could there be another cause?\\n\\n\\nTL:DR- Born intersexws and recently discovered I have no Vas Deferens. I have both kidneys and no cystic fibrosis. Looking for possibilities as to why I don\\'t have  Vas Deferens'}, {'role': 'assistant', 'content': \"May I also ask whether your physiology began to change towards that of a more 'complete' male during puberty?\"}]\n",
      "[{'role': 'user', 'content': 'Absence of Vas Deferens\\nI am 26M, 5\\'7\" around 180LBS Caucasian and was born with Penoscrotal inversion, Chordee, hypospadious, and intersexed. I was Karyotyped XY. I had several reconstructive surgeries to fix my penis and place my testicles in the proper location and was given hormone treatments as an infant to encourage proper development. I recent went to a Urolgist for a Vasectomy (I don\\'t want kids nor do I wish to potentially pass my defects on). During the initial consultation, the Doctor discovered that I do not have Vas Deferens. He checked several times and even did a sonogram to make sure I had both kidneys. I did along with a cyst on one (Dr. said it is normal). I did a Semen analysis which returned negative for any sperm at all confirming my pre-existing sterility and no need for a vasectomy. I have read that the absence of Vas Deferens is usually accompanied by cystic fibrosis, which I do not have nor have ever shown symptoms of or Renal Agenesis, which I do not have. What could be the reason for my absence of  Vas Deferens? Could they have been destroyed in my surgeries or could there be another cause?\\n\\n\\nTL:DR- Born intersexws and recently discovered I have no Vas Deferens. I have both kidneys and no cystic fibrosis. Looking for possibilities as to why I don\\'t have  Vas Deferens'}]\n",
      "[{'role': 'assistant', 'content': \"May I also ask whether your physiology began to change towards that of a more 'complete' male during puberty?\"}]\n"
     ]
    }
   ],
   "source": [
    "idx = 1\n",
    "print(data_13.iloc[idx, 0])\n",
    "print(data_13.iloc[idx, 1])\n",
    "print(data_13.iloc[idx, 2])\n",
    "print(data_13.iloc[idx, 3])\n",
    "print(data_13.iloc[idx, 4])"
   ]
  },
  {
   "cell_type": "code",
   "execution_count": 734,
   "metadata": {},
   "outputs": [],
   "source": [
    "# pass this dataset"
   ]
  },
  {
   "cell_type": "markdown",
   "metadata": {},
   "source": [
    "# pubmed_qa"
   ]
  },
  {
   "cell_type": "code",
   "execution_count": 735,
   "metadata": {},
   "outputs": [
    {
     "data": {
      "text/plain": [
       "['..\\\\..\\\\datasets\\\\MediQ_AskDocs\\\\original\\\\test.jsonl',\n",
       " '..\\\\..\\\\datasets\\\\MediQ_AskDocs\\\\original\\\\train.jsonl',\n",
       " '..\\\\..\\\\datasets\\\\MediQ_AskDocs\\\\original\\\\validation.jsonl']"
      ]
     },
     "execution_count": 735,
     "metadata": {},
     "output_type": "execute_result"
    }
   ],
   "source": [
    "import pandas as pd\n",
    "import glob\n",
    "\n",
    "dataset_path_14 = \"..\\\\..\\\\datasets\\\\MediQ_AskDocs\\\\original\\\\*\"\n",
    "glob.glob(dataset_path_14)"
   ]
  },
  {
   "cell_type": "code",
   "execution_count": 736,
   "metadata": {},
   "outputs": [
    {
     "data": {
      "text/html": [
       "<div>\n",
       "<style scoped>\n",
       "    .dataframe tbody tr th:only-of-type {\n",
       "        vertical-align: middle;\n",
       "    }\n",
       "\n",
       "    .dataframe tbody tr th {\n",
       "        vertical-align: top;\n",
       "    }\n",
       "\n",
       "    .dataframe thead th {\n",
       "        text-align: right;\n",
       "    }\n",
       "</style>\n",
       "<table border=\"1\" class=\"dataframe\">\n",
       "  <thead>\n",
       "    <tr style=\"text-align: right;\">\n",
       "      <th></th>\n",
       "      <th>id</th>\n",
       "      <th>system</th>\n",
       "      <th>messages</th>\n",
       "      <th>context</th>\n",
       "      <th>question</th>\n",
       "    </tr>\n",
       "  </thead>\n",
       "  <tbody>\n",
       "    <tr>\n",
       "      <th>0</th>\n",
       "      <td>t_dpon6tw-0-c2-q0</td>\n",
       "      <td>[{'role': 'system', 'content': 'You are a medi...</td>\n",
       "      <td>[{'role': 'user', 'content': 'How long does it...</td>\n",
       "      <td>[{'role': 'user', 'content': 'How long does it...</td>\n",
       "      <td>[{'role': 'assistant', 'content': 'Did the str...</td>\n",
       "    </tr>\n",
       "    <tr>\n",
       "      <th>1</th>\n",
       "      <td>t_dmx7gg8-0-c2-q0</td>\n",
       "      <td>[{'role': 'system', 'content': 'You are a medi...</td>\n",
       "      <td>[{'role': 'user', 'content': 'Sharp Pain in Lo...</td>\n",
       "      <td>[{'role': 'user', 'content': 'Sharp Pain in Lo...</td>\n",
       "      <td>[{'role': 'assistant', 'content': 'Are you sti...</td>\n",
       "    </tr>\n",
       "    <tr>\n",
       "      <th>2</th>\n",
       "      <td>t_clpjlg6-0-c0-q0</td>\n",
       "      <td>[{'role': 'system', 'content': 'You are a medi...</td>\n",
       "      <td>[{'role': 'user', 'content': 'How many abortio...</td>\n",
       "      <td>[{'role': 'user', 'content': 'How many abortio...</td>\n",
       "      <td>[{'role': 'assistant', 'content': 'Why hasn't ...</td>\n",
       "    </tr>\n",
       "    <tr>\n",
       "      <th>3</th>\n",
       "      <td>t_dpxkqwp-0-c0-q0</td>\n",
       "      <td>[{'role': 'system', 'content': 'You are a medi...</td>\n",
       "      <td>[{'role': 'user', 'content': 'Passed out yeste...</td>\n",
       "      <td>[{'role': 'user', 'content': 'Passed out yeste...</td>\n",
       "      <td>[{'role': 'assistant', 'content': 'Can you rel...</td>\n",
       "    </tr>\n",
       "    <tr>\n",
       "      <th>4</th>\n",
       "      <td>t_ctrpx71-0-c0-q0</td>\n",
       "      <td>[{'role': 'system', 'content': 'You are a medi...</td>\n",
       "      <td>[{'role': 'user', 'content': 'Withdrawal sympt...</td>\n",
       "      <td>[{'role': 'user', 'content': 'Withdrawal sympt...</td>\n",
       "      <td>[{'role': 'assistant', 'content': 'How old are...</td>\n",
       "    </tr>\n",
       "  </tbody>\n",
       "</table>\n",
       "</div>"
      ],
      "text/plain": [
       "                  id                                             system  \\\n",
       "0  t_dpon6tw-0-c2-q0  [{'role': 'system', 'content': 'You are a medi...   \n",
       "1  t_dmx7gg8-0-c2-q0  [{'role': 'system', 'content': 'You are a medi...   \n",
       "2  t_clpjlg6-0-c0-q0  [{'role': 'system', 'content': 'You are a medi...   \n",
       "3  t_dpxkqwp-0-c0-q0  [{'role': 'system', 'content': 'You are a medi...   \n",
       "4  t_ctrpx71-0-c0-q0  [{'role': 'system', 'content': 'You are a medi...   \n",
       "\n",
       "                                            messages  \\\n",
       "0  [{'role': 'user', 'content': 'How long does it...   \n",
       "1  [{'role': 'user', 'content': 'Sharp Pain in Lo...   \n",
       "2  [{'role': 'user', 'content': 'How many abortio...   \n",
       "3  [{'role': 'user', 'content': 'Passed out yeste...   \n",
       "4  [{'role': 'user', 'content': 'Withdrawal sympt...   \n",
       "\n",
       "                                             context  \\\n",
       "0  [{'role': 'user', 'content': 'How long does it...   \n",
       "1  [{'role': 'user', 'content': 'Sharp Pain in Lo...   \n",
       "2  [{'role': 'user', 'content': 'How many abortio...   \n",
       "3  [{'role': 'user', 'content': 'Passed out yeste...   \n",
       "4  [{'role': 'user', 'content': 'Withdrawal sympt...   \n",
       "\n",
       "                                            question  \n",
       "0  [{'role': 'assistant', 'content': 'Did the str...  \n",
       "1  [{'role': 'assistant', 'content': 'Are you sti...  \n",
       "2  [{'role': 'assistant', 'content': 'Why hasn't ...  \n",
       "3  [{'role': 'assistant', 'content': 'Can you rel...  \n",
       "4  [{'role': 'assistant', 'content': 'How old are...  "
      ]
     },
     "execution_count": 736,
     "metadata": {},
     "output_type": "execute_result"
    }
   ],
   "source": [
    "# read all json and then concatenate\n",
    "data_14 = pd.read_json(glob.glob(dataset_path_14)[0], lines=True)\n",
    "data_15 = pd.read_json(glob.glob(dataset_path_14)[1], lines=True)\n",
    "data_16 = pd.read_json(glob.glob(dataset_path_14)[2], lines=True)\n",
    "data_14 = pd.concat([data_14, data_15, data_16], ignore_index=True)\n",
    "data_14.head()"
   ]
  },
  {
   "cell_type": "code",
   "execution_count": 737,
   "metadata": {},
   "outputs": [
    {
     "data": {
      "text/plain": [
       "(23830, 5)"
      ]
     },
     "execution_count": 737,
     "metadata": {},
     "output_type": "execute_result"
    }
   ],
   "source": [
    "data_14.shape"
   ]
  },
  {
   "cell_type": "code",
   "execution_count": 738,
   "metadata": {},
   "outputs": [
    {
     "name": "stdout",
     "output_type": "stream",
     "text": [
      "t_dmx7gg8-0-c2-q0\n",
      "[{'role': 'system', 'content': 'You are a medical doctor trying to interct with the patient to seek additional information about their case before making a clinical decision. Based on your understanding of basic and clinical science, medical knowledge, and mechanisms underlying health, disease, patient care, and modes of therapy, ask a follow up question. Base your answer on the current and standard practices referenced in medical guidelines.\\nTask: You will be given some initial patient information and a patient inquiry, and you should ask a follow-up question to the patient. The question should be bite-sized, NOT ask for too much at once, and NOT repeat what has already been asked. Respond with the atomic question and NOTHING ELSE.'}]\n",
      "[{'role': 'user', 'content': 'Sharp Pain in Lower Back While Peeing\\nI am an American 22/F, 5\\' 7\" 160 lbs. I have noticed about once a month or so, for the last year, when I pee sometimes I have a sharp stabbing pain in my lower back/side. I also have had to pee very often the last year or so that this has been happening. I never thought much of it until I this happened a few days ago and kept hurting for a while. No other symptoms, maybe some weight gain and I am always tired. I have had a kidney infection in the past that was pretty bad but that was about 3 years ago. The only medication I take is birth control and I have had an STD test recently with no change in partners in 4 years, so I know that isn\\'t the problem.'}, {'role': 'assistant', 'content': 'Are you still peeing normally and could you be more exact with the location of the pain?'}]\n",
      "[{'role': 'user', 'content': 'Sharp Pain in Lower Back While Peeing\\nI am an American 22/F, 5\\' 7\" 160 lbs. I have noticed about once a month or so, for the last year, when I pee sometimes I have a sharp stabbing pain in my lower back/side. I also have had to pee very often the last year or so that this has been happening. I never thought much of it until I this happened a few days ago and kept hurting for a while. No other symptoms, maybe some weight gain and I am always tired. I have had a kidney infection in the past that was pretty bad but that was about 3 years ago. The only medication I take is birth control and I have had an STD test recently with no change in partners in 4 years, so I know that isn\\'t the problem.'}]\n",
      "[{'role': 'assistant', 'content': 'Are you still peeing normally and could you be more exact with the location of the pain?'}]\n"
     ]
    }
   ],
   "source": [
    "idx = 1\n",
    "print(data_14.iloc[idx, 0])\n",
    "print(data_14.iloc[idx, 1])\n",
    "print(data_14.iloc[idx, 2])\n",
    "print(data_14.iloc[idx, 3])\n",
    "print(data_14.iloc[idx, 4])"
   ]
  },
  {
   "cell_type": "code",
   "execution_count": 739,
   "metadata": {},
   "outputs": [
    {
     "data": {
      "text/plain": [
       "'Sharp Pain in Lower Back While Peeing\\nI am an American 22/F, 5\\' 7\" 160 lbs. I have noticed about once a month or so, for the last year, when I pee sometimes I have a sharp stabbing pain in my lower back/side. I also have had to pee very often the last year or so that this has been happening. I never thought much of it until I this happened a few days ago and kept hurting for a while. No other symptoms, maybe some weight gain and I am always tired. I have had a kidney infection in the past that was pretty bad but that was about 3 years ago. The only medication I take is birth control and I have had an STD test recently with no change in partners in 4 years, so I know that isn\\'t the problem.'"
      ]
     },
     "execution_count": 739,
     "metadata": {},
     "output_type": "execute_result"
    }
   ],
   "source": [
    "data_14.iloc[idx][\"messages\"][0][\"content\"]"
   ]
  },
  {
   "cell_type": "code",
   "execution_count": 740,
   "metadata": {},
   "outputs": [],
   "source": [
    "# pass this dataset\n",
    "import uuid\n",
    "\n",
    "with open(file_path, \"a\", encoding=\"utf-8\") as file:\n",
    "    dataset_name = \"MediQ_AskDocs\"\n",
    "    for idx in range(0, len(data_14)):\n",
    "        id_messages = str(uuid.uuid4())\n",
    "        # role: System\n",
    "        System_message = data_14.iloc[idx][\"system\"][0][\"content\"]\n",
    "        # role: User\n",
    "        User_message = data_14.iloc[idx][\"context\"][0][\"content\"]\n",
    "        # role: Chatbot\n",
    "        Chatbot_message = data_14.iloc[idx][\"question\"][0][\"content\"]\n",
    "\n",
    "        # write to file\n",
    "        file.writelines(concatenate_string(dataset_name, id_messages, System_message, User_message, Chatbot_message) + \"\\n\")\n",
    "\n",
    "file.close()        "
   ]
  },
  {
   "cell_type": "code",
   "execution_count": 741,
   "metadata": {},
   "outputs": [
    {
     "name": "stdout",
     "output_type": "stream",
     "text": [
      "Number of lines in the file: 546996\n"
     ]
    }
   ],
   "source": [
    "# open file_path, read and count lines\n",
    "with open(file_path, \"r\", encoding=\"utf-8\") as file:\n",
    "    lines = file.readlines()\n",
    "    print(\"Number of lines in the file:\", len(lines))\n",
    "file.close()"
   ]
  },
  {
   "cell_type": "markdown",
   "metadata": {},
   "source": [
    "# Summary"
   ]
  },
  {
   "cell_type": "code",
   "execution_count": 742,
   "metadata": {},
   "outputs": [
    {
     "data": {
      "text/plain": [
       "['..\\\\..\\\\datasets\\\\ChatDoctor-HealthCareMagic-100k',\n",
       " '..\\\\..\\\\datasets\\\\ChatDoctor-iCliniq',\n",
       " '..\\\\..\\\\datasets\\\\liveqa_medical_trec2017',\n",
       " '..\\\\..\\\\datasets\\\\medical-eval-sphere',\n",
       " '..\\\\..\\\\datasets\\\\medical_meadow_cord19',\n",
       " '..\\\\..\\\\datasets\\\\medical_meadow_medical_flashcards',\n",
       " '..\\\\..\\\\datasets\\\\medical_meadow_mediqa',\n",
       " '..\\\\..\\\\datasets\\\\medical_meadow_medqa',\n",
       " '..\\\\..\\\\datasets\\\\medical_meadow_mmmlu',\n",
       " '..\\\\..\\\\datasets\\\\medical_meadow_wikidoc',\n",
       " '..\\\\..\\\\datasets\\\\mediQ',\n",
       " '..\\\\..\\\\datasets\\\\MediQ_AskDocs',\n",
       " '..\\\\..\\\\datasets\\\\med_qa',\n",
       " '..\\\\..\\\\datasets\\\\pubmed_qa',\n",
       " '..\\\\..\\\\datasets\\\\README.md']"
      ]
     },
     "execution_count": 742,
     "metadata": {},
     "output_type": "execute_result"
    }
   ],
   "source": [
    "['..\\\\..\\\\datasets\\\\ChatDoctor-HealthCareMagic-100k',\n",
    " '..\\\\..\\\\datasets\\\\ChatDoctor-iCliniq',\n",
    " '..\\\\..\\\\datasets\\\\liveqa_medical_trec2017',\n",
    " '..\\\\..\\\\datasets\\\\medical-eval-sphere',\n",
    " '..\\\\..\\\\datasets\\\\medical_meadow_cord19',\n",
    " '..\\\\..\\\\datasets\\\\medical_meadow_medical_flashcards',\n",
    " '..\\\\..\\\\datasets\\\\medical_meadow_mediqa',\n",
    " '..\\\\..\\\\datasets\\\\medical_meadow_medqa',\n",
    " '..\\\\..\\\\datasets\\\\medical_meadow_mmmlu',\n",
    " '..\\\\..\\\\datasets\\\\medical_meadow_wikidoc',\n",
    " '..\\\\..\\\\datasets\\\\mediQ',\n",
    " '..\\\\..\\\\datasets\\\\MediQ_AskDocs',\n",
    " '..\\\\..\\\\datasets\\\\med_qa',\n",
    " '..\\\\..\\\\datasets\\\\pubmed_qa',\n",
    " '..\\\\..\\\\datasets\\\\README.md']"
   ]
  },
  {
   "cell_type": "code",
   "execution_count": 743,
   "metadata": {},
   "outputs": [],
   "source": [
    "x = []\n",
    "x.append(data_1.shape[0])\n",
    "x.append(data_2.shape[0])\n",
    "x.append(data_3.shape[0])\n",
    "x.append(data_4.shape[0])\n",
    "x.append(data_6.shape[0])\n",
    "x.append(data_7.shape[0])\n",
    "x.append(data_8.shape[0])\n",
    "x.append(data_9.shape[0])\n",
    "x.append(data_10.shape[0])\n",
    "x.append(data_11.shape[0])\n",
    "x.append(data_12.shape[0])\n",
    "x.append(data_13.shape[0])\n",
    "x.append(data_14.shape[0])"
   ]
  },
  {
   "cell_type": "code",
   "execution_count": 744,
   "metadata": {},
   "outputs": [
    {
     "data": {
      "image/png": "[encoded data removed]",
      "text/plain": [
       "<Figure size 1000x600 with 1 Axes>"
      ]
     },
     "metadata": {},
     "output_type": "display_data"
    }
   ],
   "source": [
    "import matplotlib.pyplot as plt\n",
    "import numpy as np\n",
    "import pandas as pd\n",
    "\n",
    "x = [\n",
    "    data_1.shape[0],\n",
    "    data_2.shape[0],\n",
    "    data_3.shape[0],\n",
    "    data_4.shape[0],\n",
    "    data_6.shape[0],\n",
    "    data_7.shape[0],\n",
    "    data_8.shape[0],\n",
    "    data_9.shape[0],\n",
    "    data_10.shape[0],\n",
    "    data_11.shape[0],\n",
    "    data_12.shape[0],\n",
    "    data_13.shape[0],\n",
    "    data_14.shape[0]\n",
    "]\n",
    "y = [\n",
    "    \"ChatDoctor-HealthCareMagic-100k\",\n",
    "    \"ChatDoctor-iCliniq\",\n",
    "    \"liveqa_medical_trec2017 (pass)\",\n",
    "    \"medical-eval-sphere\",\n",
    "    \"medical_meadow_medical_flashcards\",\n",
    "    \"medical_meadow_mediqa (pass)\",\n",
    "    \"medical_meadow_medqa\",\n",
    "    \"medical_meadow_mmmlu\",\n",
    "    \"medical_meadow_wikidoc\",\n",
    "    \"mediQ (pass)\",\n",
    "    \"MediQ_AskDocs_original\",\n",
    "    \"MediQ_AskDocs_synthetic\",\n",
    "    \"MediQ_AskDocs (pass)\"\n",
    "]\n",
    "plt.figure(figsize=(10, 6))\n",
    "plt.barh(y, x, color=\"blue\")\n",
    "plt.xlabel(\"Number of examples\")\n",
    "plt.ylabel(\"Dataset name\")\n",
    "plt.title(\"Number of examples in each dataset\")\n",
    "plt.xticks(rotation=45)\n",
    "plt.tight_layout()\n",
    "plt.show()"
   ]
  }
 ],
 "metadata": {
  "kernelspec": {
   "display_name": "Python 3",
   "language": "python",
   "name": "python3"
  },
  "language_info": {
   "codemirror_mode": {
    "name": "ipython",
    "version": 3
   },
   "file_extension": ".py",
   "mimetype": "text/x-python",
   "name": "python",
   "nbconvert_exporter": "python",
   "pygments_lexer": "ipython3",
   "version": "3.12.9"
  }
 },
 "nbformat": 4,
 "nbformat_minor": 2
}
