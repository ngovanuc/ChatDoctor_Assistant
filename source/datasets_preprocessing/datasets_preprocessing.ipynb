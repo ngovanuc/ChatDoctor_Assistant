{
 "cells": [
  {
   "cell_type": "code",
   "execution_count": 1,
   "metadata": {},
   "outputs": [],
   "source": [
    "import glob\n",
    "import os"
   ]
  },
  {
   "cell_type": "code",
   "execution_count": 40,
   "metadata": {},
   "outputs": [
    {
     "data": {
      "text/plain": [
       "['..\\\\..\\\\datasets\\\\ChatDoctor-HealthCareMagic-100k',\n",
       " '..\\\\..\\\\datasets\\\\ChatDoctor-iCliniq',\n",
       " '..\\\\..\\\\datasets\\\\liveqa_medical_trec2017',\n",
       " '..\\\\..\\\\datasets\\\\medical-eval-sphere',\n",
       " '..\\\\..\\\\datasets\\\\medical_meadow_cord19',\n",
       " '..\\\\..\\\\datasets\\\\medical_meadow_medical_flashcards',\n",
       " '..\\\\..\\\\datasets\\\\medical_meadow_mediqa',\n",
       " '..\\\\..\\\\datasets\\\\medical_meadow_medqa',\n",
       " '..\\\\..\\\\datasets\\\\medical_meadow_mmmlu',\n",
       " '..\\\\..\\\\datasets\\\\medical_meadow_wikidoc',\n",
       " '..\\\\..\\\\datasets\\\\mediQ',\n",
       " '..\\\\..\\\\datasets\\\\MediQ_AskDocs',\n",
       " '..\\\\..\\\\datasets\\\\med_qa',\n",
       " '..\\\\..\\\\datasets\\\\pubmed_qa',\n",
       " '..\\\\..\\\\datasets\\\\README.md']"
      ]
     },
     "execution_count": 40,
     "metadata": {},
     "output_type": "execute_result"
    }
   ],
   "source": [
    "glob.glob(\"..\\\\..\\\\datasets\\\\*\")"
   ]
  },
  {
   "cell_type": "markdown",
   "metadata": {},
   "source": [
    "# ChatDoctor-HealthCareMagic-100k"
   ]
  },
  {
   "cell_type": "code",
   "execution_count": 21,
   "metadata": {},
   "outputs": [
    {
     "data": {
      "text/plain": [
       "['..\\\\..\\\\datasets\\\\ChatDoctor-HealthCareMagic-100k\\\\data\\\\train-00000-of-00001-5e7cb295b9cff0bf.parquet']"
      ]
     },
     "execution_count": 21,
     "metadata": {},
     "output_type": "execute_result"
    }
   ],
   "source": [
    "dataset_path_1 = \"..\\\\..\\\\datasets\\\\ChatDoctor-HealthCareMagic-100k\\\\*\\\\*\"\n",
    "glob.glob(dataset_path_1)"
   ]
  },
  {
   "cell_type": "code",
   "execution_count": 36,
   "metadata": {},
   "outputs": [
    {
     "data": {
      "text/html": [
       "<div>\n",
       "<style scoped>\n",
       "    .dataframe tbody tr th:only-of-type {\n",
       "        vertical-align: middle;\n",
       "    }\n",
       "\n",
       "    .dataframe tbody tr th {\n",
       "        vertical-align: top;\n",
       "    }\n",
       "\n",
       "    .dataframe thead th {\n",
       "        text-align: right;\n",
       "    }\n",
       "</style>\n",
       "<table border=\"1\" class=\"dataframe\">\n",
       "  <thead>\n",
       "    <tr style=\"text-align: right;\">\n",
       "      <th></th>\n",
       "      <th>instruction</th>\n",
       "      <th>input</th>\n",
       "      <th>output</th>\n",
       "    </tr>\n",
       "  </thead>\n",
       "  <tbody>\n",
       "    <tr>\n",
       "      <th>0</th>\n",
       "      <td>If you are a doctor, please answer the medical...</td>\n",
       "      <td>I woke up this morning feeling the whole room ...</td>\n",
       "      <td>Hi, Thank you for posting your query. The most...</td>\n",
       "    </tr>\n",
       "    <tr>\n",
       "      <th>1</th>\n",
       "      <td>If you are a doctor, please answer the medical...</td>\n",
       "      <td>My baby has been pooing 5-6 times a day for a ...</td>\n",
       "      <td>Hi... Thank you for consulting in Chat Doctor....</td>\n",
       "    </tr>\n",
       "    <tr>\n",
       "      <th>2</th>\n",
       "      <td>If you are a doctor, please answer the medical...</td>\n",
       "      <td>Hello, My husband is taking Oxycodone due to a...</td>\n",
       "      <td>Hello, and I hope I can help you today.First, ...</td>\n",
       "    </tr>\n",
       "    <tr>\n",
       "      <th>3</th>\n",
       "      <td>If you are a doctor, please answer the medical...</td>\n",
       "      <td>lump under left nipple and stomach pain (male)...</td>\n",
       "      <td>HI. You have two different problems. The lump ...</td>\n",
       "    </tr>\n",
       "    <tr>\n",
       "      <th>4</th>\n",
       "      <td>If you are a doctor, please answer the medical...</td>\n",
       "      <td>I have a 5 month old baby who is very congeste...</td>\n",
       "      <td>Thank you for using Chat Doctor. I would sugge...</td>\n",
       "    </tr>\n",
       "  </tbody>\n",
       "</table>\n",
       "</div>"
      ],
      "text/plain": [
       "                                         instruction  \\\n",
       "0  If you are a doctor, please answer the medical...   \n",
       "1  If you are a doctor, please answer the medical...   \n",
       "2  If you are a doctor, please answer the medical...   \n",
       "3  If you are a doctor, please answer the medical...   \n",
       "4  If you are a doctor, please answer the medical...   \n",
       "\n",
       "                                               input  \\\n",
       "0  I woke up this morning feeling the whole room ...   \n",
       "1  My baby has been pooing 5-6 times a day for a ...   \n",
       "2  Hello, My husband is taking Oxycodone due to a...   \n",
       "3  lump under left nipple and stomach pain (male)...   \n",
       "4  I have a 5 month old baby who is very congeste...   \n",
       "\n",
       "                                              output  \n",
       "0  Hi, Thank you for posting your query. The most...  \n",
       "1  Hi... Thank you for consulting in Chat Doctor....  \n",
       "2  Hello, and I hope I can help you today.First, ...  \n",
       "3  HI. You have two different problems. The lump ...  \n",
       "4  Thank you for using Chat Doctor. I would sugge...  "
      ]
     },
     "execution_count": 36,
     "metadata": {},
     "output_type": "execute_result"
    }
   ],
   "source": [
    "import pyarrow\n",
    "import fastparquet\n",
    "import pandas as pd\n",
    "\n",
    "data_1 = pd.read_parquet(glob.glob(dataset_path_1))\n",
    "data_1.head()\n"
   ]
  },
  {
   "cell_type": "code",
   "execution_count": 26,
   "metadata": {},
   "outputs": [
    {
     "name": "stdout",
     "output_type": "stream",
     "text": [
      "(112165, 3)\n"
     ]
    }
   ],
   "source": [
    "print(data_1.shape)"
   ]
  },
  {
   "cell_type": "markdown",
   "metadata": {},
   "source": [
    "# ChatDoctor-iCliniq"
   ]
  },
  {
   "cell_type": "code",
   "execution_count": 34,
   "metadata": {},
   "outputs": [
    {
     "data": {
      "text/plain": [
       "['..\\\\..\\\\datasets\\\\ChatDoctor-iCliniq\\\\data\\\\train-00000-of-00001-7f15f39e4c3a7ee9.parquet']"
      ]
     },
     "execution_count": 34,
     "metadata": {},
     "output_type": "execute_result"
    }
   ],
   "source": [
    "import pandas as pd\n",
    "import glob\n",
    "\n",
    "dataset_path_2 = \"..\\\\..\\\\datasets\\\\ChatDoctor-iCliniq\\\\*\\\\*\"\n",
    "glob.glob(dataset_path_2)"
   ]
  },
  {
   "cell_type": "code",
   "execution_count": 35,
   "metadata": {},
   "outputs": [
    {
     "data": {
      "text/html": [
       "<div>\n",
       "<style scoped>\n",
       "    .dataframe tbody tr th:only-of-type {\n",
       "        vertical-align: middle;\n",
       "    }\n",
       "\n",
       "    .dataframe tbody tr th {\n",
       "        vertical-align: top;\n",
       "    }\n",
       "\n",
       "    .dataframe thead th {\n",
       "        text-align: right;\n",
       "    }\n",
       "</style>\n",
       "<table border=\"1\" class=\"dataframe\">\n",
       "  <thead>\n",
       "    <tr style=\"text-align: right;\">\n",
       "      <th></th>\n",
       "      <th>input</th>\n",
       "      <th>answer_icliniq</th>\n",
       "      <th>answer_chatgpt</th>\n",
       "      <th>answer_chatdoctor</th>\n",
       "    </tr>\n",
       "  </thead>\n",
       "  <tbody>\n",
       "    <tr>\n",
       "      <th>0</th>\n",
       "      <td>Hello doctor,I had mumps five months ago and a...</td>\n",
       "      <td>Hello, Welcome to Chat Doctor forum. I can und...</td>\n",
       "      <td>It is possible that you still have an infectio...</td>\n",
       "      <td>1) There is no need to worry about reinfection...</td>\n",
       "    </tr>\n",
       "    <tr>\n",
       "      <th>1</th>\n",
       "      <td>Hello doctor,I am trying to conceive but my hu...</td>\n",
       "      <td>Hello, Wellcome to ChatDoctor. There are few r...</td>\n",
       "      <td>Hello! Thank you for reaching out.\\n\\nCocaine ...</td>\n",
       "      <td>1) Cocaine use can affect fertility by causing...</td>\n",
       "    </tr>\n",
       "    <tr>\n",
       "      <th>2</th>\n",
       "      <td>Hello doctor,I am currently on the Yaz contrac...</td>\n",
       "      <td>Hello. The brown discharge should be temporary...</td>\n",
       "      <td>Hello! It's not uncommon to experience some ir...</td>\n",
       "      <td>1) The brown discharge is due to the hormonal ...</td>\n",
       "    </tr>\n",
       "    <tr>\n",
       "      <th>3</th>\n",
       "      <td>Hello doctor,My son aged 13 years has got his ...</td>\n",
       "      <td>Hello, Welcome to Chat Doctor forum. I have go...</td>\n",
       "      <td>As an AI language model, I am not a doctor and...</td>\n",
       "      <td>Hi, welcome to Chat Doctor forum. I understand...</td>\n",
       "    </tr>\n",
       "    <tr>\n",
       "      <th>4</th>\n",
       "      <td>Hello doctor,I just got one side of my wisdom ...</td>\n",
       "      <td>Hello. The lump is mostly a hard swelling whic...</td>\n",
       "      <td>Hello,\\n\\nIt is normal to have some swelling a...</td>\n",
       "      <td>Hi, Thanks for your query. It appears that you...</td>\n",
       "    </tr>\n",
       "  </tbody>\n",
       "</table>\n",
       "</div>"
      ],
      "text/plain": [
       "                                               input  \\\n",
       "0  Hello doctor,I had mumps five months ago and a...   \n",
       "1  Hello doctor,I am trying to conceive but my hu...   \n",
       "2  Hello doctor,I am currently on the Yaz contrac...   \n",
       "3  Hello doctor,My son aged 13 years has got his ...   \n",
       "4  Hello doctor,I just got one side of my wisdom ...   \n",
       "\n",
       "                                      answer_icliniq  \\\n",
       "0  Hello, Welcome to Chat Doctor forum. I can und...   \n",
       "1  Hello, Wellcome to ChatDoctor. There are few r...   \n",
       "2  Hello. The brown discharge should be temporary...   \n",
       "3  Hello, Welcome to Chat Doctor forum. I have go...   \n",
       "4  Hello. The lump is mostly a hard swelling whic...   \n",
       "\n",
       "                                      answer_chatgpt  \\\n",
       "0  It is possible that you still have an infectio...   \n",
       "1  Hello! Thank you for reaching out.\\n\\nCocaine ...   \n",
       "2  Hello! It's not uncommon to experience some ir...   \n",
       "3  As an AI language model, I am not a doctor and...   \n",
       "4  Hello,\\n\\nIt is normal to have some swelling a...   \n",
       "\n",
       "                                   answer_chatdoctor  \n",
       "0  1) There is no need to worry about reinfection...  \n",
       "1  1) Cocaine use can affect fertility by causing...  \n",
       "2  1) The brown discharge is due to the hormonal ...  \n",
       "3  Hi, welcome to Chat Doctor forum. I understand...  \n",
       "4  Hi, Thanks for your query. It appears that you...  "
      ]
     },
     "execution_count": 35,
     "metadata": {},
     "output_type": "execute_result"
    }
   ],
   "source": [
    "data_2 = pd.read_parquet(glob.glob(dataset_path_2))\n",
    "data_2.head()"
   ]
  },
  {
   "cell_type": "code",
   "execution_count": 31,
   "metadata": {},
   "outputs": [
    {
     "data": {
      "text/plain": [
       "(7321, 4)"
      ]
     },
     "execution_count": 31,
     "metadata": {},
     "output_type": "execute_result"
    }
   ],
   "source": [
    "data_2.shape"
   ]
  },
  {
   "cell_type": "markdown",
   "metadata": {},
   "source": [
    "# liveqa_medical_trec2017"
   ]
  },
  {
   "cell_type": "code",
   "execution_count": null,
   "metadata": {},
   "outputs": [
    {
     "data": {
      "text/plain": [
       "['..\\\\..\\\\datasets\\\\liveqa_medical_trec2017\\\\README.md',\n",
       " '..\\\\..\\\\datasets\\\\liveqa_medical_trec2017\\\\test.jsonl',\n",
       " '..\\\\..\\\\datasets\\\\liveqa_medical_trec2017\\\\TREC2017-LiveQA-Medical-Train1.jsonl',\n",
       " '..\\\\..\\\\datasets\\\\liveqa_medical_trec2017\\\\TREC2017-LiveQA-Medical-Train2.jsonl']"
      ]
     },
     "execution_count": 32,
     "metadata": {},
     "output_type": "execute_result"
    }
   ],
   "source": [
    "import pandas as pd\n",
    "import glob\n",
    "\n",
    "dataset_path_3 = \"..\\\\..\\\\datasets\\\\liveqa_medical_trec2017\\\\*\"\n",
    "glob.glob(dataset_path_3)"
   ]
  },
  {
   "cell_type": "code",
   "execution_count": 39,
   "metadata": {},
   "outputs": [
    {
     "data": {
      "text/html": [
       "<div>\n",
       "<style scoped>\n",
       "    .dataframe tbody tr th:only-of-type {\n",
       "        vertical-align: middle;\n",
       "    }\n",
       "\n",
       "    .dataframe tbody tr th {\n",
       "        vertical-align: top;\n",
       "    }\n",
       "\n",
       "    .dataframe thead th {\n",
       "        text-align: right;\n",
       "    }\n",
       "</style>\n",
       "<table border=\"1\" class=\"dataframe\">\n",
       "  <thead>\n",
       "    <tr style=\"text-align: right;\">\n",
       "      <th></th>\n",
       "      <th>ANSWERS</th>\n",
       "      <th>SUB_QUESTION_ID</th>\n",
       "      <th>ANNOTATIONS_FOCUS</th>\n",
       "      <th>ANNOTATIONS_TYPE</th>\n",
       "      <th>SUBJECT</th>\n",
       "      <th>MESSAGE</th>\n",
       "      <th>QUESTION_ID</th>\n",
       "      <th>F_REF</th>\n",
       "    </tr>\n",
       "  </thead>\n",
       "  <tbody>\n",
       "    <tr>\n",
       "      <th>0</th>\n",
       "      <td>[{'_answerid': 'Q1-S1-A1', '_pairid': '1', '__...</td>\n",
       "      <td>Q1-S1</td>\n",
       "      <td>[cardiac amyloidosis]</td>\n",
       "      <td>information</td>\n",
       "      <td></td>\n",
       "      <td>Literature on Cardiac amyloidosis.  Please let...</td>\n",
       "      <td>Q1</td>\n",
       "      <td>11373</td>\n",
       "    </tr>\n",
       "    <tr>\n",
       "      <th>1</th>\n",
       "      <td>[{'_answerid': 'Q2-S1-A1', '_pairid': '3', '__...</td>\n",
       "      <td>Q2-S1</td>\n",
       "      <td>[migraine]</td>\n",
       "      <td>treatment</td>\n",
       "      <td>treatment options versus migraine types</td>\n",
       "      <td>Migraine seems to be a spectrum of conditions ...</td>\n",
       "      <td>Q2</td>\n",
       "      <td>1-136434885</td>\n",
       "    </tr>\n",
       "    <tr>\n",
       "      <th>2</th>\n",
       "      <td>[{'_answerid': 'Q3-S1-A1', '_pairid': '5', '__...</td>\n",
       "      <td>Q3-S1</td>\n",
       "      <td>[pyridoxine]</td>\n",
       "      <td>contraindication</td>\n",
       "      <td></td>\n",
       "      <td>DO I USE PYRIDOXINE TABLETS EVEN IF IM PREGNANT?</td>\n",
       "      <td>Q3</td>\n",
       "      <td>1-123453375</td>\n",
       "    </tr>\n",
       "    <tr>\n",
       "      <th>3</th>\n",
       "      <td>[{'_answerid': 'Q4-S1-A1', '_pairid': '6', '__...</td>\n",
       "      <td>Q4-S1</td>\n",
       "      <td>[cramp]</td>\n",
       "      <td>cause</td>\n",
       "      <td>cramp</td>\n",
       "      <td>i have lymphoma what causes cramp after chemo ...</td>\n",
       "      <td>Q4</td>\n",
       "      <td>1-118260435</td>\n",
       "    </tr>\n",
       "    <tr>\n",
       "      <th>4</th>\n",
       "      <td>[{'_answerid': 'Q5-S1-A1', '_pairid': '7', '__...</td>\n",
       "      <td>Q5-S1</td>\n",
       "      <td>[macular degeneration]</td>\n",
       "      <td>treatment</td>\n",
       "      <td>Retina</td>\n",
       "      <td>I wonder of new research and testing on macula...</td>\n",
       "      <td>Q5</td>\n",
       "      <td>1-132032443</td>\n",
       "    </tr>\n",
       "  </tbody>\n",
       "</table>\n",
       "</div>"
      ],
      "text/plain": [
       "                                             ANSWERS SUB_QUESTION_ID  \\\n",
       "0  [{'_answerid': 'Q1-S1-A1', '_pairid': '1', '__...           Q1-S1   \n",
       "1  [{'_answerid': 'Q2-S1-A1', '_pairid': '3', '__...           Q2-S1   \n",
       "2  [{'_answerid': 'Q3-S1-A1', '_pairid': '5', '__...           Q3-S1   \n",
       "3  [{'_answerid': 'Q4-S1-A1', '_pairid': '6', '__...           Q4-S1   \n",
       "4  [{'_answerid': 'Q5-S1-A1', '_pairid': '7', '__...           Q5-S1   \n",
       "\n",
       "        ANNOTATIONS_FOCUS  ANNOTATIONS_TYPE  \\\n",
       "0   [cardiac amyloidosis]       information   \n",
       "1              [migraine]         treatment   \n",
       "2            [pyridoxine]  contraindication   \n",
       "3                 [cramp]             cause   \n",
       "4  [macular degeneration]         treatment   \n",
       "\n",
       "                                   SUBJECT  \\\n",
       "0                                            \n",
       "1  treatment options versus migraine types   \n",
       "2                                            \n",
       "3                                    cramp   \n",
       "4                                   Retina   \n",
       "\n",
       "                                             MESSAGE QUESTION_ID        F_REF  \n",
       "0  Literature on Cardiac amyloidosis.  Please let...          Q1        11373  \n",
       "1  Migraine seems to be a spectrum of conditions ...          Q2  1-136434885  \n",
       "2   DO I USE PYRIDOXINE TABLETS EVEN IF IM PREGNANT?          Q3  1-123453375  \n",
       "3  i have lymphoma what causes cramp after chemo ...          Q4  1-118260435  \n",
       "4  I wonder of new research and testing on macula...          Q5  1-132032443  "
      ]
     },
     "execution_count": 39,
     "metadata": {},
     "output_type": "execute_result"
    }
   ],
   "source": [
    "data_3 = pd.read_json(glob.glob(dataset_path_3)[2], lines=True)\n",
    "data_3.head()"
   ]
  },
  {
   "cell_type": "code",
   "execution_count": 41,
   "metadata": {},
   "outputs": [
    {
     "data": {
      "text/html": [
       "<div>\n",
       "<style scoped>\n",
       "    .dataframe tbody tr th:only-of-type {\n",
       "        vertical-align: middle;\n",
       "    }\n",
       "\n",
       "    .dataframe tbody tr th {\n",
       "        vertical-align: top;\n",
       "    }\n",
       "\n",
       "    .dataframe thead th {\n",
       "        text-align: right;\n",
       "    }\n",
       "</style>\n",
       "<table border=\"1\" class=\"dataframe\">\n",
       "  <thead>\n",
       "    <tr style=\"text-align: right;\">\n",
       "      <th></th>\n",
       "      <th>ANSWERS</th>\n",
       "      <th>SUB_QUESTION_ID</th>\n",
       "      <th>ANNOTATIONS_FOCUS</th>\n",
       "      <th>ANNOTATIONS_TYPE</th>\n",
       "      <th>SUBJECT</th>\n",
       "      <th>MESSAGE</th>\n",
       "      <th>QUESTION_ID</th>\n",
       "      <th>F_REF</th>\n",
       "      <th>ANSWER</th>\n",
       "    </tr>\n",
       "  </thead>\n",
       "  <tbody>\n",
       "    <tr>\n",
       "      <th>0</th>\n",
       "      <td>[{'_answerid': 'Q1-S1-A1', '_pairid': '1', '__...</td>\n",
       "      <td>Q1-S1</td>\n",
       "      <td>[cardiac amyloidosis]</td>\n",
       "      <td>information</td>\n",
       "      <td></td>\n",
       "      <td>Literature on Cardiac amyloidosis.  Please let...</td>\n",
       "      <td>Q1</td>\n",
       "      <td>11373</td>\n",
       "      <td>NaN</td>\n",
       "    </tr>\n",
       "    <tr>\n",
       "      <th>1</th>\n",
       "      <td>[{'_answerid': 'Q2-S1-A1', '_pairid': '3', '__...</td>\n",
       "      <td>Q2-S1</td>\n",
       "      <td>[migraine]</td>\n",
       "      <td>treatment</td>\n",
       "      <td>treatment options versus migraine types</td>\n",
       "      <td>Migraine seems to be a spectrum of conditions ...</td>\n",
       "      <td>Q2</td>\n",
       "      <td>1-136434885</td>\n",
       "      <td>NaN</td>\n",
       "    </tr>\n",
       "    <tr>\n",
       "      <th>2</th>\n",
       "      <td>[{'_answerid': 'Q3-S1-A1', '_pairid': '5', '__...</td>\n",
       "      <td>Q3-S1</td>\n",
       "      <td>[pyridoxine]</td>\n",
       "      <td>contraindication</td>\n",
       "      <td></td>\n",
       "      <td>DO I USE PYRIDOXINE TABLETS EVEN IF IM PREGNANT?</td>\n",
       "      <td>Q3</td>\n",
       "      <td>1-123453375</td>\n",
       "      <td>NaN</td>\n",
       "    </tr>\n",
       "    <tr>\n",
       "      <th>3</th>\n",
       "      <td>[{'_answerid': 'Q4-S1-A1', '_pairid': '6', '__...</td>\n",
       "      <td>Q4-S1</td>\n",
       "      <td>[cramp]</td>\n",
       "      <td>cause</td>\n",
       "      <td>cramp</td>\n",
       "      <td>i have lymphoma what causes cramp after chemo ...</td>\n",
       "      <td>Q4</td>\n",
       "      <td>1-118260435</td>\n",
       "      <td>NaN</td>\n",
       "    </tr>\n",
       "    <tr>\n",
       "      <th>4</th>\n",
       "      <td>[{'_answerid': 'Q5-S1-A1', '_pairid': '7', '__...</td>\n",
       "      <td>Q5-S1</td>\n",
       "      <td>[macular degeneration]</td>\n",
       "      <td>treatment</td>\n",
       "      <td>Retina</td>\n",
       "      <td>I wonder of new research and testing on macula...</td>\n",
       "      <td>Q5</td>\n",
       "      <td>1-132032443</td>\n",
       "      <td>NaN</td>\n",
       "    </tr>\n",
       "  </tbody>\n",
       "</table>\n",
       "</div>"
      ],
      "text/plain": [
       "                                             ANSWERS SUB_QUESTION_ID  \\\n",
       "0  [{'_answerid': 'Q1-S1-A1', '_pairid': '1', '__...           Q1-S1   \n",
       "1  [{'_answerid': 'Q2-S1-A1', '_pairid': '3', '__...           Q2-S1   \n",
       "2  [{'_answerid': 'Q3-S1-A1', '_pairid': '5', '__...           Q3-S1   \n",
       "3  [{'_answerid': 'Q4-S1-A1', '_pairid': '6', '__...           Q4-S1   \n",
       "4  [{'_answerid': 'Q5-S1-A1', '_pairid': '7', '__...           Q5-S1   \n",
       "\n",
       "        ANNOTATIONS_FOCUS  ANNOTATIONS_TYPE  \\\n",
       "0   [cardiac amyloidosis]       information   \n",
       "1              [migraine]         treatment   \n",
       "2            [pyridoxine]  contraindication   \n",
       "3                 [cramp]             cause   \n",
       "4  [macular degeneration]         treatment   \n",
       "\n",
       "                                   SUBJECT  \\\n",
       "0                                            \n",
       "1  treatment options versus migraine types   \n",
       "2                                            \n",
       "3                                    cramp   \n",
       "4                                   Retina   \n",
       "\n",
       "                                             MESSAGE QUESTION_ID        F_REF  \\\n",
       "0  Literature on Cardiac amyloidosis.  Please let...          Q1        11373   \n",
       "1  Migraine seems to be a spectrum of conditions ...          Q2  1-136434885   \n",
       "2   DO I USE PYRIDOXINE TABLETS EVEN IF IM PREGNANT?          Q3  1-123453375   \n",
       "3  i have lymphoma what causes cramp after chemo ...          Q4  1-118260435   \n",
       "4  I wonder of new research and testing on macula...          Q5  1-132032443   \n",
       "\n",
       "  ANSWER  \n",
       "0    NaN  \n",
       "1    NaN  \n",
       "2    NaN  \n",
       "3    NaN  \n",
       "4    NaN  "
      ]
     },
     "execution_count": 41,
     "metadata": {},
     "output_type": "execute_result"
    }
   ],
   "source": [
    "# read second dataset and concatenate\n",
    "data_4 = pd.read_json(glob.glob(dataset_path_3)[3], lines=True)\n",
    "data_3 = pd.concat([data_3, data_4], ignore_index=True)\n",
    "data_3.head()"
   ]
  },
  {
   "cell_type": "code",
   "execution_count": 42,
   "metadata": {},
   "outputs": [
    {
     "data": {
      "text/plain": [
       "(500, 9)"
      ]
     },
     "execution_count": 42,
     "metadata": {},
     "output_type": "execute_result"
    }
   ],
   "source": [
    "data_3.shape"
   ]
  },
  {
   "cell_type": "markdown",
   "metadata": {},
   "source": [
    "# medical-eval-sphere"
   ]
  },
  {
   "cell_type": "code",
   "execution_count": 44,
   "metadata": {},
   "outputs": [
    {
     "data": {
      "text/plain": [
       "['..\\\\..\\\\datasets\\\\medical-eval-sphere\\\\data',\n",
       " '..\\\\..\\\\datasets\\\\medical-eval-sphere\\\\README.md']"
      ]
     },
     "execution_count": 44,
     "metadata": {},
     "output_type": "execute_result"
    }
   ],
   "source": [
    "import pandas as pd\n",
    "import glob\n",
    "\n",
    "dataset_path_4 = \"..\\\\..\\\\datasets\\\\medical-eval-sphere\\\\*\"\n",
    "glob.glob(dataset_path_4)"
   ]
  },
  {
   "cell_type": "code",
   "execution_count": 45,
   "metadata": {},
   "outputs": [
    {
     "data": {
      "text/plain": [
       "['..\\\\..\\\\datasets\\\\medical-eval-sphere\\\\data\\\\medical_qa_benchmark_v1.0-00000-of-00001.parquet']"
      ]
     },
     "execution_count": 45,
     "metadata": {},
     "output_type": "execute_result"
    }
   ],
   "source": [
    "glob.glob(\"..\\\\..\\\\datasets\\\\medical-eval-sphere\\\\data\\\\*\")"
   ]
  },
  {
   "cell_type": "code",
   "execution_count": 46,
   "metadata": {},
   "outputs": [
    {
     "data": {
      "text/html": [
       "<div>\n",
       "<style scoped>\n",
       "    .dataframe tbody tr th:only-of-type {\n",
       "        vertical-align: middle;\n",
       "    }\n",
       "\n",
       "    .dataframe tbody tr th {\n",
       "        vertical-align: top;\n",
       "    }\n",
       "\n",
       "    .dataframe thead th {\n",
       "        text-align: right;\n",
       "    }\n",
       "</style>\n",
       "<table border=\"1\" class=\"dataframe\">\n",
       "  <thead>\n",
       "    <tr style=\"text-align: right;\">\n",
       "      <th></th>\n",
       "      <th>global_key</th>\n",
       "      <th>batch_id</th>\n",
       "      <th>medical_question</th>\n",
       "      <th>model_a</th>\n",
       "      <th>response_a</th>\n",
       "      <th>model_b</th>\n",
       "      <th>response_b</th>\n",
       "      <th>pair_order</th>\n",
       "      <th>annotations</th>\n",
       "    </tr>\n",
       "  </thead>\n",
       "  <tbody>\n",
       "    <tr>\n",
       "      <th>0</th>\n",
       "      <td>8769e2a3-85e3-4357-97cb-de9a19e6baf0</td>\n",
       "      <td>1</td>\n",
       "      <td>Why was arsenic used to treat diseases?</td>\n",
       "      <td>biomistral-7b-dare</td>\n",
       "      <td>Arsenic was used to treat diseases due to its ...</td>\n",
       "      <td>alpacare-llama2-13b</td>\n",
       "      <td>Arsenic was used to treat diseases because it ...</td>\n",
       "      <td>biomistral-7b-dare@alpacare-llama2-13b</td>\n",
       "      <td>{\"difficulty\": {\"annotator1\": \"basic\", \"annota...</td>\n",
       "    </tr>\n",
       "    <tr>\n",
       "      <th>1</th>\n",
       "      <td>129b615e-e84a-484c-87a4-f7d130bc44f4</td>\n",
       "      <td>1</td>\n",
       "      <td>If a 70-year-old woman who is 5’6” tall and we...</td>\n",
       "      <td>biomistral-7b-dare</td>\n",
       "      <td>The glomerular filtration rate (GFR) is a meas...</td>\n",
       "      <td>alpacare-llama2-13b</td>\n",
       "      <td>Yes, a weight loss of 15 pounds can potentiall...</td>\n",
       "      <td>biomistral-7b-dare@alpacare-llama2-13b</td>\n",
       "      <td>{\"difficulty\": {\"annotator1\": \"advanced\", \"ann...</td>\n",
       "    </tr>\n",
       "    <tr>\n",
       "      <th>2</th>\n",
       "      <td>13f07370-9abc-4f64-96c2-8b267a2e0f1f</td>\n",
       "      <td>1</td>\n",
       "      <td>How long after a catheterization done via the ...</td>\n",
       "      <td>biomistral-7b-dare</td>\n",
       "      <td>After a catheterization done via the wrist, it...</td>\n",
       "      <td>alpacare-llama2-13b</td>\n",
       "      <td>It is generally safe to resume light resistanc...</td>\n",
       "      <td>biomistral-7b-dare@alpacare-llama2-13b</td>\n",
       "      <td>{\"difficulty\": {\"annotator1\": \"intermediate\", ...</td>\n",
       "    </tr>\n",
       "    <tr>\n",
       "      <th>3</th>\n",
       "      <td>d1a979f2-9bf7-46c9-a910-f793547f298e</td>\n",
       "      <td>1</td>\n",
       "      <td>What oil is good for you to cook with?</td>\n",
       "      <td>biomistral-7b-dare</td>\n",
       "      <td>Olive oil is considered one of the healthiest ...</td>\n",
       "      <td>alpacare-llama2-13b</td>\n",
       "      <td>When it comes to cooking oil, there are severa...</td>\n",
       "      <td>biomistral-7b-dare@alpacare-llama2-13b</td>\n",
       "      <td>{\"difficulty\": {\"annotator1\": \"basic\", \"annota...</td>\n",
       "    </tr>\n",
       "    <tr>\n",
       "      <th>4</th>\n",
       "      <td>440c6071-ff40-4cab-a078-97709008dbaf</td>\n",
       "      <td>1</td>\n",
       "      <td>What amount of narrowing of arteries requires ...</td>\n",
       "      <td>alpacare-llama2-13b</td>\n",
       "      <td>The decision to perform angioplasty or stent p...</td>\n",
       "      <td>biomistral-7b-dare</td>\n",
       "      <td>The decision to perform angioplasty or stentin...</td>\n",
       "      <td>alpacare-llama2-13b@biomistral-7b-dare</td>\n",
       "      <td>{\"difficulty\": {\"annotator1\": \"advanced\", \"ann...</td>\n",
       "    </tr>\n",
       "  </tbody>\n",
       "</table>\n",
       "</div>"
      ],
      "text/plain": [
       "                             global_key  batch_id  \\\n",
       "0  8769e2a3-85e3-4357-97cb-de9a19e6baf0         1   \n",
       "1  129b615e-e84a-484c-87a4-f7d130bc44f4         1   \n",
       "2  13f07370-9abc-4f64-96c2-8b267a2e0f1f         1   \n",
       "3  d1a979f2-9bf7-46c9-a910-f793547f298e         1   \n",
       "4  440c6071-ff40-4cab-a078-97709008dbaf         1   \n",
       "\n",
       "                                    medical_question              model_a  \\\n",
       "0            Why was arsenic used to treat diseases?   biomistral-7b-dare   \n",
       "1  If a 70-year-old woman who is 5’6” tall and we...   biomistral-7b-dare   \n",
       "2  How long after a catheterization done via the ...   biomistral-7b-dare   \n",
       "3             What oil is good for you to cook with?   biomistral-7b-dare   \n",
       "4  What amount of narrowing of arteries requires ...  alpacare-llama2-13b   \n",
       "\n",
       "                                          response_a              model_b  \\\n",
       "0  Arsenic was used to treat diseases due to its ...  alpacare-llama2-13b   \n",
       "1  The glomerular filtration rate (GFR) is a meas...  alpacare-llama2-13b   \n",
       "2  After a catheterization done via the wrist, it...  alpacare-llama2-13b   \n",
       "3  Olive oil is considered one of the healthiest ...  alpacare-llama2-13b   \n",
       "4  The decision to perform angioplasty or stent p...   biomistral-7b-dare   \n",
       "\n",
       "                                          response_b  \\\n",
       "0  Arsenic was used to treat diseases because it ...   \n",
       "1  Yes, a weight loss of 15 pounds can potentiall...   \n",
       "2  It is generally safe to resume light resistanc...   \n",
       "3  When it comes to cooking oil, there are severa...   \n",
       "4  The decision to perform angioplasty or stentin...   \n",
       "\n",
       "                               pair_order  \\\n",
       "0  biomistral-7b-dare@alpacare-llama2-13b   \n",
       "1  biomistral-7b-dare@alpacare-llama2-13b   \n",
       "2  biomistral-7b-dare@alpacare-llama2-13b   \n",
       "3  biomistral-7b-dare@alpacare-llama2-13b   \n",
       "4  alpacare-llama2-13b@biomistral-7b-dare   \n",
       "\n",
       "                                         annotations  \n",
       "0  {\"difficulty\": {\"annotator1\": \"basic\", \"annota...  \n",
       "1  {\"difficulty\": {\"annotator1\": \"advanced\", \"ann...  \n",
       "2  {\"difficulty\": {\"annotator1\": \"intermediate\", ...  \n",
       "3  {\"difficulty\": {\"annotator1\": \"basic\", \"annota...  \n",
       "4  {\"difficulty\": {\"annotator1\": \"advanced\", \"ann...  "
      ]
     },
     "execution_count": 46,
     "metadata": {},
     "output_type": "execute_result"
    }
   ],
   "source": [
    "data_4 = pd.read_parquet(glob.glob(\"..\\\\..\\\\datasets\\\\medical-eval-sphere\\\\data\\\\*\")[0])\n",
    "data_4.head()"
   ]
  },
  {
   "cell_type": "code",
   "execution_count": 47,
   "metadata": {},
   "outputs": [
    {
     "data": {
      "text/plain": [
       "(400, 9)"
      ]
     },
     "execution_count": 47,
     "metadata": {},
     "output_type": "execute_result"
    }
   ],
   "source": [
    "data_4.shape"
   ]
  },
  {
   "cell_type": "markdown",
   "metadata": {},
   "source": [
    "# medical_meadow_cord19"
   ]
  },
  {
   "cell_type": "code",
   "execution_count": 48,
   "metadata": {},
   "outputs": [
    {
     "data": {
      "text/plain": [
       "['..\\\\..\\\\datasets\\\\medical_meadow_cord19\\\\medical_meadow_cord19.json',\n",
       " '..\\\\..\\\\datasets\\\\medical_meadow_cord19\\\\README.md']"
      ]
     },
     "execution_count": 48,
     "metadata": {},
     "output_type": "execute_result"
    }
   ],
   "source": [
    "import pandas as pd\n",
    "import glob\n",
    "\n",
    "dataset_path_5 = \"..\\\\..\\\\datasets\\\\medical_meadow_cord19\\\\*\"\n",
    "glob.glob(dataset_path_5)"
   ]
  },
  {
   "cell_type": "code",
   "execution_count": 50,
   "metadata": {},
   "outputs": [],
   "source": [
    "# this dataset is too large"
   ]
  },
  {
   "cell_type": "markdown",
   "metadata": {},
   "source": [
    "# medical_meadow_medical_flashcards"
   ]
  },
  {
   "cell_type": "code",
   "execution_count": 51,
   "metadata": {},
   "outputs": [
    {
     "data": {
      "text/plain": [
       "['..\\\\..\\\\datasets\\\\medical_meadow_medical_flashcards\\\\medical_meadow_wikidoc_medical_flashcards.json',\n",
       " '..\\\\..\\\\datasets\\\\medical_meadow_medical_flashcards\\\\README.md']"
      ]
     },
     "execution_count": 51,
     "metadata": {},
     "output_type": "execute_result"
    }
   ],
   "source": [
    "import pandas as pd\n",
    "import glob\n",
    "\n",
    "dataset_path_6 = \"..\\\\..\\\\datasets\\\\medical_meadow_medical_flashcards\\\\*\"\n",
    "glob.glob(dataset_path_6)"
   ]
  },
  {
   "cell_type": "code",
   "execution_count": 52,
   "metadata": {},
   "outputs": [
    {
     "data": {
      "text/html": [
       "<div>\n",
       "<style scoped>\n",
       "    .dataframe tbody tr th:only-of-type {\n",
       "        vertical-align: middle;\n",
       "    }\n",
       "\n",
       "    .dataframe tbody tr th {\n",
       "        vertical-align: top;\n",
       "    }\n",
       "\n",
       "    .dataframe thead th {\n",
       "        text-align: right;\n",
       "    }\n",
       "</style>\n",
       "<table border=\"1\" class=\"dataframe\">\n",
       "  <thead>\n",
       "    <tr style=\"text-align: right;\">\n",
       "      <th></th>\n",
       "      <th>0</th>\n",
       "      <th>1</th>\n",
       "      <th>2</th>\n",
       "      <th>3</th>\n",
       "      <th>4</th>\n",
       "      <th>5</th>\n",
       "      <th>6</th>\n",
       "      <th>7</th>\n",
       "      <th>8</th>\n",
       "      <th>9</th>\n",
       "      <th>...</th>\n",
       "      <th>33945</th>\n",
       "      <th>33946</th>\n",
       "      <th>33947</th>\n",
       "      <th>33948</th>\n",
       "      <th>33949</th>\n",
       "      <th>33950</th>\n",
       "      <th>33951</th>\n",
       "      <th>33952</th>\n",
       "      <th>33953</th>\n",
       "      <th>33954</th>\n",
       "    </tr>\n",
       "  </thead>\n",
       "  <tbody>\n",
       "    <tr>\n",
       "      <th>0</th>\n",
       "      <td>{'instruction': 'Answer this question truthful...</td>\n",
       "      <td>{'instruction': 'Answer this question truthful...</td>\n",
       "      <td>{'instruction': 'Answer this question truthful...</td>\n",
       "      <td>{'instruction': 'Answer this question truthful...</td>\n",
       "      <td>{'instruction': 'Answer this question truthful...</td>\n",
       "      <td>{'instruction': 'Answer this question truthful...</td>\n",
       "      <td>{'instruction': 'Answer this question truthful...</td>\n",
       "      <td>{'instruction': 'Answer this question truthful...</td>\n",
       "      <td>{'instruction': 'Answer this question truthful...</td>\n",
       "      <td>{'instruction': 'Answer this question truthful...</td>\n",
       "      <td>...</td>\n",
       "      <td>{'instruction': 'Answer this question truthful...</td>\n",
       "      <td>{'instruction': 'Answer this question truthful...</td>\n",
       "      <td>{'instruction': 'Answer this question truthful...</td>\n",
       "      <td>{'instruction': 'Answer this question truthful...</td>\n",
       "      <td>{'instruction': 'Answer this question truthful...</td>\n",
       "      <td>{'instruction': 'Answer this question truthful...</td>\n",
       "      <td>{'instruction': 'Answer this question truthful...</td>\n",
       "      <td>{'instruction': 'Answer this question truthful...</td>\n",
       "      <td>{'instruction': 'Answer this question truthful...</td>\n",
       "      <td>{'instruction': 'Answer this question truthful...</td>\n",
       "    </tr>\n",
       "  </tbody>\n",
       "</table>\n",
       "<p>1 rows × 33955 columns</p>\n",
       "</div>"
      ],
      "text/plain": [
       "                                               0      \\\n",
       "0  {'instruction': 'Answer this question truthful...   \n",
       "\n",
       "                                               1      \\\n",
       "0  {'instruction': 'Answer this question truthful...   \n",
       "\n",
       "                                               2      \\\n",
       "0  {'instruction': 'Answer this question truthful...   \n",
       "\n",
       "                                               3      \\\n",
       "0  {'instruction': 'Answer this question truthful...   \n",
       "\n",
       "                                               4      \\\n",
       "0  {'instruction': 'Answer this question truthful...   \n",
       "\n",
       "                                               5      \\\n",
       "0  {'instruction': 'Answer this question truthful...   \n",
       "\n",
       "                                               6      \\\n",
       "0  {'instruction': 'Answer this question truthful...   \n",
       "\n",
       "                                               7      \\\n",
       "0  {'instruction': 'Answer this question truthful...   \n",
       "\n",
       "                                               8      \\\n",
       "0  {'instruction': 'Answer this question truthful...   \n",
       "\n",
       "                                               9      ...  \\\n",
       "0  {'instruction': 'Answer this question truthful...  ...   \n",
       "\n",
       "                                               33945  \\\n",
       "0  {'instruction': 'Answer this question truthful...   \n",
       "\n",
       "                                               33946  \\\n",
       "0  {'instruction': 'Answer this question truthful...   \n",
       "\n",
       "                                               33947  \\\n",
       "0  {'instruction': 'Answer this question truthful...   \n",
       "\n",
       "                                               33948  \\\n",
       "0  {'instruction': 'Answer this question truthful...   \n",
       "\n",
       "                                               33949  \\\n",
       "0  {'instruction': 'Answer this question truthful...   \n",
       "\n",
       "                                               33950  \\\n",
       "0  {'instruction': 'Answer this question truthful...   \n",
       "\n",
       "                                               33951  \\\n",
       "0  {'instruction': 'Answer this question truthful...   \n",
       "\n",
       "                                               33952  \\\n",
       "0  {'instruction': 'Answer this question truthful...   \n",
       "\n",
       "                                               33953  \\\n",
       "0  {'instruction': 'Answer this question truthful...   \n",
       "\n",
       "                                               33954  \n",
       "0  {'instruction': 'Answer this question truthful...  \n",
       "\n",
       "[1 rows x 33955 columns]"
      ]
     },
     "execution_count": 52,
     "metadata": {},
     "output_type": "execute_result"
    }
   ],
   "source": [
    "data_6 = pd.read_json(glob.glob(dataset_path_6)[0], lines=True)\n",
    "data_6.head()"
   ]
  },
  {
   "cell_type": "code",
   "execution_count": 54,
   "metadata": {},
   "outputs": [
    {
     "data": {
      "text/plain": [
       "(1, 33955)"
      ]
     },
     "execution_count": 54,
     "metadata": {},
     "output_type": "execute_result"
    }
   ],
   "source": [
    "data_6.shape"
   ]
  },
  {
   "cell_type": "code",
   "execution_count": 62,
   "metadata": {},
   "outputs": [
    {
     "data": {
      "text/plain": [
       "{'instruction': 'Answer this question truthfully',\n",
       " 'input': 'What leads to genitourinary syndrome of menopause (atrophic vaginitis)?',\n",
       " 'output': 'Low estradiol production leads to genitourinary syndrome of menopause (atrophic vaginitis).'}"
      ]
     },
     "execution_count": 62,
     "metadata": {},
     "output_type": "execute_result"
    }
   ],
   "source": [
    "data_6[1][0]"
   ]
  },
  {
   "cell_type": "markdown",
   "metadata": {},
   "source": [
    "# medical_meadow_mediqa"
   ]
  },
  {
   "cell_type": "code",
   "execution_count": 63,
   "metadata": {},
   "outputs": [
    {
     "data": {
      "text/plain": [
       "['..\\\\..\\\\datasets\\\\medical_meadow_mediqa\\\\medical_meadow_mediqa.json',\n",
       " '..\\\\..\\\\datasets\\\\medical_meadow_mediqa\\\\README.md']"
      ]
     },
     "execution_count": 63,
     "metadata": {},
     "output_type": "execute_result"
    }
   ],
   "source": [
    "import pandas as pd\n",
    "import glob\n",
    "\n",
    "dataset_path_7 = \"..\\\\..\\\\datasets\\\\medical_meadow_mediqa\\\\*\"\n",
    "glob.glob(dataset_path_7)"
   ]
  },
  {
   "cell_type": "code",
   "execution_count": 64,
   "metadata": {},
   "outputs": [
    {
     "data": {
      "text/html": [
       "<div>\n",
       "<style scoped>\n",
       "    .dataframe tbody tr th:only-of-type {\n",
       "        vertical-align: middle;\n",
       "    }\n",
       "\n",
       "    .dataframe tbody tr th {\n",
       "        vertical-align: top;\n",
       "    }\n",
       "\n",
       "    .dataframe thead th {\n",
       "        text-align: right;\n",
       "    }\n",
       "</style>\n",
       "<table border=\"1\" class=\"dataframe\">\n",
       "  <thead>\n",
       "    <tr style=\"text-align: right;\">\n",
       "      <th></th>\n",
       "      <th>0</th>\n",
       "      <th>1</th>\n",
       "      <th>2</th>\n",
       "      <th>3</th>\n",
       "      <th>4</th>\n",
       "      <th>5</th>\n",
       "      <th>6</th>\n",
       "      <th>7</th>\n",
       "      <th>8</th>\n",
       "      <th>9</th>\n",
       "      <th>...</th>\n",
       "      <th>2198</th>\n",
       "      <th>2199</th>\n",
       "      <th>2200</th>\n",
       "      <th>2201</th>\n",
       "      <th>2202</th>\n",
       "      <th>2203</th>\n",
       "      <th>2204</th>\n",
       "      <th>2205</th>\n",
       "      <th>2206</th>\n",
       "      <th>2207</th>\n",
       "    </tr>\n",
       "  </thead>\n",
       "  <tbody>\n",
       "    <tr>\n",
       "      <th>0</th>\n",
       "      <td>{'instruction': 'abetalipoproteimemia hi, I wo...</td>\n",
       "      <td>{'instruction': 'abetalipoproteimemia hi, I wo...</td>\n",
       "      <td>{'instruction': 'abetalipoproteimemia hi, I wo...</td>\n",
       "      <td>{'instruction': 'abetalipoproteimemia hi, I wo...</td>\n",
       "      <td>{'instruction': 'about thalassemia treatment s...</td>\n",
       "      <td>{'instruction': 'about thalassemia treatment s...</td>\n",
       "      <td>{'instruction': 'Absence seizures Does any dam...</td>\n",
       "      <td>{'instruction': 'Absence seizures Does any dam...</td>\n",
       "      <td>{'instruction': 'Absence seizures Does any dam...</td>\n",
       "      <td>{'instruction': 'Achondroplasia research.    H...</td>\n",
       "      <td>...</td>\n",
       "      <td>{'instruction': 'what does kidney disease look...</td>\n",
       "      <td>{'instruction': 'what does kidney disease look...</td>\n",
       "      <td>{'instruction': 'what does kidney disease look...</td>\n",
       "      <td>{'instruction': 'what does kidney disease look...</td>\n",
       "      <td>{'instruction': 'what does kidney disease look...</td>\n",
       "      <td>{'instruction': 'what is acute diverticulitis'...</td>\n",
       "      <td>{'instruction': 'what is acute diverticulitis'...</td>\n",
       "      <td>{'instruction': 'what is acute diverticulitis'...</td>\n",
       "      <td>{'instruction': 'what is binge eating disorder...</td>\n",
       "      <td>{'instruction': 'what is binge eating disorder...</td>\n",
       "    </tr>\n",
       "  </tbody>\n",
       "</table>\n",
       "<p>1 rows × 2208 columns</p>\n",
       "</div>"
      ],
      "text/plain": [
       "                                                0     \\\n",
       "0  {'instruction': 'abetalipoproteimemia hi, I wo...   \n",
       "\n",
       "                                                1     \\\n",
       "0  {'instruction': 'abetalipoproteimemia hi, I wo...   \n",
       "\n",
       "                                                2     \\\n",
       "0  {'instruction': 'abetalipoproteimemia hi, I wo...   \n",
       "\n",
       "                                                3     \\\n",
       "0  {'instruction': 'abetalipoproteimemia hi, I wo...   \n",
       "\n",
       "                                                4     \\\n",
       "0  {'instruction': 'about thalassemia treatment s...   \n",
       "\n",
       "                                                5     \\\n",
       "0  {'instruction': 'about thalassemia treatment s...   \n",
       "\n",
       "                                                6     \\\n",
       "0  {'instruction': 'Absence seizures Does any dam...   \n",
       "\n",
       "                                                7     \\\n",
       "0  {'instruction': 'Absence seizures Does any dam...   \n",
       "\n",
       "                                                8     \\\n",
       "0  {'instruction': 'Absence seizures Does any dam...   \n",
       "\n",
       "                                                9     ...  \\\n",
       "0  {'instruction': 'Achondroplasia research.    H...  ...   \n",
       "\n",
       "                                                2198  \\\n",
       "0  {'instruction': 'what does kidney disease look...   \n",
       "\n",
       "                                                2199  \\\n",
       "0  {'instruction': 'what does kidney disease look...   \n",
       "\n",
       "                                                2200  \\\n",
       "0  {'instruction': 'what does kidney disease look...   \n",
       "\n",
       "                                                2201  \\\n",
       "0  {'instruction': 'what does kidney disease look...   \n",
       "\n",
       "                                                2202  \\\n",
       "0  {'instruction': 'what does kidney disease look...   \n",
       "\n",
       "                                                2203  \\\n",
       "0  {'instruction': 'what is acute diverticulitis'...   \n",
       "\n",
       "                                                2204  \\\n",
       "0  {'instruction': 'what is acute diverticulitis'...   \n",
       "\n",
       "                                                2205  \\\n",
       "0  {'instruction': 'what is acute diverticulitis'...   \n",
       "\n",
       "                                                2206  \\\n",
       "0  {'instruction': 'what is binge eating disorder...   \n",
       "\n",
       "                                                2207  \n",
       "0  {'instruction': 'what is binge eating disorder...  \n",
       "\n",
       "[1 rows x 2208 columns]"
      ]
     },
     "execution_count": 64,
     "metadata": {},
     "output_type": "execute_result"
    }
   ],
   "source": [
    "data_7 = pd.read_json(glob.glob(dataset_path_7)[0], lines=True)\n",
    "data_7.head()"
   ]
  },
  {
   "cell_type": "code",
   "execution_count": 66,
   "metadata": {},
   "outputs": [
    {
     "data": {
      "text/plain": [
       "{'instruction': 'abetalipoproteimemia hi, I would like to know if there is any support for those suffering with abetalipoproteinemia? I am not diagnosed but have had many test that indicate I am suffering with this, keen to learn how to get it diagnosed and how to manage, many thanks',\n",
       " 'input': 'Bassen-Kornzweig syndrome (Exams and Tests): There may be damage to the retina of the eye (retinitis pigmentosa).   Tests that may be done to help diagnose this condition include:     - Apolipoprotein B blood test   - Blood tests to look for vitamin deficiencies (fat-soluble vitamins A, D, E, and K)   - \"Burr-cell\" malformation of the red cells (acanthocytosis)   - Complete blood count (CBC)   - Cholesterol studies   - Electromyography   - Eye exam   - Nerve conduction velocity   - Stool sample analysis      Genetic testing may be available for mutations in the MTP gene.',\n",
       " 'output': 'Abetalipoproteimemia, also known as Bassen-Kornzweig syndrome, is diagnosed using blood tests for Apolipoprotein B, vitamin deficiencies, malformation of red blood cels, complete blood count and cholesterol. Other tests include  electromyography, eye exams, nerve conduction velocity, stool sample analysis, and  genetic testing  for mutations in the MTP gene.'}"
      ]
     },
     "execution_count": 66,
     "metadata": {},
     "output_type": "execute_result"
    }
   ],
   "source": [
    "data_7[0][0]"
   ]
  },
  {
   "cell_type": "markdown",
   "metadata": {},
   "source": [
    "# medical_meadow_medqa"
   ]
  },
  {
   "cell_type": "code",
   "execution_count": 67,
   "metadata": {},
   "outputs": [
    {
     "data": {
      "text/plain": [
       "['..\\\\..\\\\datasets\\\\medical_meadow_medqa\\\\medical_meadow_medqa.json',\n",
       " '..\\\\..\\\\datasets\\\\medical_meadow_medqa\\\\README.md']"
      ]
     },
     "execution_count": 67,
     "metadata": {},
     "output_type": "execute_result"
    }
   ],
   "source": [
    "import pandas as pd\n",
    "import glob\n",
    "\n",
    "dataset_path_8 = \"..\\\\..\\\\datasets\\\\medical_meadow_medqa\\\\*\"\n",
    "glob.glob(dataset_path_8)"
   ]
  },
  {
   "cell_type": "code",
   "execution_count": 68,
   "metadata": {},
   "outputs": [
    {
     "data": {
      "text/html": [
       "<div>\n",
       "<style scoped>\n",
       "    .dataframe tbody tr th:only-of-type {\n",
       "        vertical-align: middle;\n",
       "    }\n",
       "\n",
       "    .dataframe tbody tr th {\n",
       "        vertical-align: top;\n",
       "    }\n",
       "\n",
       "    .dataframe thead th {\n",
       "        text-align: right;\n",
       "    }\n",
       "</style>\n",
       "<table border=\"1\" class=\"dataframe\">\n",
       "  <thead>\n",
       "    <tr style=\"text-align: right;\">\n",
       "      <th></th>\n",
       "      <th>0</th>\n",
       "      <th>1</th>\n",
       "      <th>2</th>\n",
       "      <th>3</th>\n",
       "      <th>4</th>\n",
       "      <th>5</th>\n",
       "      <th>6</th>\n",
       "      <th>7</th>\n",
       "      <th>8</th>\n",
       "      <th>9</th>\n",
       "      <th>...</th>\n",
       "      <th>10168</th>\n",
       "      <th>10169</th>\n",
       "      <th>10170</th>\n",
       "      <th>10171</th>\n",
       "      <th>10172</th>\n",
       "      <th>10173</th>\n",
       "      <th>10174</th>\n",
       "      <th>10175</th>\n",
       "      <th>10176</th>\n",
       "      <th>10177</th>\n",
       "    </tr>\n",
       "  </thead>\n",
       "  <tbody>\n",
       "    <tr>\n",
       "      <th>0</th>\n",
       "      <td>{'instruction': 'Please answer with one of the...</td>\n",
       "      <td>{'instruction': 'Please answer with one of the...</td>\n",
       "      <td>{'instruction': 'Please answer with one of the...</td>\n",
       "      <td>{'instruction': 'Please answer with one of the...</td>\n",
       "      <td>{'instruction': 'Please answer with one of the...</td>\n",
       "      <td>{'instruction': 'Please answer with one of the...</td>\n",
       "      <td>{'instruction': 'Please answer with one of the...</td>\n",
       "      <td>{'instruction': 'Please answer with one of the...</td>\n",
       "      <td>{'instruction': 'Please answer with one of the...</td>\n",
       "      <td>{'instruction': 'Please answer with one of the...</td>\n",
       "      <td>...</td>\n",
       "      <td>{'instruction': 'Please answer with one of the...</td>\n",
       "      <td>{'instruction': 'Please answer with one of the...</td>\n",
       "      <td>{'instruction': 'Please answer with one of the...</td>\n",
       "      <td>{'instruction': 'Please answer with one of the...</td>\n",
       "      <td>{'instruction': 'Please answer with one of the...</td>\n",
       "      <td>{'instruction': 'Please answer with one of the...</td>\n",
       "      <td>{'instruction': 'Please answer with one of the...</td>\n",
       "      <td>{'instruction': 'Please answer with one of the...</td>\n",
       "      <td>{'instruction': 'Please answer with one of the...</td>\n",
       "      <td>{'instruction': 'Please answer with one of the...</td>\n",
       "    </tr>\n",
       "  </tbody>\n",
       "</table>\n",
       "<p>1 rows × 10178 columns</p>\n",
       "</div>"
      ],
      "text/plain": [
       "                                               0      \\\n",
       "0  {'instruction': 'Please answer with one of the...   \n",
       "\n",
       "                                               1      \\\n",
       "0  {'instruction': 'Please answer with one of the...   \n",
       "\n",
       "                                               2      \\\n",
       "0  {'instruction': 'Please answer with one of the...   \n",
       "\n",
       "                                               3      \\\n",
       "0  {'instruction': 'Please answer with one of the...   \n",
       "\n",
       "                                               4      \\\n",
       "0  {'instruction': 'Please answer with one of the...   \n",
       "\n",
       "                                               5      \\\n",
       "0  {'instruction': 'Please answer with one of the...   \n",
       "\n",
       "                                               6      \\\n",
       "0  {'instruction': 'Please answer with one of the...   \n",
       "\n",
       "                                               7      \\\n",
       "0  {'instruction': 'Please answer with one of the...   \n",
       "\n",
       "                                               8      \\\n",
       "0  {'instruction': 'Please answer with one of the...   \n",
       "\n",
       "                                               9      ...  \\\n",
       "0  {'instruction': 'Please answer with one of the...  ...   \n",
       "\n",
       "                                               10168  \\\n",
       "0  {'instruction': 'Please answer with one of the...   \n",
       "\n",
       "                                               10169  \\\n",
       "0  {'instruction': 'Please answer with one of the...   \n",
       "\n",
       "                                               10170  \\\n",
       "0  {'instruction': 'Please answer with one of the...   \n",
       "\n",
       "                                               10171  \\\n",
       "0  {'instruction': 'Please answer with one of the...   \n",
       "\n",
       "                                               10172  \\\n",
       "0  {'instruction': 'Please answer with one of the...   \n",
       "\n",
       "                                               10173  \\\n",
       "0  {'instruction': 'Please answer with one of the...   \n",
       "\n",
       "                                               10174  \\\n",
       "0  {'instruction': 'Please answer with one of the...   \n",
       "\n",
       "                                               10175  \\\n",
       "0  {'instruction': 'Please answer with one of the...   \n",
       "\n",
       "                                               10176  \\\n",
       "0  {'instruction': 'Please answer with one of the...   \n",
       "\n",
       "                                               10177  \n",
       "0  {'instruction': 'Please answer with one of the...  \n",
       "\n",
       "[1 rows x 10178 columns]"
      ]
     },
     "execution_count": 68,
     "metadata": {},
     "output_type": "execute_result"
    }
   ],
   "source": [
    "data_8 = pd.read_json(glob.glob(dataset_path_8)[0], lines=True)\n",
    "data_8.head()"
   ]
  },
  {
   "cell_type": "code",
   "execution_count": 69,
   "metadata": {},
   "outputs": [
    {
     "data": {
      "text/plain": [
       "{'instruction': 'Please answer with one of the option in the bracket',\n",
       " 'input': \"Q:A 23-year-old pregnant woman at 22 weeks gestation presents with burning upon urination. She states it started 1 day ago and has been worsening despite drinking more water and taking cranberry extract. She otherwise feels well and is followed by a doctor for her pregnancy. Her temperature is 97.7°F (36.5°C), blood pressure is 122/77 mmHg, pulse is 80/min, respirations are 19/min, and oxygen saturation is 98% on room air. Physical exam is notable for an absence of costovertebral angle tenderness and a gravid uterus. Which of the following is the best treatment for this patient?? \\n{'A': 'Ampicillin', 'B': 'Ceftriaxone', 'C': 'Ciprofloxacin', 'D': 'Doxycycline', 'E': 'Nitrofurantoin'},\",\n",
       " 'output': 'E: Nitrofurantoin'}"
      ]
     },
     "execution_count": 69,
     "metadata": {},
     "output_type": "execute_result"
    }
   ],
   "source": [
    "data_8[0][0]"
   ]
  },
  {
   "cell_type": "markdown",
   "metadata": {},
   "source": [
    "# medical_meadow_mmmlu"
   ]
  },
  {
   "cell_type": "code",
   "execution_count": 70,
   "metadata": {},
   "outputs": [
    {
     "data": {
      "text/plain": [
       "['..\\\\..\\\\datasets\\\\medical_meadow_mmmlu\\\\medical_meadow_mmmlu.json']"
      ]
     },
     "execution_count": 70,
     "metadata": {},
     "output_type": "execute_result"
    }
   ],
   "source": [
    "import pandas as pd\n",
    "import glob\n",
    "\n",
    "dataset_path_9 = \"..\\\\..\\\\datasets\\\\medical_meadow_mmmlu\\\\*\"\n",
    "glob.glob(dataset_path_9)"
   ]
  },
  {
   "cell_type": "code",
   "execution_count": 71,
   "metadata": {},
   "outputs": [
    {
     "data": {
      "text/html": [
       "<div>\n",
       "<style scoped>\n",
       "    .dataframe tbody tr th:only-of-type {\n",
       "        vertical-align: middle;\n",
       "    }\n",
       "\n",
       "    .dataframe tbody tr th {\n",
       "        vertical-align: top;\n",
       "    }\n",
       "\n",
       "    .dataframe thead th {\n",
       "        text-align: right;\n",
       "    }\n",
       "</style>\n",
       "<table border=\"1\" class=\"dataframe\">\n",
       "  <thead>\n",
       "    <tr style=\"text-align: right;\">\n",
       "      <th></th>\n",
       "      <th>0</th>\n",
       "      <th>1</th>\n",
       "      <th>2</th>\n",
       "      <th>3</th>\n",
       "      <th>4</th>\n",
       "      <th>5</th>\n",
       "      <th>6</th>\n",
       "      <th>7</th>\n",
       "      <th>8</th>\n",
       "      <th>9</th>\n",
       "      <th>...</th>\n",
       "      <th>3777</th>\n",
       "      <th>3778</th>\n",
       "      <th>3779</th>\n",
       "      <th>3780</th>\n",
       "      <th>3781</th>\n",
       "      <th>3782</th>\n",
       "      <th>3783</th>\n",
       "      <th>3784</th>\n",
       "      <th>3785</th>\n",
       "      <th>3786</th>\n",
       "    </tr>\n",
       "  </thead>\n",
       "  <tbody>\n",
       "    <tr>\n",
       "      <th>0</th>\n",
       "      <td>{'instruction': 'Please answer the letter of o...</td>\n",
       "      <td>{'instruction': 'Please answer the letter of o...</td>\n",
       "      <td>{'instruction': 'Please answer the letter of o...</td>\n",
       "      <td>{'instruction': 'Please answer the letter of o...</td>\n",
       "      <td>{'instruction': 'Please answer the letter of o...</td>\n",
       "      <td>{'instruction': 'Please answer the letter of o...</td>\n",
       "      <td>{'instruction': 'Please answer the letter of o...</td>\n",
       "      <td>{'instruction': 'Please answer the letter of o...</td>\n",
       "      <td>{'instruction': 'Please answer the letter of o...</td>\n",
       "      <td>{'instruction': 'Please answer the letter of o...</td>\n",
       "      <td>...</td>\n",
       "      <td>{'instruction': 'Please answer the letter of o...</td>\n",
       "      <td>{'instruction': 'Please answer the letter of o...</td>\n",
       "      <td>{'instruction': 'Please answer the letter of o...</td>\n",
       "      <td>{'instruction': 'Please answer the letter of o...</td>\n",
       "      <td>{'instruction': 'Please answer the letter of o...</td>\n",
       "      <td>{'instruction': 'Please answer the letter of o...</td>\n",
       "      <td>{'instruction': 'Please answer the letter of o...</td>\n",
       "      <td>{'instruction': 'Please answer the letter of o...</td>\n",
       "      <td>{'instruction': 'Please answer the letter of o...</td>\n",
       "      <td>{'instruction': 'Please answer the letter of o...</td>\n",
       "    </tr>\n",
       "  </tbody>\n",
       "</table>\n",
       "<p>1 rows × 3787 columns</p>\n",
       "</div>"
      ],
      "text/plain": [
       "                                                0     \\\n",
       "0  {'instruction': 'Please answer the letter of o...   \n",
       "\n",
       "                                                1     \\\n",
       "0  {'instruction': 'Please answer the letter of o...   \n",
       "\n",
       "                                                2     \\\n",
       "0  {'instruction': 'Please answer the letter of o...   \n",
       "\n",
       "                                                3     \\\n",
       "0  {'instruction': 'Please answer the letter of o...   \n",
       "\n",
       "                                                4     \\\n",
       "0  {'instruction': 'Please answer the letter of o...   \n",
       "\n",
       "                                                5     \\\n",
       "0  {'instruction': 'Please answer the letter of o...   \n",
       "\n",
       "                                                6     \\\n",
       "0  {'instruction': 'Please answer the letter of o...   \n",
       "\n",
       "                                                7     \\\n",
       "0  {'instruction': 'Please answer the letter of o...   \n",
       "\n",
       "                                                8     \\\n",
       "0  {'instruction': 'Please answer the letter of o...   \n",
       "\n",
       "                                                9     ...  \\\n",
       "0  {'instruction': 'Please answer the letter of o...  ...   \n",
       "\n",
       "                                                3777  \\\n",
       "0  {'instruction': 'Please answer the letter of o...   \n",
       "\n",
       "                                                3778  \\\n",
       "0  {'instruction': 'Please answer the letter of o...   \n",
       "\n",
       "                                                3779  \\\n",
       "0  {'instruction': 'Please answer the letter of o...   \n",
       "\n",
       "                                                3780  \\\n",
       "0  {'instruction': 'Please answer the letter of o...   \n",
       "\n",
       "                                                3781  \\\n",
       "0  {'instruction': 'Please answer the letter of o...   \n",
       "\n",
       "                                                3782  \\\n",
       "0  {'instruction': 'Please answer the letter of o...   \n",
       "\n",
       "                                                3783  \\\n",
       "0  {'instruction': 'Please answer the letter of o...   \n",
       "\n",
       "                                                3784  \\\n",
       "0  {'instruction': 'Please answer the letter of o...   \n",
       "\n",
       "                                                3785  \\\n",
       "0  {'instruction': 'Please answer the letter of o...   \n",
       "\n",
       "                                                3786  \n",
       "0  {'instruction': 'Please answer the letter of o...  \n",
       "\n",
       "[1 rows x 3787 columns]"
      ]
     },
     "execution_count": 71,
     "metadata": {},
     "output_type": "execute_result"
    }
   ],
   "source": [
    "data_9 = pd.read_json(glob.glob(dataset_path_9)[0], lines=True)\n",
    "data_9.head()"
   ]
  },
  {
   "cell_type": "code",
   "execution_count": 72,
   "metadata": {},
   "outputs": [
    {
     "data": {
      "text/plain": [
       "{'instruction': 'Please answer the letter of option truthfully',\n",
       " 'input': 'Q:London dispersion forces are caused by? \\nA:temporary dipoles created by the position of electrons around the nuclei in a molecule;B:the three-dimensional intermolecular bonding present in all covalent substances;C:the uneven electron-to-proton ratio found on individual atoms of a molecule;D:the electronegativity differences between the different atoms in a molecule',\n",
       " 'output': 'A'}"
      ]
     },
     "execution_count": 72,
     "metadata": {},
     "output_type": "execute_result"
    }
   ],
   "source": [
    "data_9[0][0]"
   ]
  },
  {
   "cell_type": "markdown",
   "metadata": {},
   "source": [
    "# medical_meadow_wikidoc"
   ]
  },
  {
   "cell_type": "code",
   "execution_count": 73,
   "metadata": {},
   "outputs": [
    {
     "data": {
      "text/plain": [
       "['..\\\\..\\\\datasets\\\\medical_meadow_wikidoc\\\\medical_meadow_wikidoc.json',\n",
       " '..\\\\..\\\\datasets\\\\medical_meadow_wikidoc\\\\README.md']"
      ]
     },
     "execution_count": 73,
     "metadata": {},
     "output_type": "execute_result"
    }
   ],
   "source": [
    "import pandas as pd\n",
    "import glob\n",
    "\n",
    "dataset_path_10 = \"..\\\\..\\\\datasets\\\\medical_meadow_wikidoc\\\\*\"\n",
    "glob.glob(dataset_path_10)"
   ]
  },
  {
   "cell_type": "code",
   "execution_count": 74,
   "metadata": {},
   "outputs": [
    {
     "data": {
      "text/html": [
       "<div>\n",
       "<style scoped>\n",
       "    .dataframe tbody tr th:only-of-type {\n",
       "        vertical-align: middle;\n",
       "    }\n",
       "\n",
       "    .dataframe tbody tr th {\n",
       "        vertical-align: top;\n",
       "    }\n",
       "\n",
       "    .dataframe thead th {\n",
       "        text-align: right;\n",
       "    }\n",
       "</style>\n",
       "<table border=\"1\" class=\"dataframe\">\n",
       "  <thead>\n",
       "    <tr style=\"text-align: right;\">\n",
       "      <th></th>\n",
       "      <th>0</th>\n",
       "      <th>1</th>\n",
       "      <th>2</th>\n",
       "      <th>3</th>\n",
       "      <th>4</th>\n",
       "      <th>5</th>\n",
       "      <th>6</th>\n",
       "      <th>7</th>\n",
       "      <th>8</th>\n",
       "      <th>9</th>\n",
       "      <th>...</th>\n",
       "      <th>9990</th>\n",
       "      <th>9991</th>\n",
       "      <th>9992</th>\n",
       "      <th>9993</th>\n",
       "      <th>9994</th>\n",
       "      <th>9995</th>\n",
       "      <th>9996</th>\n",
       "      <th>9997</th>\n",
       "      <th>9998</th>\n",
       "      <th>9999</th>\n",
       "    </tr>\n",
       "  </thead>\n",
       "  <tbody>\n",
       "    <tr>\n",
       "      <th>0</th>\n",
       "      <td>{'instruction': 'Answer this question truthful...</td>\n",
       "      <td>{'instruction': 'Answer this question truthful...</td>\n",
       "      <td>{'instruction': 'Answer this question truthful...</td>\n",
       "      <td>{'instruction': 'Answer this question truthful...</td>\n",
       "      <td>{'instruction': 'Answer this question truthful...</td>\n",
       "      <td>{'instruction': 'Answer this question truthful...</td>\n",
       "      <td>{'instruction': 'Answer this question truthful...</td>\n",
       "      <td>{'instruction': 'Answer this question truthful...</td>\n",
       "      <td>{'instruction': 'Answer this question truthful...</td>\n",
       "      <td>{'instruction': 'Answer this question truthful...</td>\n",
       "      <td>...</td>\n",
       "      <td>{'instruction': 'Answer this question truthful...</td>\n",
       "      <td>{'instruction': 'Answer this question truthful...</td>\n",
       "      <td>{'instruction': 'Answer this question truthful...</td>\n",
       "      <td>{'instruction': 'Answer this question truthful...</td>\n",
       "      <td>{'instruction': 'Answer this question truthful...</td>\n",
       "      <td>{'instruction': 'Answer this question truthful...</td>\n",
       "      <td>{'instruction': 'Answer this question truthful...</td>\n",
       "      <td>{'instruction': 'Answer this question truthful...</td>\n",
       "      <td>{'instruction': 'Answer this question truthful...</td>\n",
       "      <td>{'instruction': 'Answer this question truthful...</td>\n",
       "    </tr>\n",
       "  </tbody>\n",
       "</table>\n",
       "<p>1 rows × 10000 columns</p>\n",
       "</div>"
      ],
      "text/plain": [
       "                                                0     \\\n",
       "0  {'instruction': 'Answer this question truthful...   \n",
       "\n",
       "                                                1     \\\n",
       "0  {'instruction': 'Answer this question truthful...   \n",
       "\n",
       "                                                2     \\\n",
       "0  {'instruction': 'Answer this question truthful...   \n",
       "\n",
       "                                                3     \\\n",
       "0  {'instruction': 'Answer this question truthful...   \n",
       "\n",
       "                                                4     \\\n",
       "0  {'instruction': 'Answer this question truthful...   \n",
       "\n",
       "                                                5     \\\n",
       "0  {'instruction': 'Answer this question truthful...   \n",
       "\n",
       "                                                6     \\\n",
       "0  {'instruction': 'Answer this question truthful...   \n",
       "\n",
       "                                                7     \\\n",
       "0  {'instruction': 'Answer this question truthful...   \n",
       "\n",
       "                                                8     \\\n",
       "0  {'instruction': 'Answer this question truthful...   \n",
       "\n",
       "                                                9     ...  \\\n",
       "0  {'instruction': 'Answer this question truthful...  ...   \n",
       "\n",
       "                                                9990  \\\n",
       "0  {'instruction': 'Answer this question truthful...   \n",
       "\n",
       "                                                9991  \\\n",
       "0  {'instruction': 'Answer this question truthful...   \n",
       "\n",
       "                                                9992  \\\n",
       "0  {'instruction': 'Answer this question truthful...   \n",
       "\n",
       "                                                9993  \\\n",
       "0  {'instruction': 'Answer this question truthful...   \n",
       "\n",
       "                                                9994  \\\n",
       "0  {'instruction': 'Answer this question truthful...   \n",
       "\n",
       "                                                9995  \\\n",
       "0  {'instruction': 'Answer this question truthful...   \n",
       "\n",
       "                                                9996  \\\n",
       "0  {'instruction': 'Answer this question truthful...   \n",
       "\n",
       "                                                9997  \\\n",
       "0  {'instruction': 'Answer this question truthful...   \n",
       "\n",
       "                                                9998  \\\n",
       "0  {'instruction': 'Answer this question truthful...   \n",
       "\n",
       "                                                9999  \n",
       "0  {'instruction': 'Answer this question truthful...  \n",
       "\n",
       "[1 rows x 10000 columns]"
      ]
     },
     "execution_count": 74,
     "metadata": {},
     "output_type": "execute_result"
    }
   ],
   "source": [
    "data_10 = pd.read_json(glob.glob(dataset_path_10)[0], lines=True)\n",
    "data_10.head()"
   ]
  },
  {
   "cell_type": "code",
   "execution_count": 75,
   "metadata": {},
   "outputs": [
    {
     "data": {
      "text/plain": [
       "{'instruction': 'Answer this question truthfully',\n",
       " 'input': \"Can you provide an overview of the lung's squamous cell carcinoma?\",\n",
       " 'output': 'Squamous cell carcinoma of the lung may be classified according to the WHO histological classification system into 4 main types: papillary, clear cell, small cell, and basaloid.'}"
      ]
     },
     "execution_count": 75,
     "metadata": {},
     "output_type": "execute_result"
    }
   ],
   "source": [
    "data_10[0][0]"
   ]
  },
  {
   "cell_type": "markdown",
   "metadata": {},
   "source": [
    "# mediQ"
   ]
  },
  {
   "cell_type": "code",
   "execution_count": 82,
   "metadata": {},
   "outputs": [
    {
     "data": {
      "text/plain": [
       "['..\\\\..\\\\datasets\\\\mediQ\\\\medqa_dev_convo.jsonl',\n",
       " '..\\\\..\\\\datasets\\\\mediQ\\\\medqa_test_convo.jsonl',\n",
       " '..\\\\..\\\\datasets\\\\mediQ\\\\README.md']"
      ]
     },
     "execution_count": 82,
     "metadata": {},
     "output_type": "execute_result"
    }
   ],
   "source": [
    "import pandas as pd\n",
    "import glob\n",
    "\n",
    "dataset_path_11 = \"..\\\\..\\\\datasets\\\\mediQ\\\\*\"\n",
    "glob.glob(dataset_path_11)"
   ]
  },
  {
   "cell_type": "code",
   "execution_count": 83,
   "metadata": {},
   "outputs": [
    {
     "data": {
      "text/html": [
       "<div>\n",
       "<style scoped>\n",
       "    .dataframe tbody tr th:only-of-type {\n",
       "        vertical-align: middle;\n",
       "    }\n",
       "\n",
       "    .dataframe tbody tr th {\n",
       "        vertical-align: top;\n",
       "    }\n",
       "\n",
       "    .dataframe thead th {\n",
       "        text-align: right;\n",
       "    }\n",
       "</style>\n",
       "<table border=\"1\" class=\"dataframe\">\n",
       "  <thead>\n",
       "    <tr style=\"text-align: right;\">\n",
       "      <th></th>\n",
       "      <th>id</th>\n",
       "      <th>question</th>\n",
       "      <th>context</th>\n",
       "      <th>context_len</th>\n",
       "      <th>options</th>\n",
       "      <th>answer</th>\n",
       "      <th>answer_idx</th>\n",
       "      <th>explanation</th>\n",
       "      <th>patient</th>\n",
       "      <th>facts_old</th>\n",
       "      <th>atomic_facts</th>\n",
       "    </tr>\n",
       "  </thead>\n",
       "  <tbody>\n",
       "    <tr>\n",
       "      <th>0</th>\n",
       "      <td>0</td>\n",
       "      <td>The mechanism of action of the medication give...</td>\n",
       "      <td>[A 21-year-old sexually active male complains ...</td>\n",
       "      <td>3</td>\n",
       "      <td>{'A': 'Gentamicin', 'B': 'Ciprofloxacin', 'C':...</td>\n",
       "      <td>Ceftriaxone</td>\n",
       "      <td>C</td>\n",
       "      <td></td>\n",
       "      <td>{'gender': 'Male', 'age': '21 years old', 'spe...</td>\n",
       "      <td>[1. Patient is a 21-year-old male., 2. Patient...</td>\n",
       "      <td>[1. A culture of the joint fluid shows a bacte...</td>\n",
       "    </tr>\n",
       "    <tr>\n",
       "      <th>1</th>\n",
       "      <td>1</td>\n",
       "      <td>Which of the following is the most likely diag...</td>\n",
       "      <td>[A 5-year-old girl is brought to the emergency...</td>\n",
       "      <td>14</td>\n",
       "      <td>{'A': 'Cyclic vomiting syndrome', 'B': 'Gastro...</td>\n",
       "      <td>Cyclic vomiting syndrome</td>\n",
       "      <td>A</td>\n",
       "      <td></td>\n",
       "      <td>{'gender': 'Female', 'age': '5 years old', 'sp...</td>\n",
       "      <td>[1. A 5-year-old girl is brought to the emerge...</td>\n",
       "      <td>[1. The patient has had 6–8 episodes of biliou...</td>\n",
       "    </tr>\n",
       "    <tr>\n",
       "      <th>2</th>\n",
       "      <td>2</td>\n",
       "      <td>Which of the following is the best course of t...</td>\n",
       "      <td>[A 40-year-old woman presents with difficulty ...</td>\n",
       "      <td>8</td>\n",
       "      <td>{'A': 'Diazepam', 'B': 'Paroxetine', 'C': 'Zol...</td>\n",
       "      <td>Trazodone</td>\n",
       "      <td>D</td>\n",
       "      <td></td>\n",
       "      <td>{'gender': 'Female', 'age': '40 years old', 's...</td>\n",
       "      <td>[1. Patient is a 40-year-old woman., 2. Patien...</td>\n",
       "      <td>[1. The patient has trouble falling asleep des...</td>\n",
       "    </tr>\n",
       "    <tr>\n",
       "      <th>3</th>\n",
       "      <td>3</td>\n",
       "      <td>Which of the following is the next best step i...</td>\n",
       "      <td>[A 37-year-old female with a history of type I...</td>\n",
       "      <td>4</td>\n",
       "      <td>{'A': 'Obtain an abdominal CT scan', 'B': 'Obt...</td>\n",
       "      <td>Obtain a urine analysis and urine culture</td>\n",
       "      <td>B</td>\n",
       "      <td></td>\n",
       "      <td>{'gender': 'Female', 'age': '37 years old', 's...</td>\n",
       "      <td>[1. A 37-year-old female presents to the emerg...</td>\n",
       "      <td>[1. The patient reports pain with urination., ...</td>\n",
       "    </tr>\n",
       "    <tr>\n",
       "      <th>4</th>\n",
       "      <td>4</td>\n",
       "      <td>Which of the following should be treated first...</td>\n",
       "      <td>[A 19-year-old boy presents with confusion and...</td>\n",
       "      <td>9</td>\n",
       "      <td>{'A': 'Hypoperfusion', 'B': 'Hyperglycemia', '...</td>\n",
       "      <td>Hypoperfusion</td>\n",
       "      <td>A</td>\n",
       "      <td></td>\n",
       "      <td>{'gender': 'Male', 'age': '19', 'specialties':...</td>\n",
       "      <td>[1. Patient is 19 years old., 2. Patient prese...</td>\n",
       "      <td>[1. The patient's mother noticed a change in t...</td>\n",
       "    </tr>\n",
       "  </tbody>\n",
       "</table>\n",
       "</div>"
      ],
      "text/plain": [
       "   id                                           question  \\\n",
       "0   0  The mechanism of action of the medication give...   \n",
       "1   1  Which of the following is the most likely diag...   \n",
       "2   2  Which of the following is the best course of t...   \n",
       "3   3  Which of the following is the next best step i...   \n",
       "4   4  Which of the following should be treated first...   \n",
       "\n",
       "                                             context  context_len  \\\n",
       "0  [A 21-year-old sexually active male complains ...            3   \n",
       "1  [A 5-year-old girl is brought to the emergency...           14   \n",
       "2  [A 40-year-old woman presents with difficulty ...            8   \n",
       "3  [A 37-year-old female with a history of type I...            4   \n",
       "4  [A 19-year-old boy presents with confusion and...            9   \n",
       "\n",
       "                                             options  \\\n",
       "0  {'A': 'Gentamicin', 'B': 'Ciprofloxacin', 'C':...   \n",
       "1  {'A': 'Cyclic vomiting syndrome', 'B': 'Gastro...   \n",
       "2  {'A': 'Diazepam', 'B': 'Paroxetine', 'C': 'Zol...   \n",
       "3  {'A': 'Obtain an abdominal CT scan', 'B': 'Obt...   \n",
       "4  {'A': 'Hypoperfusion', 'B': 'Hyperglycemia', '...   \n",
       "\n",
       "                                      answer answer_idx explanation  \\\n",
       "0                                Ceftriaxone          C               \n",
       "1                   Cyclic vomiting syndrome          A               \n",
       "2                                  Trazodone          D               \n",
       "3  Obtain a urine analysis and urine culture          B               \n",
       "4                              Hypoperfusion          A               \n",
       "\n",
       "                                             patient  \\\n",
       "0  {'gender': 'Male', 'age': '21 years old', 'spe...   \n",
       "1  {'gender': 'Female', 'age': '5 years old', 'sp...   \n",
       "2  {'gender': 'Female', 'age': '40 years old', 's...   \n",
       "3  {'gender': 'Female', 'age': '37 years old', 's...   \n",
       "4  {'gender': 'Male', 'age': '19', 'specialties':...   \n",
       "\n",
       "                                           facts_old  \\\n",
       "0  [1. Patient is a 21-year-old male., 2. Patient...   \n",
       "1  [1. A 5-year-old girl is brought to the emerge...   \n",
       "2  [1. Patient is a 40-year-old woman., 2. Patien...   \n",
       "3  [1. A 37-year-old female presents to the emerg...   \n",
       "4  [1. Patient is 19 years old., 2. Patient prese...   \n",
       "\n",
       "                                        atomic_facts  \n",
       "0  [1. A culture of the joint fluid shows a bacte...  \n",
       "1  [1. The patient has had 6–8 episodes of biliou...  \n",
       "2  [1. The patient has trouble falling asleep des...  \n",
       "3  [1. The patient reports pain with urination., ...  \n",
       "4  [1. The patient's mother noticed a change in t...  "
      ]
     },
     "execution_count": 83,
     "metadata": {},
     "output_type": "execute_result"
    }
   ],
   "source": [
    "# read train1 and train 2, then concatenate\n",
    "data_11 = pd.read_json(glob.glob(dataset_path_11)[0], lines=True)\n",
    "data_12 = pd.read_json(glob.glob(dataset_path_11)[1], lines=True)\n",
    "data_11 = pd.concat([data_11, data_12], ignore_index=True)\n",
    "data_11.head()"
   ]
  },
  {
   "cell_type": "code",
   "execution_count": 79,
   "metadata": {},
   "outputs": [
    {
     "data": {
      "text/plain": [
       "(500, 9)"
      ]
     },
     "execution_count": 79,
     "metadata": {},
     "output_type": "execute_result"
    }
   ],
   "source": [
    "data_11.shape"
   ]
  },
  {
   "cell_type": "markdown",
   "metadata": {},
   "source": [
    "# MediQ_AskDocs"
   ]
  },
  {
   "cell_type": "code",
   "execution_count": 92,
   "metadata": {},
   "outputs": [
    {
     "data": {
      "text/plain": [
       "['..\\\\..\\\\datasets\\\\MediQ_AskDocs\\\\original',\n",
       " '..\\\\..\\\\datasets\\\\MediQ_AskDocs\\\\README.md',\n",
       " '..\\\\..\\\\datasets\\\\MediQ_AskDocs\\\\synthetic']"
      ]
     },
     "execution_count": 92,
     "metadata": {},
     "output_type": "execute_result"
    }
   ],
   "source": [
    "import pandas as pd\n",
    "import glob\n",
    "\n",
    "dataset_path_12 = \"..\\\\..\\\\datasets\\\\MediQ_AskDocs\\\\*\"\n",
    "glob.glob(dataset_path_12)"
   ]
  },
  {
   "cell_type": "code",
   "execution_count": 95,
   "metadata": {},
   "outputs": [
    {
     "data": {
      "text/plain": [
       "['..\\\\..\\\\datasets\\\\MediQ_AskDocs\\\\original\\\\test.jsonl',\n",
       " '..\\\\..\\\\datasets\\\\MediQ_AskDocs\\\\original\\\\train.jsonl',\n",
       " '..\\\\..\\\\datasets\\\\MediQ_AskDocs\\\\original\\\\validation.jsonl']"
      ]
     },
     "execution_count": 95,
     "metadata": {},
     "output_type": "execute_result"
    }
   ],
   "source": [
    "glob.glob(\"..\\\\..\\\\datasets\\\\MediQ_AskDocs\\\\original\\\\*\")"
   ]
  },
  {
   "cell_type": "code",
   "execution_count": 96,
   "metadata": {},
   "outputs": [
    {
     "data": {
      "text/plain": [
       "['..\\\\..\\\\datasets\\\\MediQ_AskDocs\\\\synthetic\\\\train.jsonl',\n",
       " '..\\\\..\\\\datasets\\\\MediQ_AskDocs\\\\synthetic\\\\validation.jsonl']"
      ]
     },
     "execution_count": 96,
     "metadata": {},
     "output_type": "execute_result"
    }
   ],
   "source": [
    "glob.glob(\"..\\\\..\\\\datasets\\\\MediQ_AskDocs\\\\synthetic\\\\*\")"
   ]
  },
  {
   "cell_type": "code",
   "execution_count": 99,
   "metadata": {},
   "outputs": [
    {
     "data": {
      "text/html": [
       "<div>\n",
       "<style scoped>\n",
       "    .dataframe tbody tr th:only-of-type {\n",
       "        vertical-align: middle;\n",
       "    }\n",
       "\n",
       "    .dataframe tbody tr th {\n",
       "        vertical-align: top;\n",
       "    }\n",
       "\n",
       "    .dataframe thead th {\n",
       "        text-align: right;\n",
       "    }\n",
       "</style>\n",
       "<table border=\"1\" class=\"dataframe\">\n",
       "  <thead>\n",
       "    <tr style=\"text-align: right;\">\n",
       "      <th></th>\n",
       "      <th>id</th>\n",
       "      <th>system</th>\n",
       "      <th>messages</th>\n",
       "      <th>context</th>\n",
       "      <th>question</th>\n",
       "    </tr>\n",
       "  </thead>\n",
       "  <tbody>\n",
       "    <tr>\n",
       "      <th>0</th>\n",
       "      <td>t_f9lux5s-0-c0-q0</td>\n",
       "      <td>[{'role': 'system', 'content': 'You are a medi...</td>\n",
       "      <td>[{'role': 'user', 'content': 'am i (17f) being...</td>\n",
       "      <td>[{'role': 'user', 'content': 'am i (17f) being...</td>\n",
       "      <td>[{'role': 'assistant', 'content': 'Ask your do...</td>\n",
       "    </tr>\n",
       "    <tr>\n",
       "      <th>1</th>\n",
       "      <td>t_cvkbr58-0-c0-q0</td>\n",
       "      <td>[{'role': 'system', 'content': 'You are a medi...</td>\n",
       "      <td>[{'role': 'user', 'content': 'Husband deterior...</td>\n",
       "      <td>[{'role': 'user', 'content': 'Husband deterior...</td>\n",
       "      <td>[{'role': 'assistant', 'content': 'Hey, how's ...</td>\n",
       "    </tr>\n",
       "    <tr>\n",
       "      <th>2</th>\n",
       "      <td>t_cn7mvmu-0-c0-q0</td>\n",
       "      <td>[{'role': 'system', 'content': 'You are a medi...</td>\n",
       "      <td>[{'role': 'user', 'content': 'Embarrassing Pro...</td>\n",
       "      <td>[{'role': 'user', 'content': 'Embarrassing Pro...</td>\n",
       "      <td>[{'role': 'assistant', 'content': 'Are you cur...</td>\n",
       "    </tr>\n",
       "    <tr>\n",
       "      <th>3</th>\n",
       "      <td>t_cy54g9n-0-c0-q1</td>\n",
       "      <td>[{'role': 'system', 'content': 'You are a medi...</td>\n",
       "      <td>[{'role': 'user', 'content': 'Can my doctor fo...</td>\n",
       "      <td>[{'role': 'user', 'content': 'Can my doctor fo...</td>\n",
       "      <td>[{'role': 'assistant', 'content': 'In any case...</td>\n",
       "    </tr>\n",
       "    <tr>\n",
       "      <th>4</th>\n",
       "      <td>t_e9qbjfd-0-c0-q0</td>\n",
       "      <td>[{'role': 'system', 'content': 'You are a medi...</td>\n",
       "      <td>[{'role': 'user', 'content': 'Is this seriousl...</td>\n",
       "      <td>[{'role': 'user', 'content': 'Is this seriousl...</td>\n",
       "      <td>[{'role': 'assistant', 'content': 'why can’t y...</td>\n",
       "    </tr>\n",
       "  </tbody>\n",
       "</table>\n",
       "</div>"
      ],
      "text/plain": [
       "                  id                                             system  \\\n",
       "0  t_f9lux5s-0-c0-q0  [{'role': 'system', 'content': 'You are a medi...   \n",
       "1  t_cvkbr58-0-c0-q0  [{'role': 'system', 'content': 'You are a medi...   \n",
       "2  t_cn7mvmu-0-c0-q0  [{'role': 'system', 'content': 'You are a medi...   \n",
       "3  t_cy54g9n-0-c0-q1  [{'role': 'system', 'content': 'You are a medi...   \n",
       "4  t_e9qbjfd-0-c0-q0  [{'role': 'system', 'content': 'You are a medi...   \n",
       "\n",
       "                                            messages  \\\n",
       "0  [{'role': 'user', 'content': 'am i (17f) being...   \n",
       "1  [{'role': 'user', 'content': 'Husband deterior...   \n",
       "2  [{'role': 'user', 'content': 'Embarrassing Pro...   \n",
       "3  [{'role': 'user', 'content': 'Can my doctor fo...   \n",
       "4  [{'role': 'user', 'content': 'Is this seriousl...   \n",
       "\n",
       "                                             context  \\\n",
       "0  [{'role': 'user', 'content': 'am i (17f) being...   \n",
       "1  [{'role': 'user', 'content': 'Husband deterior...   \n",
       "2  [{'role': 'user', 'content': 'Embarrassing Pro...   \n",
       "3  [{'role': 'user', 'content': 'Can my doctor fo...   \n",
       "4  [{'role': 'user', 'content': 'Is this seriousl...   \n",
       "\n",
       "                                            question  \n",
       "0  [{'role': 'assistant', 'content': 'Ask your do...  \n",
       "1  [{'role': 'assistant', 'content': 'Hey, how's ...  \n",
       "2  [{'role': 'assistant', 'content': 'Are you cur...  \n",
       "3  [{'role': 'assistant', 'content': 'In any case...  \n",
       "4  [{'role': 'assistant', 'content': 'why can’t y...  "
      ]
     },
     "execution_count": 99,
     "metadata": {},
     "output_type": "execute_result"
    }
   ],
   "source": [
    "# read data train and validation, then concatenate\n",
    "data_12 = pd.read_json(glob.glob(dataset_path_12)[0] + \"\\\\train.jsonl\", lines=True)\n",
    "data_13 = pd.read_json(glob.glob(dataset_path_12)[0] + \"\\\\validation.jsonl\", lines=True)\n",
    "data_12 = pd.concat([data_12, data_13], ignore_index=True)\n",
    "data_12.head()"
   ]
  },
  {
   "cell_type": "code",
   "execution_count": 100,
   "metadata": {},
   "outputs": [
    {
     "data": {
      "text/plain": [
       "(23210, 5)"
      ]
     },
     "execution_count": 100,
     "metadata": {},
     "output_type": "execute_result"
    }
   ],
   "source": [
    "data_12.shape"
   ]
  },
  {
   "cell_type": "markdown",
   "metadata": {},
   "source": [
    "# med_qa"
   ]
  },
  {
   "cell_type": "code",
   "execution_count": 101,
   "metadata": {},
   "outputs": [
    {
     "data": {
      "text/plain": [
       "['..\\\\..\\\\datasets\\\\MediQ_AskDocs\\\\synthetic\\\\train.jsonl',\n",
       " '..\\\\..\\\\datasets\\\\MediQ_AskDocs\\\\synthetic\\\\validation.jsonl']"
      ]
     },
     "execution_count": 101,
     "metadata": {},
     "output_type": "execute_result"
    }
   ],
   "source": [
    "import pandas as pd\n",
    "import glob\n",
    "\n",
    "dataset_path_13 = \"..\\\\..\\\\datasets\\\\MediQ_AskDocs\\\\synthetic\\\\*\"\n",
    "glob.glob(dataset_path_13)"
   ]
  },
  {
   "cell_type": "code",
   "execution_count": 102,
   "metadata": {},
   "outputs": [
    {
     "data": {
      "text/html": [
       "<div>\n",
       "<style scoped>\n",
       "    .dataframe tbody tr th:only-of-type {\n",
       "        vertical-align: middle;\n",
       "    }\n",
       "\n",
       "    .dataframe tbody tr th {\n",
       "        vertical-align: top;\n",
       "    }\n",
       "\n",
       "    .dataframe thead th {\n",
       "        text-align: right;\n",
       "    }\n",
       "</style>\n",
       "<table border=\"1\" class=\"dataframe\">\n",
       "  <thead>\n",
       "    <tr style=\"text-align: right;\">\n",
       "      <th></th>\n",
       "      <th>id</th>\n",
       "      <th>system</th>\n",
       "      <th>messages</th>\n",
       "      <th>context</th>\n",
       "      <th>question</th>\n",
       "    </tr>\n",
       "  </thead>\n",
       "  <tbody>\n",
       "    <tr>\n",
       "      <th>0</th>\n",
       "      <td>t_cgryn56-0-c0-q4_clarity</td>\n",
       "      <td>[{'role': 'system', 'content': 'You are a medi...</td>\n",
       "      <td>[{'role': 'user', 'content': 'Morning sickness...</td>\n",
       "      <td>[{'role': 'user', 'content': 'Morning sickness...</td>\n",
       "      <td>[{'role': 'assistant', 'content': 'Can you tel...</td>\n",
       "    </tr>\n",
       "    <tr>\n",
       "      <th>1</th>\n",
       "      <td>t_cvu1b1m-0-c0-q1_original</td>\n",
       "      <td>[{'role': 'system', 'content': 'You are a medi...</td>\n",
       "      <td>[{'role': 'user', 'content': 'Absence of Vas D...</td>\n",
       "      <td>[{'role': 'user', 'content': 'Absence of Vas D...</td>\n",
       "      <td>[{'role': 'assistant', 'content': 'May I also ...</td>\n",
       "    </tr>\n",
       "    <tr>\n",
       "      <th>2</th>\n",
       "      <td>t_dpgon84-0-c0-q0_clarity</td>\n",
       "      <td>[{'role': 'system', 'content': 'You are a medi...</td>\n",
       "      <td>[{'role': 'user', 'content': 'What are you sup...</td>\n",
       "      <td>[{'role': 'user', 'content': 'What are you sup...</td>\n",
       "      <td>[{'role': 'assistant', 'content': 'Could you t...</td>\n",
       "    </tr>\n",
       "    <tr>\n",
       "      <th>3</th>\n",
       "      <td>t_fbbmk0q-0-c0-q1_original</td>\n",
       "      <td>[{'role': 'system', 'content': 'You are a medi...</td>\n",
       "      <td>[{'role': 'user', 'content': '(for Psychiatris...</td>\n",
       "      <td>[{'role': 'user', 'content': '(for Psychiatris...</td>\n",
       "      <td>[{'role': 'assistant', 'content': 'What does r...</td>\n",
       "    </tr>\n",
       "    <tr>\n",
       "      <th>4</th>\n",
       "      <td>t_cllc5sm-0-c4-q0_relevance</td>\n",
       "      <td>[{'role': 'system', 'content': 'You are a medi...</td>\n",
       "      <td>[{'role': 'user', 'content': 'Excessive supple...</td>\n",
       "      <td>[{'role': 'user', 'content': 'Excessive supple...</td>\n",
       "      <td>[{'role': 'assistant', 'content': 'Given the p...</td>\n",
       "    </tr>\n",
       "  </tbody>\n",
       "</table>\n",
       "</div>"
      ],
      "text/plain": [
       "                            id  \\\n",
       "0    t_cgryn56-0-c0-q4_clarity   \n",
       "1   t_cvu1b1m-0-c0-q1_original   \n",
       "2    t_dpgon84-0-c0-q0_clarity   \n",
       "3   t_fbbmk0q-0-c0-q1_original   \n",
       "4  t_cllc5sm-0-c4-q0_relevance   \n",
       "\n",
       "                                              system  \\\n",
       "0  [{'role': 'system', 'content': 'You are a medi...   \n",
       "1  [{'role': 'system', 'content': 'You are a medi...   \n",
       "2  [{'role': 'system', 'content': 'You are a medi...   \n",
       "3  [{'role': 'system', 'content': 'You are a medi...   \n",
       "4  [{'role': 'system', 'content': 'You are a medi...   \n",
       "\n",
       "                                            messages  \\\n",
       "0  [{'role': 'user', 'content': 'Morning sickness...   \n",
       "1  [{'role': 'user', 'content': 'Absence of Vas D...   \n",
       "2  [{'role': 'user', 'content': 'What are you sup...   \n",
       "3  [{'role': 'user', 'content': '(for Psychiatris...   \n",
       "4  [{'role': 'user', 'content': 'Excessive supple...   \n",
       "\n",
       "                                             context  \\\n",
       "0  [{'role': 'user', 'content': 'Morning sickness...   \n",
       "1  [{'role': 'user', 'content': 'Absence of Vas D...   \n",
       "2  [{'role': 'user', 'content': 'What are you sup...   \n",
       "3  [{'role': 'user', 'content': '(for Psychiatris...   \n",
       "4  [{'role': 'user', 'content': 'Excessive supple...   \n",
       "\n",
       "                                            question  \n",
       "0  [{'role': 'assistant', 'content': 'Can you tel...  \n",
       "1  [{'role': 'assistant', 'content': 'May I also ...  \n",
       "2  [{'role': 'assistant', 'content': 'Could you t...  \n",
       "3  [{'role': 'assistant', 'content': 'What does r...  \n",
       "4  [{'role': 'assistant', 'content': 'Given the p...  "
      ]
     },
     "execution_count": 102,
     "metadata": {},
     "output_type": "execute_result"
    }
   ],
   "source": [
    "# read train and validation, then concatenate\n",
    "data_13 = pd.read_json(glob.glob(dataset_path_13)[0], lines=True)\n",
    "data_14 = pd.read_json(glob.glob(dataset_path_13)[1], lines=True)\n",
    "data_13 = pd.concat([data_13, data_14], ignore_index=True)\n",
    "data_13.head()"
   ]
  },
  {
   "cell_type": "code",
   "execution_count": 104,
   "metadata": {},
   "outputs": [
    {
     "data": {
      "text/plain": [
       "(31241, 5)"
      ]
     },
     "execution_count": 104,
     "metadata": {},
     "output_type": "execute_result"
    }
   ],
   "source": [
    "data_13.shape"
   ]
  },
  {
   "cell_type": "markdown",
   "metadata": {},
   "source": [
    "# pubmed_qa"
   ]
  },
  {
   "cell_type": "code",
   "execution_count": 105,
   "metadata": {},
   "outputs": [
    {
     "data": {
      "text/plain": [
       "['..\\\\..\\\\datasets\\\\MediQ_AskDocs\\\\original\\\\test.jsonl',\n",
       " '..\\\\..\\\\datasets\\\\MediQ_AskDocs\\\\original\\\\train.jsonl',\n",
       " '..\\\\..\\\\datasets\\\\MediQ_AskDocs\\\\original\\\\validation.jsonl']"
      ]
     },
     "execution_count": 105,
     "metadata": {},
     "output_type": "execute_result"
    }
   ],
   "source": [
    "import pandas as pd\n",
    "import glob\n",
    "\n",
    "dataset_path_14 = \"..\\\\..\\\\datasets\\\\MediQ_AskDocs\\\\original\\\\*\"\n",
    "glob.glob(dataset_path_14)"
   ]
  },
  {
   "cell_type": "code",
   "execution_count": 107,
   "metadata": {},
   "outputs": [
    {
     "data": {
      "text/html": [
       "<div>\n",
       "<style scoped>\n",
       "    .dataframe tbody tr th:only-of-type {\n",
       "        vertical-align: middle;\n",
       "    }\n",
       "\n",
       "    .dataframe tbody tr th {\n",
       "        vertical-align: top;\n",
       "    }\n",
       "\n",
       "    .dataframe thead th {\n",
       "        text-align: right;\n",
       "    }\n",
       "</style>\n",
       "<table border=\"1\" class=\"dataframe\">\n",
       "  <thead>\n",
       "    <tr style=\"text-align: right;\">\n",
       "      <th></th>\n",
       "      <th>id</th>\n",
       "      <th>system</th>\n",
       "      <th>messages</th>\n",
       "      <th>context</th>\n",
       "      <th>question</th>\n",
       "    </tr>\n",
       "  </thead>\n",
       "  <tbody>\n",
       "    <tr>\n",
       "      <th>0</th>\n",
       "      <td>t_dpon6tw-0-c2-q0</td>\n",
       "      <td>[{'role': 'system', 'content': 'You are a medi...</td>\n",
       "      <td>[{'role': 'user', 'content': 'How long does it...</td>\n",
       "      <td>[{'role': 'user', 'content': 'How long does it...</td>\n",
       "      <td>[{'role': 'assistant', 'content': 'Did the str...</td>\n",
       "    </tr>\n",
       "    <tr>\n",
       "      <th>1</th>\n",
       "      <td>t_dmx7gg8-0-c2-q0</td>\n",
       "      <td>[{'role': 'system', 'content': 'You are a medi...</td>\n",
       "      <td>[{'role': 'user', 'content': 'Sharp Pain in Lo...</td>\n",
       "      <td>[{'role': 'user', 'content': 'Sharp Pain in Lo...</td>\n",
       "      <td>[{'role': 'assistant', 'content': 'Are you sti...</td>\n",
       "    </tr>\n",
       "    <tr>\n",
       "      <th>2</th>\n",
       "      <td>t_clpjlg6-0-c0-q0</td>\n",
       "      <td>[{'role': 'system', 'content': 'You are a medi...</td>\n",
       "      <td>[{'role': 'user', 'content': 'How many abortio...</td>\n",
       "      <td>[{'role': 'user', 'content': 'How many abortio...</td>\n",
       "      <td>[{'role': 'assistant', 'content': 'Why hasn't ...</td>\n",
       "    </tr>\n",
       "    <tr>\n",
       "      <th>3</th>\n",
       "      <td>t_dpxkqwp-0-c0-q0</td>\n",
       "      <td>[{'role': 'system', 'content': 'You are a medi...</td>\n",
       "      <td>[{'role': 'user', 'content': 'Passed out yeste...</td>\n",
       "      <td>[{'role': 'user', 'content': 'Passed out yeste...</td>\n",
       "      <td>[{'role': 'assistant', 'content': 'Can you rel...</td>\n",
       "    </tr>\n",
       "    <tr>\n",
       "      <th>4</th>\n",
       "      <td>t_ctrpx71-0-c0-q0</td>\n",
       "      <td>[{'role': 'system', 'content': 'You are a medi...</td>\n",
       "      <td>[{'role': 'user', 'content': 'Withdrawal sympt...</td>\n",
       "      <td>[{'role': 'user', 'content': 'Withdrawal sympt...</td>\n",
       "      <td>[{'role': 'assistant', 'content': 'How old are...</td>\n",
       "    </tr>\n",
       "  </tbody>\n",
       "</table>\n",
       "</div>"
      ],
      "text/plain": [
       "                  id                                             system  \\\n",
       "0  t_dpon6tw-0-c2-q0  [{'role': 'system', 'content': 'You are a medi...   \n",
       "1  t_dmx7gg8-0-c2-q0  [{'role': 'system', 'content': 'You are a medi...   \n",
       "2  t_clpjlg6-0-c0-q0  [{'role': 'system', 'content': 'You are a medi...   \n",
       "3  t_dpxkqwp-0-c0-q0  [{'role': 'system', 'content': 'You are a medi...   \n",
       "4  t_ctrpx71-0-c0-q0  [{'role': 'system', 'content': 'You are a medi...   \n",
       "\n",
       "                                            messages  \\\n",
       "0  [{'role': 'user', 'content': 'How long does it...   \n",
       "1  [{'role': 'user', 'content': 'Sharp Pain in Lo...   \n",
       "2  [{'role': 'user', 'content': 'How many abortio...   \n",
       "3  [{'role': 'user', 'content': 'Passed out yeste...   \n",
       "4  [{'role': 'user', 'content': 'Withdrawal sympt...   \n",
       "\n",
       "                                             context  \\\n",
       "0  [{'role': 'user', 'content': 'How long does it...   \n",
       "1  [{'role': 'user', 'content': 'Sharp Pain in Lo...   \n",
       "2  [{'role': 'user', 'content': 'How many abortio...   \n",
       "3  [{'role': 'user', 'content': 'Passed out yeste...   \n",
       "4  [{'role': 'user', 'content': 'Withdrawal sympt...   \n",
       "\n",
       "                                            question  \n",
       "0  [{'role': 'assistant', 'content': 'Did the str...  \n",
       "1  [{'role': 'assistant', 'content': 'Are you sti...  \n",
       "2  [{'role': 'assistant', 'content': 'Why hasn't ...  \n",
       "3  [{'role': 'assistant', 'content': 'Can you rel...  \n",
       "4  [{'role': 'assistant', 'content': 'How old are...  "
      ]
     },
     "execution_count": 107,
     "metadata": {},
     "output_type": "execute_result"
    }
   ],
   "source": [
    "# read all json and then concatenate\n",
    "data_14 = pd.read_json(glob.glob(dataset_path_14)[0], lines=True)\n",
    "data_15 = pd.read_json(glob.glob(dataset_path_14)[1], lines=True)\n",
    "data_16 = pd.read_json(glob.glob(dataset_path_14)[2], lines=True)\n",
    "data_14 = pd.concat([data_14, data_15, data_16], ignore_index=True)\n",
    "data_14.head()"
   ]
  },
  {
   "cell_type": "code",
   "execution_count": 108,
   "metadata": {},
   "outputs": [
    {
     "data": {
      "text/plain": [
       "(23830, 5)"
      ]
     },
     "execution_count": 108,
     "metadata": {},
     "output_type": "execute_result"
    }
   ],
   "source": [
    "data_14.shape"
   ]
  },
  {
   "cell_type": "code",
   "execution_count": null,
   "metadata": {},
   "outputs": [],
   "source": [
    "['..\\\\..\\\\datasets\\\\ChatDoctor-HealthCareMagic-100k',\n",
    " '..\\\\..\\\\datasets\\\\ChatDoctor-iCliniq',\n",
    " '..\\\\..\\\\datasets\\\\liveqa_medical_trec2017',\n",
    " '..\\\\..\\\\datasets\\\\medical-eval-sphere',\n",
    " '..\\\\..\\\\datasets\\\\medical_meadow_cord19',\n",
    " '..\\\\..\\\\datasets\\\\medical_meadow_medical_flashcards',\n",
    " '..\\\\..\\\\datasets\\\\medical_meadow_mediqa',\n",
    " '..\\\\..\\\\datasets\\\\medical_meadow_medqa',\n",
    " '..\\\\..\\\\datasets\\\\medical_meadow_mmmlu',\n",
    " '..\\\\..\\\\datasets\\\\medical_meadow_wikidoc',\n",
    " '..\\\\..\\\\datasets\\\\mediQ',\n",
    " '..\\\\..\\\\datasets\\\\MediQ_AskDocs',\n",
    " '..\\\\..\\\\datasets\\\\med_qa',\n",
    " '..\\\\..\\\\datasets\\\\pubmed_qa',\n",
    " '..\\\\..\\\\datasets\\\\README.md']"
   ]
  }
 ],
 "metadata": {
  "kernelspec": {
   "display_name": "Python 3",
   "language": "python",
   "name": "python3"
  },
  "language_info": {
   "codemirror_mode": {
    "name": "ipython",
    "version": 3
   },
   "file_extension": ".py",
   "mimetype": "text/x-python",
   "name": "python",
   "nbconvert_exporter": "python",
   "pygments_lexer": "ipython3",
   "version": "3.12.9"
  }
 },
 "nbformat": 4,
 "nbformat_minor": 2
}
