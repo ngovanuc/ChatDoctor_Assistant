{
 "cells": [
  {
   "cell_type": "markdown",
   "metadata": {},
   "source": [
    "# Preprocessing datasets"
   ]
  },
  {
   "cell_type": "code",
   "execution_count": 1,
   "metadata": {},
   "outputs": [],
   "source": [
    "import numpy as np\n",
    "import pandas as pd\n",
    "import glob\n",
    "import matplotlib.pyplot as plt"
   ]
  },
  {
   "cell_type": "code",
   "execution_count": 6,
   "metadata": {},
   "outputs": [
    {
     "data": {
      "text/plain": [
       "['..\\\\datasets\\\\ChatDoctor-HealthCareMagic-100k',\n",
       " '..\\\\datasets\\\\ChatDoctor-iCliniq',\n",
       " '..\\\\datasets\\\\liveqa_medical_trec2017',\n",
       " '..\\\\datasets\\\\medical-eval-sphere',\n",
       " '..\\\\datasets\\\\medical_meadow_cord19',\n",
       " '..\\\\datasets\\\\medical_meadow_medical_flashcards',\n",
       " '..\\\\datasets\\\\medical_meadow_mediqa',\n",
       " '..\\\\datasets\\\\medical_meadow_medqa',\n",
       " '..\\\\datasets\\\\medical_meadow_mmmlu',\n",
       " '..\\\\datasets\\\\medical_meadow_wikidoc',\n",
       " '..\\\\datasets\\\\mediQ',\n",
       " '..\\\\datasets\\\\MediQ_AskDocs',\n",
       " '..\\\\datasets\\\\med_qa',\n",
       " '..\\\\datasets\\\\pubmed_qa',\n",
       " '..\\\\datasets\\\\README.md']"
      ]
     },
     "execution_count": 6,
     "metadata": {},
     "output_type": "execute_result"
    }
   ],
   "source": [
    "glob.glob(\"..\\\\datasets\\\\*\")"
   ]
  },
  {
   "cell_type": "code",
   "execution_count": null,
   "metadata": {},
   "outputs": [],
   "source": []
  }
 ],
 "metadata": {
  "kernelspec": {
   "display_name": "Python 3",
   "language": "python",
   "name": "python3"
  },
  "language_info": {
   "codemirror_mode": {
    "name": "ipython",
    "version": 3
   },
   "file_extension": ".py",
   "mimetype": "text/x-python",
   "name": "python",
   "nbconvert_exporter": "python",
   "pygments_lexer": "ipython3",
   "version": "3.12.9"
  }
 },
 "nbformat": 4,
 "nbformat_minor": 2
}
