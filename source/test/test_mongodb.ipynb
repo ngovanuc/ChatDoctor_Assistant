{
 "cells": [
  {
   "cell_type": "code",
   "execution_count": 12,
   "metadata": {},
   "outputs": [],
   "source": [
    "import pymongo\n",
    "from pymongo import MongoClient\n",
    "\n",
    "\n",
    "client = MongoClient(\"mongodb://localhost:27017/\")"
   ]
  },
  {
   "cell_type": "code",
   "execution_count": 13,
   "metadata": {},
   "outputs": [],
   "source": [
    "# Getting a Database\n",
    "db = client.test_database\n",
    "# or using client['test_database']\n",
    "\n",
    "# Getting a Collection\n",
    "collection = db.test_collection\n",
    "# or using db['test_collection']"
   ]
  },
  {
   "cell_type": "code",
   "execution_count": 14,
   "metadata": {},
   "outputs": [],
   "source": [
    "import datetime\n",
    "\n",
    "\n",
    "post = {\n",
    "    \"author\":  \"Mike\",\n",
    "    \"text\":  \"My first blog post!\",\n",
    "    \"tags\": [\"mongodb\", \"python\", \"pymongo\"],\n",
    "    \"datetime\": datetime.datetime.now(tz=datetime.timezone.utc)\n",
    "}"
   ]
  },
  {
   "cell_type": "code",
   "execution_count": null,
   "metadata": {},
   "outputs": [
    {
     "data": {
      "text/plain": [
       "ObjectId('67f2aa39c238bf104e42cfea')"
      ]
     },
     "execution_count": 15,
     "metadata": {},
     "output_type": "execute_result"
    }
   ],
   "source": [
    "# Inserting a Document\n",
    "posts = db.posts\n",
    "post_id = posts.insert_one(post).inserted_id\n",
    "post_id"
   ]
  },
  {
   "cell_type": "code",
   "execution_count": 19,
   "metadata": {},
   "outputs": [
    {
     "data": {
      "text/plain": [
       "{'nIndexesWas': 1, 'ns': 'test_database.posts', 'ok': 1.0}"
      ]
     },
     "execution_count": 19,
     "metadata": {},
     "output_type": "execute_result"
    }
   ],
   "source": [
    "db.drop_collection(\"posts\")"
   ]
  },
  {
   "cell_type": "code",
   "execution_count": 23,
   "metadata": {},
   "outputs": [],
   "source": [
    "# print all documents in the collection\n",
    "for post in posts.find():\n",
    "    print(post)"
   ]
  },
  {
   "cell_type": "code",
   "execution_count": 24,
   "metadata": {},
   "outputs": [
    {
     "name": "stdout",
     "output_type": "stream",
     "text": [
      "None\n"
     ]
    }
   ],
   "source": [
    "# add a new field to the document\n",
    "post[\"author\"] = \"John Doe\"\n",
    "posts.update_one({\"_id\": post_id}, {\"$set\": post})\n",
    "# find the document by its ID\n",
    "post = posts.find_one({\"_id\": post_id})\n",
    "print(post)\n"
   ]
  },
  {
   "cell_type": "code",
   "execution_count": 25,
   "metadata": {},
   "outputs": [
    {
     "name": "stdout",
     "output_type": "stream",
     "text": [
      "['admin', 'config', 'local', 'test']\n"
     ]
    }
   ],
   "source": [
    "# show list of databases on local machine\n",
    "print(client.list_database_names())"
   ]
  },
  {
   "cell_type": "code",
   "execution_count": 26,
   "metadata": {},
   "outputs": [
    {
     "name": "stdout",
     "output_type": "stream",
     "text": [
      "['HOST', 'PORT', '__annotations__', '__class__', '__class_getitem__', '__del__', '__delattr__', '__dict__', '__dir__', '__doc__', '__enter__', '__eq__', '__exit__', '__format__', '__ge__', '__getattr__', '__getattribute__', '__getitem__', '__getstate__', '__gt__', '__hash__', '__init__', '__init_subclass__', '__iter__', '__le__', '__lt__', '__module__', '__ne__', '__new__', '__next__', '__orig_bases__', '__parameters__', '__reduce__', '__reduce_ex__', '__repr__', '__setattr__', '__sizeof__', '__str__', '__subclasshook__', '__weakref__', '_after_fork', '_checkout', '_cleanup_cursor_lock', '_cleanup_cursor_no_lock', '_clients', '_close_cursor_now', '_close_cursor_soon', '_closed', '_codec_options', '_conn_for_reads', '_conn_for_writes', '_conn_from_server', '_connect', '_constructor_args', '_database_default_options', '_default_database_name', '_duplicate', '_encrypter', '_end_sessions', '_ensure_session', '_event_listeners', '_get_topology', '_init_background', '_init_kwargs', '_kill_cursor_impl', '_kill_cursors', '_kill_cursors_executor', '_kill_cursors_queue', '_list_databases', '_lock', '_opened', '_options', '_process_kill_cursors', '_process_periodic_tasks', '_process_response', '_read_concern', '_read_preference', '_read_preference_for', '_repr_helper', '_retry_internal', '_retry_with_session', '_retryable_read', '_retryable_write', '_return_server_session', '_run_operation', '_select_server', '_send_cluster_time', '_server_property', '_should_pin_cursor', '_start_session', '_timeout', '_tmp_session', '_topology', '_topology_settings', '_write_concern', '_write_concern_for', 'address', 'arbiters', 'bulk_write', 'close', 'codec_options', 'drop_database', 'get_database', 'get_default_database', 'is_mongos', 'is_primary', 'list_database_names', 'list_databases', 'next', 'nodes', 'options', 'primary', 'read_concern', 'read_preference', 'secondaries', 'server_info', 'start_session', 'topology_description', 'watch', 'write_concern']\n",
      "['__annotations__', '__bool__', '__class__', '__class_getitem__', '__delattr__', '__dict__', '__dir__', '__doc__', '__eq__', '__format__', '__ge__', '__getattr__', '__getattribute__', '__getitem__', '__getstate__', '__gt__', '__hash__', '__init__', '__init_subclass__', '__iter__', '__le__', '__lt__', '__module__', '__ne__', '__new__', '__next__', '__orig_bases__', '__parameters__', '__reduce__', '__reduce_ex__', '__repr__', '__setattr__', '__sizeof__', '__str__', '__subclasshook__', '__weakref__', '_client', '_codec_options', '_command', '_drop_helper', '_get_encrypted_fields', '_list_collection_names', '_list_collections', '_list_collections_helper', '_name', '_read_concern', '_read_preference', '_read_preference_for', '_retryable_read_command', '_timeout', '_write_concern', '_write_concern_for', 'aggregate', 'client', 'codec_options', 'command', 'create_collection', 'cursor_command', 'dereference', 'drop_collection', 'get_collection', 'list_collection_names', 'list_collections', 'name', 'next', 'read_concern', 'read_preference', 'validate_collection', 'watch', 'with_options', 'write_concern']\n"
     ]
    }
   ],
   "source": [
    "# print all function can use for client object\n",
    "print(dir(client))\n",
    "# print all function can use for database object\n",
    "print(dir(db))"
   ]
  },
  {
   "cell_type": "code",
   "execution_count": 29,
   "metadata": {},
   "outputs": [
    {
     "name": "stdout",
     "output_type": "stream",
     "text": [
      "{'_id': ObjectId('67f346772838a8d82aec7568'), 'name': 'ngo van uc', 'age': 'undifined'}\n"
     ]
    }
   ],
   "source": [
    "from pymongo import MongoClient\n",
    "\n",
    "uri = \"mongodb://localhost:27017/\"\n",
    "client = MongoClient(uri)\n",
    "\n",
    "database = client.get_database(\"test\")\n",
    "authors = database.get_collection(\"authors\")\n",
    "\n",
    "query = {\"name\": \"ngo van uc\"}\n",
    "author = authors.find_one(query)\n",
    "print(author)\n",
    "\n",
    "client.close()"
   ]
  },
  {
   "cell_type": "code",
   "execution_count": 30,
   "metadata": {},
   "outputs": [
    {
     "name": "stdout",
     "output_type": "stream",
     "text": [
      "Inserted document ID: 67f34b3ac238bf104e42cfed\n",
      "Found student: {'_id': ObjectId('67f34b3ac238bf104e42cfed'), 'name': 'Nguyen Van A', 'age': 20, 'major': 'Computer Science'}\n",
      "Updated student: {'_id': ObjectId('67f34b3ac238bf104e42cfed'), 'name': 'Nguyen Van A', 'age': 21, 'major': 'Computer Science'}\n",
      "Found student: {'_id': ObjectId('67f34b3ac238bf104e42cfed'), 'name': 'Nguyen Van A', 'age': 21, 'major': 'Computer Science'}\n"
     ]
    }
   ],
   "source": [
    "# create a new database and collection name (KhoaCNTT, sinhvien)\n",
    "client = MongoClient(\"mongodb://localhost:27017/\")\n",
    "db = client['KhoaCNTT']\n",
    "collection = db['sinhvien']\n",
    "\n",
    "# create a new document\n",
    "student = {\n",
    "    \"name\": \"Nguyen Van A\",\n",
    "    \"age\": 20,\n",
    "    \"major\": \"Computer Science\"\n",
    "}\n",
    "\n",
    "# insert the document into the collection\n",
    "result = collection.insert_one(student)\n",
    "print(\"Inserted document ID:\", result.inserted_id)\n",
    "\n",
    "# find \"Nguyen Van A \" in the collection\n",
    "query = {\"name\": \"Nguyen Van A\"}\n",
    "student = collection.find_one(query)\n",
    "print(\"Found student:\", student)\n",
    "\n",
    "# update the document\n",
    "update_query = {\"name\": \"Nguyen Van A\"}\n",
    "update = {\"$set\": {\"age\": 21}}\n",
    "collection.update_one(update_query, update)\n",
    "\n",
    "print(\"Updated student:\", collection.find_one(query))\n",
    "\n",
    "# print Nguyen Van A in the collection\n",
    "query = {\"name\": \"Nguyen Van A\"}\n",
    "student = collection.find_one(query)\n",
    "print(\"Found student:\", student)\n"
   ]
  },
  {
   "cell_type": "markdown",
   "metadata": {},
   "source": [
    "# Synchronous "
   ]
  },
  {
   "cell_type": "code",
   "execution_count": 2,
   "metadata": {},
   "outputs": [
    {
     "name": "stdout",
     "output_type": "stream",
     "text": [
      "Connected successfully\n"
     ]
    }
   ],
   "source": [
    "from pymongo import MongoClient\n",
    "\n",
    "client = MongoClient(\"mongodb://localhost:27017/\")\n",
    "\n",
    "try:\n",
    "    # start example code here\n",
    "\n",
    "    # end example code here\n",
    "\n",
    "    client.admin.command(\"ping\")\n",
    "    print(\"Connected successfully\")\n",
    "\n",
    "    # other application code\n",
    "\n",
    "    client.close()\n",
    "\n",
    "except Exception as e:\n",
    "    raise Exception(\n",
    "        \"The following error occurred: \", e)\n"
   ]
  },
  {
   "cell_type": "markdown",
   "metadata": {},
   "source": [
    "# Asynchronous "
   ]
  },
  {
   "cell_type": "code",
   "execution_count": 1,
   "metadata": {},
   "outputs": [
    {
     "ename": "RuntimeError",
     "evalue": "asyncio.run() cannot be called from a running event loop",
     "output_type": "error",
     "traceback": [
      "\u001b[31m---------------------------------------------------------------------------\u001b[39m",
      "\u001b[31mRuntimeError\u001b[39m                              Traceback (most recent call last)",
      "\u001b[36mCell\u001b[39m\u001b[36m \u001b[39m\u001b[32mIn[1]\u001b[39m\u001b[32m, line 24\u001b[39m\n\u001b[32m     20\u001b[39m     \u001b[38;5;28;01mexcept\u001b[39;00m \u001b[38;5;167;01mException\u001b[39;00m \u001b[38;5;28;01mas\u001b[39;00m e:\n\u001b[32m     21\u001b[39m         \u001b[38;5;28;01mraise\u001b[39;00m \u001b[38;5;167;01mException\u001b[39;00m(\n\u001b[32m     22\u001b[39m             \u001b[33m\"\u001b[39m\u001b[33mThe following error occurred: \u001b[39m\u001b[33m\"\u001b[39m, e)\n\u001b[32m---> \u001b[39m\u001b[32m24\u001b[39m \u001b[43masyncio\u001b[49m\u001b[43m.\u001b[49m\u001b[43mrun\u001b[49m\u001b[43m(\u001b[49m\u001b[43mmain\u001b[49m\u001b[43m(\u001b[49m\u001b[43m)\u001b[49m\u001b[43m)\u001b[49m\n",
      "\u001b[36mFile \u001b[39m\u001b[32mc:\\Users\\NGOVANUC\\.conda\\envs\\.venv\\Lib\\asyncio\\runners.py:191\u001b[39m, in \u001b[36mrun\u001b[39m\u001b[34m(main, debug, loop_factory)\u001b[39m\n\u001b[32m    161\u001b[39m \u001b[38;5;250m\u001b[39m\u001b[33;03m\"\"\"Execute the coroutine and return the result.\u001b[39;00m\n\u001b[32m    162\u001b[39m \n\u001b[32m    163\u001b[39m \u001b[33;03mThis function runs the passed coroutine, taking care of\u001b[39;00m\n\u001b[32m   (...)\u001b[39m\u001b[32m    187\u001b[39m \u001b[33;03m    asyncio.run(main())\u001b[39;00m\n\u001b[32m    188\u001b[39m \u001b[33;03m\"\"\"\u001b[39;00m\n\u001b[32m    189\u001b[39m \u001b[38;5;28;01mif\u001b[39;00m events._get_running_loop() \u001b[38;5;129;01mis\u001b[39;00m \u001b[38;5;129;01mnot\u001b[39;00m \u001b[38;5;28;01mNone\u001b[39;00m:\n\u001b[32m    190\u001b[39m     \u001b[38;5;66;03m# fail fast with short traceback\u001b[39;00m\n\u001b[32m--> \u001b[39m\u001b[32m191\u001b[39m     \u001b[38;5;28;01mraise\u001b[39;00m \u001b[38;5;167;01mRuntimeError\u001b[39;00m(\n\u001b[32m    192\u001b[39m         \u001b[33m\"\u001b[39m\u001b[33masyncio.run() cannot be called from a running event loop\u001b[39m\u001b[33m\"\u001b[39m)\n\u001b[32m    194\u001b[39m \u001b[38;5;28;01mwith\u001b[39;00m Runner(debug=debug, loop_factory=loop_factory) \u001b[38;5;28;01mas\u001b[39;00m runner:\n\u001b[32m    195\u001b[39m     \u001b[38;5;28;01mreturn\u001b[39;00m runner.run(main)\n",
      "\u001b[31mRuntimeError\u001b[39m: asyncio.run() cannot be called from a running event loop"
     ]
    }
   ],
   "source": [
    "import asyncio\n",
    "from pymongo import AsyncMongoClient\n",
    "\n",
    "uri = \"mongodb://localhost:27017/\"\n",
    "client = AsyncMongoClient(uri)\n",
    "\n",
    "async def main():\n",
    "    try:\n",
    "        # start example code here\n",
    "\n",
    "        # end example code here\n",
    "\n",
    "        await client.admin.command(\"ping\")\n",
    "        print(\"Connected successfully\")\n",
    "\n",
    "        # other application code\n",
    "\n",
    "        await client.close()\n",
    "\n",
    "    except Exception as e:\n",
    "        raise Exception(\n",
    "            \"The following error occurred: \", e)\n",
    "\n",
    "asyncio.run(main())"
   ]
  }
 ],
 "metadata": {
  "kernelspec": {
   "display_name": "Python 3",
   "language": "python",
   "name": "python3"
  },
  "language_info": {
   "codemirror_mode": {
    "name": "ipython",
    "version": 3
   },
   "file_extension": ".py",
   "mimetype": "text/x-python",
   "name": "python",
   "nbconvert_exporter": "python",
   "pygments_lexer": "ipython3",
   "version": "3.12.9"
  }
 },
 "nbformat": 4,
 "nbformat_minor": 2
}
